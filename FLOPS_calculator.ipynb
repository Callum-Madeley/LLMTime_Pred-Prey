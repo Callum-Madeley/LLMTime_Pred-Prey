{
 "cells": [
  {
   "cell_type": "code",
   "execution_count": null,
   "metadata": {},
   "outputs": [],
   "source": [
    "# model parameters\n",
    "\"\"\"\n",
    "T = input sequence length\n",
    "batch_size = batch size\n",
    "d_m = word embedding vector size\n",
    "V = vocabulary size\n",
    "h_u = up projection\n",
    "H = number of heads\n",
    "L = number of layers\n",
    "r= LoRA rank\n",
    "\"\"\"\n",
    "\n",
    "\n",
    "def softmax_flops(T):\n",
    "    \"\"\"\n",
    "    Softmax activation\n",
    "    \"\"\"\n",
    "\n",
    "    return 12*T**2\n",
    "\n",
    "\n",
    "def linear_layer_flops(in_dim, out_dim, T, bias=True):\n",
    "    \"\"\"\n",
    "    linear layer (fully connected layer): Y=WX + b\n",
    "    Y: output (out_dim, T), W: weights (out_dim x in_dim), X: input (in_dim x T),  b: bias (out_dim x T)\n",
    "    \"\"\"\n",
    "    matrix_multiplication = out_dim * T * (2 * in_dim - 1) \n",
    "    add_bias = out_dim * T\n",
    "    if bias:\n",
    "        return matrix_multiplication + add_bias\n",
    "    else:\n",
    "        return matrix_multiplication\n",
    "    \n",
    "\n",
    "def LoRa_layer_flops(r, d_m, d_h, T):\n",
    "    \"\"\"FLOPS for one loRa layer\n",
    "    rank decomposition reduces compute\n",
    "\n",
    "    \"\"\"\n",
    "    flops = 0\n",
    "\n",
    "    flops += linear_layer_flops(d_m, d_h, T, bias=False) + linear_layer_flops(r, d_h, d_m, bias=False) + linear_layer_flops(d_m, d_h, T, bias=True)\n",
    "\n",
    "    return flops\n",
    "\n",
    "\n",
    "def one_head_attention_flops(r, d_m, d_h, T):\n",
    "    \"\"\"\n",
    "    Compute FLOPs for one head of multi-head attention.\n",
    "    Includes query, key, value projections, attention scores, softmax, and output projection.\n",
    "    \"\"\"\n",
    "    flops = 0\n",
    "    \n",
    "    # One linear layer with biases for the Keys\n",
    "    flops += linear_layer_flops(d_m, d_h, T, bias=True)\n",
    "    #The LoRa layers for the Queries and Values\n",
    "    flops += 2*LoRa_layer_flops(r, d_m, d_h, T)\n",
    "\n",
    "    # Attention scores \n",
    "    flops += (2*T**2*d_h) + T**2\n",
    "    \n",
    "    # Softmax over attention scores\n",
    "    flops += softmax_flops(T)\n",
    "    \n",
    "    # Weighted sum of values: V * softmax(T) shapes\n",
    "    flops += linear_layer_flops(d_m, d_h, T, bias=False)\n",
    "\n",
    "    return flops\n",
    "\n",
    "\n",
    "def multi_head_attention_flops(r, d_m, H, T):\n",
    "    \"\"\"\n",
    "    Compute FLOPs for multi-head attention with H heads.\n",
    "    Includes query, key, value projections, attention scores, softmax, and output projection.\n",
    "    \"\"\"\n",
    "    d_h = d_m // H\n",
    "    flops = 0\n",
    "    \n",
    "    # H heads\n",
    "    flops += H * one_head_attention_flops(r, d_m, d_h, T)\n",
    "\n",
    "    # Transposing each head, concatenating add 0 flops, and then apply linear leayer without bias\n",
    "    flops += linear_layer_flops(H*d_h, d_m, T, bias=False)\n",
    "\n",
    "    return flops\n",
    "\n",
    "\n",
    "def silu_flops(h_u, d_m, T):\n",
    "\n",
    "    flops=0\n",
    "    # Activation on gate projection\n",
    "    flops = 12*T*h_u\n",
    "\n",
    "    # Matrix Multiplication of X^Tsigmoid(X) \n",
    "    flops += 2*T**2*h_u\n",
    "\n",
    "    return flops\n",
    "\n",
    "\n",
    "def RMSNorm_layer_flops(d_m, T, L):\n",
    "\n",
    "    flops = 0\n",
    "    flops += (d_m+12) * (2*L + 1) * T\n",
    " \n",
    "    return flops"
   ]
  },
  {
   "cell_type": "code",
   "execution_count": 309,
   "metadata": {},
   "outputs": [],
   "source": [
    "def decoder_layer_flops(r, d_m, H, T, h_u):\n",
    "    \"\"\"\n",
    "    FLOPS for one decoder layer, where each layer contains Multi-head self-attention, 2 RMSNorm and Up/Down projection with SiLU activation\n",
    "    \"\"\"\n",
    "\n",
    "    flops=0\n",
    "\n",
    "    #Multi-head self-attention\n",
    "    flops += multi_head_attention_flops(r,d_m, H, T)\n",
    "\n",
    "    # Residual connection negligible\n",
    "\n",
    "    # Two linear layer (Up projection) without bias--> (h_u,N)\n",
    "    flops += 2*linear_layer_flops(d_m, h_u, T, bias=False)\n",
    "\n",
    "    #SiLU activation to G and U\n",
    "    flops += silu_flops(h_u, d_m, T)\n",
    "\n",
    "    # One linear layer (Down projection) without bias-->Z\n",
    "    flops += linear_layer_flops(h_u, d_m, T, bias=False)\n",
    "\n",
    "\n",
    "    return flops"
   ]
  },
  {
   "cell_type": "code",
   "execution_count": 310,
   "metadata": {},
   "outputs": [],
   "source": [
    "def forward_pass_flops(batch_size,r, d_m, V, T, h_u, H, L):\n",
    "    \"\"\"Compute the FLOPs for a forward pass.\n",
    "    \"\"\"\n",
    "    # One foward pass K MLP layer, one RMSNorm layer and a linear layer plus bias\n",
    "    return batch_size * (L*decoder_layer_flops(r,d_m, H, T, h_u) + RMSNorm_layer_flops(d_m,T,L) + linear_layer_flops(d_m, V , T, bias=True))\n"
   ]
  },
  {
   "cell_type": "code",
   "execution_count": 311,
   "metadata": {},
   "outputs": [],
   "source": [
    "# total flops are 3x forwards pass\n",
    "def total_flops(batch_size,r, d_m, V, T, h_u, H, L):\n",
    "    \n",
    "    return 3*forward_pass_flops(batch_size,r, d_m, V, T, h_u, H, L)"
   ]
  },
  {
   "cell_type": "code",
   "execution_count": null,
   "metadata": {},
   "outputs": [],
   "source": [
    "# model parameters\n",
    "T = 512\n",
    "batch_size = 4\n",
    "d_m = 896\n",
    "V = 151936\n",
    "h_u = 4864\n",
    "H = 6\n",
    "L = 24\n",
    "r=4"
   ]
  },
  {
   "cell_type": "code",
   "execution_count": null,
   "metadata": {},
   "outputs": [
    {
     "name": "stdout",
     "output_type": "stream",
     "text": [
      "decoder layer: 532873998336\n",
      "RMSNorm: 1116215296\n",
      "Language Modelling Head: 139401887744\n"
     ]
    }
   ],
   "source": [
    "# compare non-negligible FLOP contributions\n",
    "print(\"Decoder Layer:\",L*decoder_layer_flops(r,d_m, H, T, h_u))\n",
    "print(\"RMSNorm:\",(2*L + 1) * RMSNorm_layer_flops(d_m,T, L))\n",
    "print(\"Language Modelling Head:\",linear_layer_flops(d_m, V , T, bias=True))"
   ]
  },
  {
   "cell_type": "code",
   "execution_count": 322,
   "metadata": {},
   "outputs": [
    {
     "name": "stdout",
     "output_type": "stream",
     "text": [
      "FLOPS for one step: 8.067584e+12\n"
     ]
    }
   ],
   "source": [
    "# FLOPS for a single training step\n",
    "one = total_flops(batch_size,r, d_m, V, T, h_u, H, L)\n",
    "\n",
    "print(f\"FLOPS for one step: {one:e}\")"
   ]
  },
  {
   "cell_type": "code",
   "execution_count": 323,
   "metadata": {},
   "outputs": [
    {
     "data": {
      "text/plain": [
       "12395.28464798658"
      ]
     },
     "execution_count": 323,
     "metadata": {},
     "output_type": "execute_result"
    }
   ],
   "source": [
    "# maximum number of training steps\n",
    "10**17 / one"
   ]
  },
  {
   "cell_type": "code",
   "execution_count": null,
   "metadata": {},
   "outputs": [
    {
     "name": "stdout",
     "output_type": "stream",
     "text": [
      "FLOPS for 12395 steps: 9.999770e+16\n"
     ]
    }
   ],
   "source": [
    "steps = 12395\n",
    "print(f\"FLOPS for {steps} steps: {one*steps:e}\")"
   ]
  }
 ],
 "metadata": {
  "kernelspec": {
   "display_name": "base",
   "language": "python",
   "name": "python3"
  },
  "language_info": {
   "codemirror_mode": {
    "name": "ipython",
    "version": 3
   },
   "file_extension": ".py",
   "mimetype": "text/x-python",
   "name": "python",
   "nbconvert_exporter": "python",
   "pygments_lexer": "ipython3",
   "version": "3.12.4"
  }
 },
 "nbformat": 4,
 "nbformat_minor": 2
}
