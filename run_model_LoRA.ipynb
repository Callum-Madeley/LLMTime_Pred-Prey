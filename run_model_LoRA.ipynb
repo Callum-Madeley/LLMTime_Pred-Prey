{
  "cells": [
    {
      "cell_type": "code",
      "execution_count": null,
      "metadata": {
        "id": "ZNt3XB7Ruf7q"
      },
      "outputs": [],
      "source": [
        "# import modules for data preprocessing & qwen\n",
        "\n",
        "from transformers import AutoModelForCausalLM, AutoTokenizer\n",
        "\n",
        "import matplotlib.pyplot as plt\n",
        "import numpy as np\n",
        "import pandas as pd\n",
        "\n",
        "import h5py\n",
        "\n",
        "import wandb\n",
        "\n",
        "import tempfile\n",
        "\n",
        "\n",
        "# Implement modules for LoRA skeleton\n",
        "\n",
        "import math\n",
        "\n",
        "import torch\n",
        "import torch.nn as nn\n",
        "from torch.utils.data import DataLoader, TensorDataset\n",
        "from tqdm import tqdm\n",
        "from accelerate import Accelerator\n",
        "\n",
        "from itertools import cycle\n",
        "import gc\n",
        "import os"
      ]
    },
    {
      "cell_type": "code",
      "execution_count": null,
      "metadata": {
        "colab": {
          "base_uri": "https://localhost:8080/"
        },
        "id": "43dB44eJunsZ",
        "outputId": "17ad41db-48dd-4b1e-f57e-596c9018c361"
      },
      "outputs": [
        {
          "name": "stdout",
          "output_type": "stream",
          "text": [
            "Sun Mar 30 19:49:18 2025       \n",
            "+-----------------------------------------------------------------------------------------+\n",
            "| NVIDIA-SMI 550.54.15              Driver Version: 550.54.15      CUDA Version: 12.4     |\n",
            "|-----------------------------------------+------------------------+----------------------+\n",
            "| GPU  Name                 Persistence-M | Bus-Id          Disp.A | Volatile Uncorr. ECC |\n",
            "| Fan  Temp   Perf          Pwr:Usage/Cap |           Memory-Usage | GPU-Util  Compute M. |\n",
            "|                                         |                        |               MIG M. |\n",
            "|=========================================+========================+======================|\n",
            "|   0  NVIDIA L4                      Off |   00000000:00:03.0 Off |                    0 |\n",
            "| N/A   52C    P8             12W /   72W |       0MiB /  23034MiB |      0%      Default |\n",
            "|                                         |                        |                  N/A |\n",
            "+-----------------------------------------+------------------------+----------------------+\n",
            "                                                                                         \n",
            "+-----------------------------------------------------------------------------------------+\n",
            "| Processes:                                                                              |\n",
            "|  GPU   GI   CI        PID   Type   Process name                              GPU Memory |\n",
            "|        ID   ID                                                               Usage      |\n",
            "|=========================================================================================|\n",
            "|  No running processes found                                                             |\n",
            "+-----------------------------------------------------------------------------------------+\n"
          ]
        }
      ],
      "source": [
        "# check gpu\n",
        "gpu_info = !nvidia-smi\n",
        "gpu_info = '\\n'.join(gpu_info)\n",
        "if gpu_info.find('failed') >= 0:\n",
        "  print('Not connected to a GPU')\n",
        "else:\n",
        "  print(gpu_info)"
      ]
    },
    {
      "cell_type": "code",
      "execution_count": null,
      "metadata": {
        "id": "Tq27NxzSuoVk"
      },
      "outputs": [],
      "source": [
        "# load data\n",
        "\n",
        "with h5py.File(\"code\\lotka_volterra_data.h5\",\"r\") as f:\n",
        "\n",
        "    # access the full dataset\n",
        "    # dataset has format [model, time_points, predator/prey]\n",
        "    # dataset has dimensions [1000, 100, 2]\n",
        "\n",
        "    trajectories = f[\"trajectories\"][:]\n",
        "    time_points = f[\"time\"][:]\n",
        "\n",
        "    # access a single trajectory\n",
        "    system_id = 0 # first system\n",
        "\n",
        "    # first 100 time points\n",
        "    prey = trajectories[system_id, :, 0]\n",
        "    predator = trajectories[system_id, :, 1]\n",
        "    times = time_points[:]\n",
        "\n",
        "    # whole dataset\n",
        "\n",
        "    prey_all = trajectories[:, :, 0]\n",
        "    predator_all = trajectories[:, :, 1]\n",
        "    expanded_times = np.tile(times, (1000, 1))  # Repeat along a new axis"
      ]
    },
    {
      "cell_type": "code",
      "execution_count": null,
      "metadata": {
        "id": "t9WqhpBRurqO"
      },
      "outputs": [],
      "source": [
        "# define scaling & inverse scaling of dataset\n",
        "\n",
        "# For inital scaling do [data, data, inv = False]\n",
        "# For inverse scaling do [scaled data, data, inv = True]\n",
        "\n",
        "def scaling(x, data, alpha=0.95, inv = bool):\n",
        "\n",
        "    \"\"\"\n",
        "    Args:\n",
        "        data (array-like) - dataset to derive scaling from\n",
        "        x (array-like) - data to be transformed\n",
        "        alpha (float) - quantile for scaling (alpha = 0.95) corresponds to 95% of the data lying in the range [0,1]\n",
        "        inv (boolean) - whether performing transformation (False) or inverse transformation (True)\n",
        "\n",
        "    \"\"\"\n",
        "    q = np.maximum(np.quantile(np.abs(data), alpha), .01) #avoids scaling by values < 0.001\n",
        "\n",
        "    if inv == False:\n",
        "      return x / q\n",
        "\n",
        "    else:\n",
        "        return x * np.array(q)"
      ]
    },
    {
      "cell_type": "code",
      "execution_count": null,
      "metadata": {
        "id": "f8q_DZ8xuxHj"
      },
      "outputs": [],
      "source": [
        "# pre-process data\n",
        "\n",
        "#scaling\n",
        "data = scaling([prey_all,predator_all], [prey_all, predator_all], alpha=0.5, inv=False)\n",
        "\n",
        "# [:, trajectory][pred/prey]\n",
        "# tokenize entire dataset (encoding)\n",
        "tokenize_whole_dataset = [\n",
        "    \";\".join(f\"{x:.2f},{y:.2f}\" for x, y in zip(prey_row, predator_row))\n",
        "    for prey_row, predator_row in zip(data[:,:][0], data[:,:][1])\n",
        "]"
      ]
    },
    {
      "cell_type": "code",
      "execution_count": null,
      "metadata": {
        "id": "7X2cDrp3uzX7"
      },
      "outputs": [],
      "source": [
        "# split into training (80%), test (10%) & validation (10%)\n",
        "\n",
        "train = tokenize_whole_dataset[0:800]\n",
        "test = tokenize_whole_dataset[900:1000]\n",
        "val = tokenize_whole_dataset[800:900]"
      ]
    },
    {
      "cell_type": "code",
      "execution_count": null,
      "metadata": {
        "id": "9JV0Veofvkb2"
      },
      "outputs": [],
      "source": [
        "# Trimming function\n",
        "def trim_arrays(arrays, target_length):\n",
        "    trimmed_arrays = []\n",
        "    for arr in arrays:\n",
        "\n",
        "        # Keep only the first 799 entries\n",
        "        trimmed_entries = arr[:target_length]\n",
        "\n",
        "        trimmed_arrays.append(trimmed_entries)\n",
        "\n",
        "    return trimmed_arrays\n",
        "\n",
        "def trim_arrays_neg(arrays, target_length):\n",
        "    trimmed_arrays = []\n",
        "    for arr in arrays:\n",
        "\n",
        "        # Keep only the first 799 entries\n",
        "        trimmed_entries = arr[target_length:]\n",
        "\n",
        "        trimmed_arrays.append(trimmed_entries)\n",
        "\n",
        "    return trimmed_arrays\n",
        "\n",
        "# Trim the arrays\n",
        "test_input = trim_arrays(test, target_length=799)\n",
        "\n",
        "inputs = test_input\n",
        "\n"
      ]
    },
    {
      "cell_type": "code",
      "execution_count": null,
      "metadata": {
        "id": "tRMAOuehu9ef"
      },
      "outputs": [],
      "source": [
        "# Qwen model & tokenizer\n",
        "\n",
        "def load_qwen():\n",
        "    model_name = \"Qwen/Qwen2.5-0.5B-Instruct\"\n",
        "    tokenizer = AutoTokenizer.from_pretrained(model_name, trust_remote_code=True)\n",
        "    model = AutoModelForCausalLM.from_pretrained(model_name, trust_remote_code=True)\n",
        "\n",
        "    # Freeze all parameters except LM head bias\n",
        "    for param in model.parameters():\n",
        "        param.requires_grad = False\n",
        "\n",
        "    # Add trainable bias to logits\n",
        "    assert model.lm_head.bias is None\n",
        "    model.lm_head.bias = torch.nn.Parameter(\n",
        "        torch.zeros(model.config.vocab_size, device=model.device)\n",
        "    )\n",
        "    model.lm_head.bias.requires_grad = True\n",
        "\n",
        "    return model, tokenizer"
      ]
    },
    {
      "cell_type": "code",
      "execution_count": null,
      "metadata": {
        "colab": {
          "base_uri": "https://localhost:8080/",
          "height": 363,
          "referenced_widgets": [
            "be3ab9fdf7a547e8b75d0c9fee4f454c",
            "abc9b675c13e4be3a2e77d1065a5ee5f",
            "a2690ec9bf264b97ae4543afaa2920da",
            "a2908f9ba2f0400bb2d0e0d0e3b29d96",
            "86497f6b096440d9a5e74d4416478f64",
            "758c71b7e51140fb9b16cfb54e4e34c9",
            "840830fc3bf4469f96c2c0c208c36ef8",
            "6bcc27573c27409090311a4c1cc201ba",
            "df6a2e0338c440798073c3193b29db7a",
            "8a2b1791c80440d8a9919b4d66ccd693",
            "284e5bee8b7d4ee881d3eb213cc9b5ce",
            "2e544cf325f749339a0a065e98a7bfc7",
            "0fd03d05fa004123a899fdca09442d68",
            "1a99c58b480b4dbfbec816406499494c",
            "b0c9fc65a3534addb78f18e87ff47afd",
            "eb863697a2024a4292336fc68af03bfa",
            "a85bbbca251d45c9af497ef6d2944f81",
            "dc537de4d5034c72ae5e097dfa2d24d3",
            "af21e4b656ec4d2bba0e8e8e16a4affc",
            "86af8a8990be4266841151fba659e928",
            "1ba190f5093d40ca8e2cdb58e88490f6",
            "6eea3200b6a54d8782fc23c8bb10c755",
            "3085929c648e48b7bbcd542eed11a900",
            "f3639c1245874e91b926435ec2fbb64b",
            "29d420c90f694c2399220dad890f8004",
            "00572c58406f43e8b88b5518e9e33632",
            "8d89ff14d5234046999d7b31c64c08af",
            "dcf37cd4a4c84387942dbf4434fbd1fb",
            "7976d75622934f828e4a20b9b8d7c02d",
            "f4c717a1c07d482abe3dbef48c97b84b",
            "92d8ece5e2724485aed8f0d5d81f62f8",
            "8a6ecdf6563d46928858670a989c842f",
            "bdc62dd561cc4bd9a9379e5d16b020f4",
            "14731ce1607847079a22455b84470e1a",
            "acf657298feb41f890ed56894b784339",
            "c5e7695fc902469cb6494260ff8dd6ec",
            "1715bbca838f4c8189a01ee2263b1357",
            "7a2c530ad1944ffd80444db24d0e6ff1",
            "7e6cbaed470144be9c6816cdd9a9b6a8",
            "f13accc63a0149d79719ebe1194077bb",
            "3ad35ecd2bf645f5afdce01ebd2b3756",
            "a2f76a59b34f448ead060a8f86089acd",
            "a3c373c1777a4239812392fa468bd577",
            "cc5288c0a00440eabbfca738e0e2300b",
            "93d9223e999846a9b48e91dad791903f",
            "bd4b405e01d44a39b2d8bb5c81d07625",
            "e29af9110e2f4bf5a1c87cbd4dfa0bc1",
            "ff570ee6465b40c390679e8c466743ca",
            "bf6f566066ed4a75a2899f7de3d386b3",
            "cf8045a6d686400b9e04f43ecfd9f92c",
            "354751f7f0b84740b64fe803b643011f",
            "a1b4dabf9c0a4516afa31642eaa66098",
            "4dea4317d387490b93ea0d6d201dcb4c",
            "430d3a1e942e481e99705ea6526b1f18",
            "1d6f20f9f68d474b9f2cbca98185af10",
            "757e63107b4c415395cbec6a586f293f",
            "8347a48e325c4862b591da3b06a6c491",
            "9de72a7291d5477f80f6210fb1d928cf",
            "192455c2b8314897acb63ec086a152cd",
            "88ba95a13ec94ccc8e85bd9c9d291008",
            "dec5d65ba1fb4548a695d26a40483061",
            "25757fa7ca35473290a94af013fcc19c",
            "32b6b3eb21e741aca50962a3847875f2",
            "38747e974a6e450d8ee6448e2f8914fb",
            "b2e2ea193efb41a7a5998d984cf14896",
            "1e739b2deaa943eba3b366284d62b35b",
            "43299edc01f147579af37e4df9a49f2a",
            "37c421ad7a75413db3bed12b73cf51c6",
            "05f0a53549454829880161dc1b02cd66",
            "51d6e844445a45e98c281fd6034188f8",
            "1c2e555191834968b656a6606aabdf6e",
            "9b3bd60ee06d472e827506c01efe10bb",
            "ce1401929a014e42a353cf97c6de5814",
            "b8d38a4aea2749e983edffcf41d6f34f",
            "9502fac6bf614ec683e39a829e6bf923",
            "3c60c3d79c3e49a0afec3927e366fb26",
            "f420f1d0d3594b0a9bdbf36b38764b65"
          ]
        },
        "id": "s4zhIg7bu-Gj",
        "outputId": "e3ca19d3-49fe-4b46-ede4-a9e847a94850"
      },
      "outputs": [
        {
          "name": "stderr",
          "output_type": "stream",
          "text": [
            "/usr/local/lib/python3.11/dist-packages/huggingface_hub/utils/_auth.py:94: UserWarning: \n",
            "The secret `HF_TOKEN` does not exist in your Colab secrets.\n",
            "To authenticate with the Hugging Face Hub, create a token in your settings tab (https://huggingface.co/settings/tokens), set it as secret in your Google Colab and restart your session.\n",
            "You will be able to reuse this secret in all of your notebooks.\n",
            "Please note that authentication is recommended but still optional to access public models or datasets.\n",
            "  warnings.warn(\n"
          ]
        },
        {
          "data": {
            "application/vnd.jupyter.widget-view+json": {
              "model_id": "be3ab9fdf7a547e8b75d0c9fee4f454c",
              "version_major": 2,
              "version_minor": 0
            },
            "text/plain": [
              "tokenizer_config.json:   0%|          | 0.00/7.30k [00:00<?, ?B/s]"
            ]
          },
          "metadata": {},
          "output_type": "display_data"
        },
        {
          "data": {
            "application/vnd.jupyter.widget-view+json": {
              "model_id": "2e544cf325f749339a0a065e98a7bfc7",
              "version_major": 2,
              "version_minor": 0
            },
            "text/plain": [
              "vocab.json:   0%|          | 0.00/2.78M [00:00<?, ?B/s]"
            ]
          },
          "metadata": {},
          "output_type": "display_data"
        },
        {
          "data": {
            "application/vnd.jupyter.widget-view+json": {
              "model_id": "3085929c648e48b7bbcd542eed11a900",
              "version_major": 2,
              "version_minor": 0
            },
            "text/plain": [
              "merges.txt:   0%|          | 0.00/1.67M [00:00<?, ?B/s]"
            ]
          },
          "metadata": {},
          "output_type": "display_data"
        },
        {
          "data": {
            "application/vnd.jupyter.widget-view+json": {
              "model_id": "14731ce1607847079a22455b84470e1a",
              "version_major": 2,
              "version_minor": 0
            },
            "text/plain": [
              "tokenizer.json:   0%|          | 0.00/7.03M [00:00<?, ?B/s]"
            ]
          },
          "metadata": {},
          "output_type": "display_data"
        },
        {
          "data": {
            "application/vnd.jupyter.widget-view+json": {
              "model_id": "93d9223e999846a9b48e91dad791903f",
              "version_major": 2,
              "version_minor": 0
            },
            "text/plain": [
              "config.json:   0%|          | 0.00/659 [00:00<?, ?B/s]"
            ]
          },
          "metadata": {},
          "output_type": "display_data"
        },
        {
          "data": {
            "application/vnd.jupyter.widget-view+json": {
              "model_id": "757e63107b4c415395cbec6a586f293f",
              "version_major": 2,
              "version_minor": 0
            },
            "text/plain": [
              "model.safetensors:   0%|          | 0.00/988M [00:00<?, ?B/s]"
            ]
          },
          "metadata": {},
          "output_type": "display_data"
        },
        {
          "name": "stderr",
          "output_type": "stream",
          "text": [
            "Sliding Window Attention is enabled but not implemented for `sdpa`; unexpected results may be encountered.\n"
          ]
        },
        {
          "data": {
            "application/vnd.jupyter.widget-view+json": {
              "model_id": "43299edc01f147579af37e4df9a49f2a",
              "version_major": 2,
              "version_minor": 0
            },
            "text/plain": [
              "generation_config.json:   0%|          | 0.00/242 [00:00<?, ?B/s]"
            ]
          },
          "metadata": {},
          "output_type": "display_data"
        }
      ],
      "source": [
        "# LoRA implementation\n",
        "\n",
        "class LoRALinear(nn.Module):\n",
        "    def __init__(self, original_linear: nn.Linear, r: int, alpha: int = None):\n",
        "        super().__init__()\n",
        "        assert isinstance(original_linear, nn.Linear)\n",
        "        self.original_linear = original_linear\n",
        "        self.original_linear.weight.requires_grad = False\n",
        "        if self.original_linear.bias is not None:\n",
        "            self.original_linear.bias.requires_grad = False\n",
        "        in_dim = original_linear.in_features\n",
        "        out_dim = original_linear.out_features\n",
        "        self.r = r\n",
        "        self.alpha = alpha if alpha else r\n",
        "\n",
        "        device = original_linear.weight.device\n",
        "        self.A = nn.Parameter(torch.empty(r, in_dim, device=device))\n",
        "        self.B = nn.Parameter(torch.zeros(out_dim, r, device=device))\n",
        "\n",
        "        # Initialise A with He initialization\n",
        "        nn.init.kaiming_normal_(self.A, nonlinearity=\"linear\")\n",
        "\n",
        "    def forward(self, x):\n",
        "        base_out = self.original_linear(x)\n",
        "        lora_out = (x @ self.A.T) @ self.B.T\n",
        "        return base_out + lora_out * (self.alpha / self.r)\n",
        "\n",
        "\n",
        "# load model & tokenizer\n",
        "\n",
        "\n",
        "model, tokenizer = load_qwen()\n",
        "\n",
        "lora_rank = 4\n",
        "\n",
        "# Actually apply LoRA to the model:\n",
        "for layer in model.model.layers:\n",
        "    layer.self_attn.q_proj = LoRALinear(layer.self_attn.q_proj, r=lora_rank)\n",
        "    layer.self_attn.v_proj = LoRALinear(layer.self_attn.v_proj, r=lora_rank)\n",
        "# ^These are the parts that will actually be trained!\n",
        "lora_params = (p for p in model.parameters() if p.requires_grad)"
      ]
    },
    {
      "cell_type": "code",
      "execution_count": null,
      "metadata": {},
      "outputs": [],
      "source": [
        "# generate text predictions from Qwen\n",
        "\n",
        "def generate_predictions(prompt, model):\n",
        "\n",
        "    decoded_output = []\n",
        "    outputs = []\n",
        "\n",
        "    max_new_tokens = 200\n",
        "    device = next(model.parameters()).device  # Get the model's device\n",
        "\n",
        "    for i in range(len(prompt)):\n",
        "\n",
        "        inputs = tokenizer(prompt[i], return_tensors=\"pt\").to(device)\n",
        "\n",
        "        output = model.generate(**inputs, max_new_tokens=max_new_tokens)\n",
        "\n",
        "        outputs.append(output)\n",
        "\n",
        "        decoded_output.append(tokenizer.decode(output[0]))\n",
        "\n",
        "    return decoded_output"
      ]
    },
    {
      "cell_type": "code",
      "execution_count": null,
      "metadata": {
        "colab": {
          "base_uri": "https://localhost:8080/"
        },
        "id": "qHLIT_4KvE4H",
        "outputId": "9dc2eb13-6d12-4bfd-cde6-56d43d5cff8f"
      },
      "outputs": [
        {
          "name": "stdout",
          "output_type": "stream",
          "text": [
            "Model is on cuda:0\n"
          ]
        }
      ],
      "source": [
        "# Move the model to GPU\n",
        "device = torch.device(\"cuda\" if torch.cuda.is_available() else \"cpu\")\n",
        "model = model.to(device)\n",
        "print(f\"Model is on {next(model.parameters()).device}\")  # Check device"
      ]
    },
    {
      "cell_type": "code",
      "execution_count": null,
      "metadata": {
        "id": "Q_Dsh2A1vGA0"
      },
      "outputs": [],
      "source": [
        "# Process the data into sequences of text\n",
        "train_texts, val_texts = train, val\n",
        "\n",
        "# ^Each of these is a `list[str]` representing contiguous parts of the time series,\n",
        "#  in text form (using the LLMTIME scheme)."
      ]
    },
    {
      "cell_type": "code",
      "execution_count": null,
      "metadata": {
        "id": "6l2d2aUavInk"
      },
      "outputs": [],
      "source": [
        "# Modified tokenization with chunking\n",
        "def process_sequences(texts, tokenizer, max_length, stride):\n",
        "    all_input_ids = []\n",
        "    for text in texts:\n",
        "        # Apply Qwen's tokenization scheme to the text:\n",
        "        encoding = tokenizer(text, return_tensors=\"pt\", add_special_tokens=False)\n",
        "        seq_ids = encoding.input_ids[0]\n",
        "\n",
        "        # Create sliding windows to further divide the data into chunks:\n",
        "        for i in range(0, len(seq_ids), stride):\n",
        "            chunk = seq_ids[i : i + max_length]\n",
        "            if len(chunk) < max_length:\n",
        "                chunk = torch.cat(\n",
        "                    [\n",
        "                        chunk,\n",
        "                        torch.full((max_length - len(chunk),), tokenizer.pad_token_id),\n",
        "                    ]\n",
        "                )\n",
        "            all_input_ids.append(chunk)\n",
        "    return torch.stack(all_input_ids)"
      ]
    },
    {
      "cell_type": "code",
      "execution_count": null,
      "metadata": {
        "id": "f0gnfcauvKl5"
      },
      "outputs": [],
      "source": [
        "def train_model_grad_accum(train_texts, model, tokenizer, batch_size, lora_rank, max_ctx_length,\n",
        "                learning_rate, num_steps, grad_accum_steps, project_name, name_run):\n",
        "\n",
        "    if wandb.run is None:\n",
        "        wandb.init(project=project_name, name=name_run, config={\n",
        "            \"batch_size\": batch_size,\n",
        "            \"lora_rank\": lora_rank,\n",
        "            \"learning_rate\": learning_rate,\n",
        "            \"num_steps\": num_steps,\n",
        "            \"grad_accum_steps\": grad_accum_steps\n",
        "        })\n",
        "\n",
        "    device = torch.device(\"cuda\" if torch.cuda.is_available() else \"cpu\")\n",
        "    model = model.to(device)\n",
        "    print('Running on device:', device)\n",
        "\n",
        "    # Tokenize training set\n",
        "    train_input_ids = process_sequences(train_texts, tokenizer, max_ctx_length,\n",
        "                                        stride=max_ctx_length // 2)\n",
        "    train_dataset = TensorDataset(train_input_ids)\n",
        "    train_loader = DataLoader(train_dataset, batch_size=batch_size, shuffle=True,\n",
        "                              pin_memory=False, num_workers=0)  # MPS safe\n",
        "\n",
        "\n",
        "    # Tokenize validation set\n",
        "    val_input_ids = process_sequences(val_texts, tokenizer, max_ctx_length,\n",
        "                                      stride=max_ctx_length)  # use full stride for val\n",
        "    val_dataset = TensorDataset(val_input_ids)\n",
        "    val_loader = DataLoader(val_dataset, batch_size=batch_size, shuffle=False,\n",
        "                            pin_memory=False, num_workers=0)\n",
        "\n",
        "\n",
        "\n",
        "    # Optimizer\n",
        "    optimizer = torch.optim.Adam(lora_params, lr=learning_rate)\n",
        "\n",
        "    # Accelerator (no mixed_precision on MPS)\n",
        "    accelerator = Accelerator(mixed_precision=\"no\")\n",
        "    model, optimizer, train_loader = accelerator.prepare(model, optimizer, train_loader)\n",
        "\n",
        "    print(\"Beginning training loop...\")\n",
        "    model.train()\n",
        "    steps, loss_train = 0, []\n",
        "    train_iterator = cycle(train_loader)\n",
        "    training_bar = tqdm(total=num_steps, desc=\"Training\")\n",
        "\n",
        "    accum_loss = 0.0\n",
        "\n",
        "    # Validation interval (every 100 training steps)\n",
        "    val_interval = 100\n",
        "    val_loss_history = []\n",
        "\n",
        "    while steps < num_steps:\n",
        "        for _ in range(grad_accum_steps):\n",
        "            (batch,) = next(train_iterator)\n",
        "            batch = batch.to(device)\n",
        "\n",
        "            outputs = model(batch, labels=batch)\n",
        "            loss = outputs.loss / grad_accum_steps\n",
        "\n",
        "            accelerator.backward(loss)\n",
        "            accum_loss += loss.item()\n",
        "\n",
        "# Optimizer step after accumulating gradients\n",
        "        torch.nn.utils.clip_grad_norm_(model.parameters(), max_norm=1.0)\n",
        "        optimizer.step()\n",
        "        optimizer.zero_grad()\n",
        "\n",
        "        steps += 1\n",
        "        loss_train.append(accum_loss)\n",
        "        training_bar.update(1)\n",
        "        training_bar.set_postfix(loss=accum_loss)\n",
        "\n",
        "\n",
        "        wandb.log({\"train_loss\": accum_loss, \"step\": steps})\n",
        "        accum_loss = 0.0\n",
        "\n",
        "        # Periodic validation evaluation\n",
        "        if steps % val_interval == 0:\n",
        "            model.eval()\n",
        "            total_val_loss = 0.0\n",
        "            num_val_batches = 0\n",
        "\n",
        "            with torch.no_grad():\n",
        "                for (val_batch,) in val_loader:\n",
        "                    val_batch = val_batch.to(device)\n",
        "                    val_outputs = model(val_batch, labels=val_batch)\n",
        "                    total_val_loss += val_outputs.loss.item()\n",
        "                    num_val_batches += 1\n",
        "\n",
        "            avg_val_loss = total_val_loss / num_val_batches if num_val_batches > 0 else 0.0\n",
        "            val_loss_history.append(avg_val_loss)\n",
        "            wandb.log({\"val_loss\": avg_val_loss, \"step\": steps})\n",
        "            print(f\"\\nStep {steps}: Validation Loss = {avg_val_loss:.4f}\\n\")\n",
        "            model.train()\n",
        "\n",
        "        if steps % 100 == 0:\n",
        "            gc.collect()\n",
        "            if torch.backends.mps.is_available():\n",
        "                torch.mps.empty_cache()\n",
        "\n",
        "\n",
        "    # Create a temporary directory for model saving\n",
        "    with tempfile.TemporaryDirectory() as tmp_dir:\n",
        "        model.save_pretrained(tmp_dir)\n",
        "\n",
        "        # Upload the entire directory as a wandb artifact\n",
        "        artifact = wandb.Artifact(name=name_run, type=\"model\")\n",
        "        artifact.add_dir(tmp_dir)  # Add the entire directory\n",
        "        wandb.log_artifact(artifact)\n",
        "\n",
        "\n",
        "    training_bar.close()\n",
        "    wandb.finish()\n",
        "    print(f\"Training finished at {steps} steps. Final loss: {loss_train[-1]:.4f}\")\n",
        "\n",
        "    # Final cleanup\n",
        "    model.eval()\n",
        "    if torch.backends.mps.is_available():\n",
        "        torch.mps.empty_cache()\n",
        "    gc.collect()\n",
        "\n",
        "    return model, loss_train, val_loss_history"
      ]
    },
    {
      "cell_type": "code",
      "execution_count": null,
      "metadata": {
        "colab": {
          "base_uri": "https://localhost:8080/",
          "height": 1000
        },
        "id": "QS-O1_X2vRmh",
        "outputId": "cd3b9d41-a15a-41ab-8083-524659e8e3e8"
      },
      "outputs": [
        {
          "name": "stderr",
          "output_type": "stream",
          "text": [
            "\u001b[34m\u001b[1mwandb\u001b[0m: Using wandb-core as the SDK backend.  Please refer to https://wandb.me/wandb-core for more information.\n"
          ]
        },
        {
          "data": {
            "application/javascript": "\n        window._wandbApiKey = new Promise((resolve, reject) => {\n            function loadScript(url) {\n            return new Promise(function(resolve, reject) {\n                let newScript = document.createElement(\"script\");\n                newScript.onerror = reject;\n                newScript.onload = resolve;\n                document.body.appendChild(newScript);\n                newScript.src = url;\n            });\n            }\n            loadScript(\"https://cdn.jsdelivr.net/npm/postmate/build/postmate.min.js\").then(() => {\n            const iframe = document.createElement('iframe')\n            iframe.style.cssText = \"width:0;height:0;border:none\"\n            document.body.appendChild(iframe)\n            const handshake = new Postmate({\n                container: iframe,\n                url: 'https://wandb.ai/authorize'\n            });\n            const timeout = setTimeout(() => reject(\"Couldn't auto authenticate\"), 5000)\n            handshake.then(function(child) {\n                child.on('authorize', data => {\n                    clearTimeout(timeout)\n                    resolve(data)\n                });\n            });\n            })\n        });\n    ",
            "text/plain": [
              "<IPython.core.display.Javascript object>"
            ]
          },
          "metadata": {},
          "output_type": "display_data"
        },
        {
          "name": "stderr",
          "output_type": "stream",
          "text": [
            "\u001b[34m\u001b[1mwandb\u001b[0m: Logging into wandb.ai. (Learn how to deploy a W&B server locally: https://wandb.me/wandb-server)\n",
            "\u001b[34m\u001b[1mwandb\u001b[0m: You can find your API key in your browser here: https://wandb.ai/authorize\n",
            "wandb: Paste an API key from your profile and hit enter:"
          ]
        },
        {
          "name": "stdout",
          "output_type": "stream",
          "text": [
            " ··········\n"
          ]
        },
        {
          "name": "stderr",
          "output_type": "stream",
          "text": [
            "\u001b[34m\u001b[1mwandb\u001b[0m: \u001b[33mWARNING\u001b[0m If you're specifying your api key in code, ensure this code is not shared publicly.\n",
            "\u001b[34m\u001b[1mwandb\u001b[0m: \u001b[33mWARNING\u001b[0m Consider setting the WANDB_API_KEY environment variable, or running `wandb login` from the command line.\n",
            "\u001b[34m\u001b[1mwandb\u001b[0m: No netrc file found, creating one.\n",
            "\u001b[34m\u001b[1mwandb\u001b[0m: Appending key for api.wandb.ai to your netrc file: /root/.netrc\n",
            "\u001b[34m\u001b[1mwandb\u001b[0m: Currently logged in as: \u001b[33mcjm267\u001b[0m (\u001b[33mcjm267-university-of-cambridge\u001b[0m) to \u001b[32mhttps://api.wandb.ai\u001b[0m. Use \u001b[1m`wandb login --relogin`\u001b[0m to force relogin\n"
          ]
        },
        {
          "data": {
            "text/html": [
              "Tracking run with wandb version 0.19.8"
            ],
            "text/plain": [
              "<IPython.core.display.HTML object>"
            ]
          },
          "metadata": {},
          "output_type": "display_data"
        },
        {
          "data": {
            "text/html": [
              "Run data is saved locally in <code>/content/wandb/run-20250330_195059-9snfkv5v</code>"
            ],
            "text/plain": [
              "<IPython.core.display.HTML object>"
            ]
          },
          "metadata": {},
          "output_type": "display_data"
        },
        {
          "data": {
            "text/html": [
              "Syncing run <strong><a href='https://wandb.ai/cjm267-university-of-cambridge/hyperparameter_search_report/runs/9snfkv5v' target=\"_blank\">lr1e5_LoRA_rank4_overfitonepercent</a></strong> to <a href='https://wandb.ai/cjm267-university-of-cambridge/hyperparameter_search_report' target=\"_blank\">Weights & Biases</a> (<a href='https://wandb.me/developer-guide' target=\"_blank\">docs</a>)<br>"
            ],
            "text/plain": [
              "<IPython.core.display.HTML object>"
            ]
          },
          "metadata": {},
          "output_type": "display_data"
        },
        {
          "data": {
            "text/html": [
              " View project at <a href='https://wandb.ai/cjm267-university-of-cambridge/hyperparameter_search_report' target=\"_blank\">https://wandb.ai/cjm267-university-of-cambridge/hyperparameter_search_report</a>"
            ],
            "text/plain": [
              "<IPython.core.display.HTML object>"
            ]
          },
          "metadata": {},
          "output_type": "display_data"
        },
        {
          "data": {
            "text/html": [
              " View run at <a href='https://wandb.ai/cjm267-university-of-cambridge/hyperparameter_search_report/runs/9snfkv5v' target=\"_blank\">https://wandb.ai/cjm267-university-of-cambridge/hyperparameter_search_report/runs/9snfkv5v</a>"
            ],
            "text/plain": [
              "<IPython.core.display.HTML object>"
            ]
          },
          "metadata": {},
          "output_type": "display_data"
        },
        {
          "name": "stdout",
          "output_type": "stream",
          "text": [
            "Running on device: cuda\n",
            "Beginning training loop...\n"
          ]
        },
        {
          "name": "stderr",
          "output_type": "stream",
          "text": [
            "Training:  10%|█         | 100/1000 [01:01<09:17,  1.61it/s, loss=1.95] "
          ]
        },
        {
          "name": "stdout",
          "output_type": "stream",
          "text": [
            "\n",
            "Step 100: Validation Loss = 1.0393\n",
            "\n"
          ]
        },
        {
          "name": "stderr",
          "output_type": "stream",
          "text": [
            "Training:  20%|██        | 200/1000 [02:28<08:11,  1.63it/s, loss=0.862]"
          ]
        },
        {
          "name": "stdout",
          "output_type": "stream",
          "text": [
            "\n",
            "Step 200: Validation Loss = 0.9565\n",
            "\n"
          ]
        },
        {
          "name": "stderr",
          "output_type": "stream",
          "text": [
            "Training:  30%|███       | 300/1000 [03:55<07:07,  1.64it/s, loss=0.581]"
          ]
        },
        {
          "name": "stdout",
          "output_type": "stream",
          "text": [
            "\n",
            "Step 300: Validation Loss = 0.7453\n",
            "\n"
          ]
        },
        {
          "name": "stderr",
          "output_type": "stream",
          "text": [
            "Training:  40%|████      | 400/1000 [05:22<06:07,  1.63it/s, loss=0.525]"
          ]
        },
        {
          "name": "stdout",
          "output_type": "stream",
          "text": [
            "\n",
            "Step 400: Validation Loss = 0.6830\n",
            "\n"
          ]
        },
        {
          "name": "stderr",
          "output_type": "stream",
          "text": [
            "Training:  50%|█████     | 500/1000 [06:49<05:06,  1.63it/s, loss=0.494]"
          ]
        },
        {
          "name": "stdout",
          "output_type": "stream",
          "text": [
            "\n",
            "Step 500: Validation Loss = 0.6491\n",
            "\n"
          ]
        },
        {
          "name": "stderr",
          "output_type": "stream",
          "text": [
            "Training:  60%|██████    | 600/1000 [08:16<04:06,  1.63it/s, loss=0.47]"
          ]
        },
        {
          "name": "stdout",
          "output_type": "stream",
          "text": [
            "\n",
            "Step 600: Validation Loss = 0.6233\n",
            "\n"
          ]
        },
        {
          "name": "stderr",
          "output_type": "stream",
          "text": [
            "Training:  70%|███████   | 700/1000 [09:43<03:03,  1.63it/s, loss=0.447]"
          ]
        },
        {
          "name": "stdout",
          "output_type": "stream",
          "text": [
            "\n",
            "Step 700: Validation Loss = 0.5996\n",
            "\n"
          ]
        },
        {
          "name": "stderr",
          "output_type": "stream",
          "text": [
            "Training:  80%|████████  | 800/1000 [11:10<02:02,  1.63it/s, loss=0.429]"
          ]
        },
        {
          "name": "stdout",
          "output_type": "stream",
          "text": [
            "\n",
            "Step 800: Validation Loss = 0.5824\n",
            "\n"
          ]
        },
        {
          "name": "stderr",
          "output_type": "stream",
          "text": [
            "Training:  90%|█████████ | 900/1000 [12:37<01:01,  1.63it/s, loss=0.414]"
          ]
        },
        {
          "name": "stdout",
          "output_type": "stream",
          "text": [
            "\n",
            "Step 900: Validation Loss = 0.5707\n",
            "\n"
          ]
        },
        {
          "name": "stderr",
          "output_type": "stream",
          "text": [
            "Training: 100%|██████████| 1000/1000 [14:04<00:00,  1.63it/s, loss=0.401]"
          ]
        },
        {
          "name": "stdout",
          "output_type": "stream",
          "text": [
            "\n",
            "Step 1000: Validation Loss = 0.5616\n",
            "\n"
          ]
        },
        {
          "name": "stderr",
          "output_type": "stream",
          "text": [
            "\u001b[34m\u001b[1mwandb\u001b[0m: Adding directory to artifact (/tmp/tmppt3zw097)... Done. 9.5s\n",
            "Training: 100%|██████████| 1000/1000 [14:46<00:00,  1.13it/s, loss=0.401]\n"
          ]
        },
        {
          "data": {
            "text/html": [],
            "text/plain": [
              "<IPython.core.display.HTML object>"
            ]
          },
          "metadata": {},
          "output_type": "display_data"
        },
        {
          "data": {
            "text/html": [
              "<br>    <style><br>        .wandb-row {<br>            display: flex;<br>            flex-direction: row;<br>            flex-wrap: wrap;<br>            justify-content: flex-start;<br>            width: 100%;<br>        }<br>        .wandb-col {<br>            display: flex;<br>            flex-direction: column;<br>            flex-basis: 100%;<br>            flex: 1;<br>            padding: 10px;<br>        }<br>    </style><br><div class=\"wandb-row\"><div class=\"wandb-col\"><h3>Run history:</h3><br/><table class=\"wandb\"><tr><td>step</td><td>▁▁▁▂▂▃▃▃▃▃▃▃▄▄▄▄▄▄▄▅▅▅▅▅▅▆▆▆▆▆▇▇▇▇▇▇████</td></tr><tr><td>train_loss</td><td>█▇▃▄▂▂▂▂▁▁▁▁▁▁▁▁▁▁▁▁▁▁▁▁▁▁▁▁▁▁▁▁▁▁▁▁▁▁▁▁</td></tr><tr><td>val_loss</td><td>█▇▄▃▂▂▂▁▁▁</td></tr></table><br/></div><div class=\"wandb-col\"><h3>Run summary:</h3><br/><table class=\"wandb\"><tr><td>step</td><td>1000</td></tr><tr><td>train_loss</td><td>0.40109</td></tr><tr><td>val_loss</td><td>0.56164</td></tr></table><br/></div></div>"
            ],
            "text/plain": [
              "<IPython.core.display.HTML object>"
            ]
          },
          "metadata": {},
          "output_type": "display_data"
        },
        {
          "data": {
            "text/html": [
              " View run <strong style=\"color:#cdcd00\">lr1e5_LoRA_rank4_overfitonepercent</strong> at: <a href='https://wandb.ai/cjm267-university-of-cambridge/hyperparameter_search_report/runs/9snfkv5v' target=\"_blank\">https://wandb.ai/cjm267-university-of-cambridge/hyperparameter_search_report/runs/9snfkv5v</a><br> View project at: <a href='https://wandb.ai/cjm267-university-of-cambridge/hyperparameter_search_report' target=\"_blank\">https://wandb.ai/cjm267-university-of-cambridge/hyperparameter_search_report</a><br>Synced 5 W&B file(s), 0 media file(s), 4 artifact file(s) and 0 other file(s)"
            ],
            "text/plain": [
              "<IPython.core.display.HTML object>"
            ]
          },
          "metadata": {},
          "output_type": "display_data"
        },
        {
          "data": {
            "text/html": [
              "Find logs at: <code>./wandb/run-20250330_195059-9snfkv5v/logs</code>"
            ],
            "text/plain": [
              "<IPython.core.display.HTML object>"
            ]
          },
          "metadata": {},
          "output_type": "display_data"
        },
        {
          "name": "stdout",
          "output_type": "stream",
          "text": [
            "Training finished at 1000 steps. Final loss: 0.4011\n"
          ]
        }
      ],
      "source": [
        "# train the model - change hyperparameters here\n",
        "\n",
        "trained_model, loss, val = train_model_grad_accum(train_texts, model, tokenizer, batch_size=4, lora_rank=4, max_ctx_length=512,\n",
        "                learning_rate=1e-5, num_steps=1000, grad_accum_steps=1, project_name=\"hyperparameter_search_report\", name_run=\"lr1e5_LoRA_rank4_overfitonepercent\")"
      ]
    },
    {
      "cell_type": "code",
      "execution_count": null,
      "metadata": {
        "id": "ddAu00w-vcJ_"
      },
      "outputs": [],
      "source": [
        "# generate some example predictions using the test set inputs\n",
        "\n",
        "decoded_output = generate_predictions(inputs, model=trained_model)"
      ]
    },
    {
      "cell_type": "code",
      "execution_count": null,
      "metadata": {
        "colab": {
          "base_uri": "https://localhost:8080/"
        },
        "id": "4O0tdX9iVOlW",
        "outputId": "701ffe80-873d-429f-f8a1-fab20e837a8b"
      },
      "outputs": [
        {
          "data": {
            "text/plain": [
              "['1.45,1.17;1.03,1.36;0.68,1.33;0.49,1.15;0.40,0.93;0.38,0.74;0.41,0.59;0.49,0.48;0.62,0.41;0.81,0.38;1.07,0.39;1.38,0.44;1.67,0.58;1.78,0.82;1.58,1.14;1.13,1.39;0.72,1.40;0.48,1.22;0.38,0.99;0.35,0.77;0.37,0.60;0.44,0.48;0.56,0.40;0.74,0.36;1.00,0.36;1.32,0.40;1.66,0.51;1.86,0.73;1.74,1.07;1.29,1.39;0.80,1.48;0.50,1.32;0.37,1.07;0.33,0.83;0.33,0.64;0.39,0.50;0.49,0.41;0.65,0.35;0.89,0.33;1.21,0.35;1.58,0.44;1.89,0.62;1.93,0.94;1.54,1.33;0.97,1.55;0.57,1.45;0.38,1.19;0.31,0.92;0.30,0.70;0.33,0.54;0.41,0.42;0.55,0.35;0.75,0.31;1.04,0.31;1.42,0.36;1.82,0.49;2.06,0.74;1.87,1.16;1.28,1.54;0.72,1.60;0.42,1.37;0.30,1.07;0.27,0.81;0.28,0.61;0.33,0.46;0.43,0.37;0.59,0.31;0.84,0.28;1.18,0.30;1.61,0.37;2.03,0.53;2.18,0.87;1.77,1.37;1.05,1.69;0.55,1.60;0.33,1.30;0.25,0.98;0.24,0.73;0.26,0.54;0.33,0.41;0.43,0.33;0.58,0.31;0.81,0.31;1.16,0.31;1.58,0.38;1.95,0.51;2.12,0.75;1.90,1.13;1.27,1.56;0.74,1.63;0.46,1.38;0.34,1.07;0.31,0.80;0.30,0.62;0.34,0.48;0.43,0.40;0.58,0.32;0.82,0.31;1.18,0.31;1.60,0.37',\n",
              " '1.12,1.31;0.79,1.48;0.51,1.50;0.34,1.41;0.24,1.26;0.19,1.11;0.17,0.95;0.16,0.82;0.16,0.70;0.18,0.60;0.21,0.52;0.26,0.46;0.33,0.42;0.43,0.38;0.56,0.37;0.74,0.38;0.95,0.41;1.19,0.48;1.41,0.60;1.52,0.80;1.43,1.05;1.15,1.32;0.79,1.49;0.51,1.52;0.33,1.43;0.24,1.28;0.18,1.11;0.16,0.96;0.15,0.82;0.16,0.70;0.17,0.60;0.20,0.52;0.25,0.46;0.32,0.41;0.41,0.38;0.54,0.36;0.72,0.37;0.94,0.40;1.18,0.46;1.41,0.58;1.54,0.77;1.47,1.03;1.20,1.31;0.83,1.50;0.53,1.54;0.34,1.45;0.24,1.30;0.18,1.14;0.16,0.98;0.15,0.84;0.15,0.71;0.16,0.61;0.19,0.53;0.24,0.46;0.30,0.41;0.39,0.38;0.52,0.36;0.69,0.36;0.90,0.38;1.15,0.44;1.40,0.55;1.56,0.73;1.53,0.99;1.27,1.28;0.89,1.50;0.57,1.56;0.36,1.49;0.24,1.34;0.18,1.17;0.15,1.01;0.14,0.86;0.14,0.73;0.15,0.62;0.18,0.54;0.22,0.47;0.28,0.41;0.36,0.37;0.48,0.35;0.64,0.35;0.85,0.37;1.06,0.39;1.29,0.43;1.49,0.53;1.49,0.74;1.29,0.98;0.95,1.29;0.60,1.54;0.33,1.53;0.24,1.42;0.19,1.29;0.17,1.15;0.17,1.03;0.19,0.94;0.23,0.85;0.27,0.78;0.34,0.72;0.42,0.67;0.52,0.66;0.68,0.67;0.88,0.69',\n",
              " '1.09,1.19;1.11,0.98;1.21,0.81;1.41,0.69;1.69,0.60;2.08,0.55;2.57,0.53;3.13,0.54;3.74,0.59;4.31,0.68;4.75,0.81;4.95,1.00;4.84,1.23;4.40,1.48;3.72,1.71;2.95,1.84;2.26,1.83;1.77,1.69;1.47,1.49;1.32,1.28;1.28,1.08;1.34,0.92;1.49,0.79;1.72,0.70;2.04,0.64;2.45,0.61;2.93,0.61;3.44,0.65;3.93,0.72;4.31,0.83;4.52,0.99;4.47,1.18;4.17,1.39;3.64,1.58;3.02,1.70;2.43,1.72;1.97,1.63;1.66,1.47;1.49,1.30;1.44,1.12;1.48,0.97;1.61,0.85;1.81,0.76;2.10,0.70;2.46,0.67;2.87,0.67;3.31,0.71;3.72,0.77;4.04,0.87;4.21,1.01;4.17,1.18;3.92,1.35;3.50,1.51;2.99,1.61;2.49,1.63;2.07,1.56;1.79,1.44;1.63,1.28;1.57,1.13;1.60,0.99;1.72,0.88;1.91,0.80;2.17,0.75;2.50,0.72;2.87,0.72;3.25,0.76;3.60,0.82;3.86,0.92;3.99,1.04;3.94,1.19;3.72,1.34;3.35,1.47;2.91,1.54;2.48,1.56;2.13,1.50;1.87,1.39;1.73,1.26;1.68,1.12;1.72,1.00;1.83,0.90;2.03,0.82;2.24,0.75;2.48,0.70;2.78,0.66;3.11,0.64;3.48,0.63;3.82,0.63;4.16,0.64;4.40,0.65;4.34,0.67;4.08,0.69;3.73,0.72;3.28,0.75;2.88,0.78;2.56,0.81;2.30,0.75;2.07,0.69;1.85,0.65;1.70,0.61;1.61,0.56',\n",
              " '1.16,1.38;0.76,1.24;0.57,0.99;0.50,0.75;0.50,0.57;0.55,0.43;0.65,0.34;0.80,0.28;1.02,0.24;1.31,0.24;1.66,0.26;2.04,0.32;2.35,0.44;2.45,0.66;2.18,0.97;1.64,1.23;1.11,1.28;0.77,1.14;0.61,0.92;0.55,0.71;0.56,0.55;0.62,0.43;0.74,0.35;0.90,0.29;1.13,0.27;1.42,0.27;1.75,0.31;2.07,0.39;2.28,0.54;2.24,0.77;1.90,1.03;1.41,1.19;1.00,1.17;0.76,1.02;0.64,0.82;0.61,0.65;0.64,0.51;0.72,0.41;0.85,0.35;1.03,0.31;1.27,0.30;1.56,0.32;1.85,0.37;2.09,0.48;2.16,0.65;1.99,0.88;1.61,1.07;1.20,1.13;0.91,1.05;0.74,0.89;0.67,0.73;0.67,0.58;0.72,0.47;0.83,0.40;0.98,0.35;1.19,0.33;1.43,0.33;1.70,0.37;1.93,0.46;2.05,0.60;1.97,0.78;1.70,0.97;1.34,1.06;1.03,1.04;0.84,0.92;0.74,0.77;0.71,0.64;0.74,0.52;0.83,0.44;0.96,0.39;1.14,0.36;1.35,0.36;1.59,0.39;1.80,0.45;1.94,0.57;1.92,0.72;1.73,0.89;1.43,1.00;1.13,1.01;0.92,0.93;0.75,0.84;0.68,0.70;0.66,0.55;0.70,0.45;0.83,0.40;0.98,0.35;1.17,0.33;1.42,0.33;1.72,0.37;1.96,0.48;2.07,0.63;1.95,0.84;1.70,0.99;1.32,1.08;1.02,1.05;0.77,0.91;0.70,0.75;0.69,0.61;0.72,0.49;0.84,0.43',\n",
              " '1.54,1.22;1.17,1.34;0.85,1.34;0.64,1.24;0.52,1.10;0.47,0.95;0.47,0.81;0.50,0.70;0.58,0.61;0.69,0.55;0.85,0.51;1.06,0.50;1.31,0.53;1.55,0.60;1.74,0.72;1.78,0.88;1.63,1.08;1.34,1.23;1.03,1.29;0.78,1.26;0.62,1.15;0.54,1.02;0.51,0.88;0.52,0.77;0.57,0.67;0.66,0.60;0.80,0.56;0.97,0.54;1.18,0.55;1.40,0.59;1.59,0.68;1.68,0.81;1.63,0.98;1.43,1.13;1.15,1.23;0.90,1.23;0.72,1.17;0.61,1.06;0.56,0.94;0.55,0.82;0.59,0.73;0.66,0.65;0.76,0.60;0.91,0.57;1.09,0.57;1.29,0.60;1.47,0.67;1.58,0.77;1.59,0.91;1.46,1.05;1.24,1.16;1.00,1.20;0.81,1.16;0.68,1.08;0.61,0.97;0.59,0.87;0.61,0.77;0.66,0.69;0.75,0.63;0.87,0.60;1.03,0.59;1.20,0.61;1.37,0.66;1.49,0.75;1.53,0.86;1.45,0.99;1.28,1.10;1.07,1.15;0.89,1.15;0.75,1.08;0.66,1.00;0.63,0.90;0.63,0.80;0.67,0.73;0.75,0.67;0.85,0.63;0.99,0.61;1.14,0.63;1.30,0.67;1.42,0.74;1.50,0.82;1.51,0.95;1.41,1.08;1.22,1.17;1.02,1.17;0.80,1.16;0.61,1.05;0.53,0.93;0.47,0.83;0.45,0.73;0.47,0.63;0.52,0.55;0.62,0.50;0.75,0.46;0.91,0.45;1.11,0.45;1.32,0.48;1.47,0.55;1.59,0.65;1.59,0.77',\n",
              " '1.08,1.42;0.91,1.12;0.86,0.86;0.90,0.66;1.02,0.52;1.21,0.42;1.49,0.36;1.85,0.33;2.31,0.33;2.84,0.35;3.41,0.42;3.92,0.54;4.25,0.75;4.22,1.06;3.73,1.44;2.87,1.76;1.98,1.86;1.36,1.69;1.02,1.39;0.87,1.09;0.84,0.83;0.89,0.64;1.02,0.50;1.22,0.40;1.50,0.35;1.88,0.32;2.35,0.32;2.90,0.35;3.48,0.42;4.01,0.55;4.33,0.76;4.28,1.08;3.73,1.48;2.82,1.81;1.92,1.89;1.31,1.70;0.98,1.38;0.84,1.07;0.82,0.81;0.87,0.62;1.00,0.48;1.21,0.39;1.50,0.33;1.89,0.31;2.37,0.31;2.93,0.34;3.53,0.41;4.07,0.54;4.41,0.76;4.35,1.09;3.78,1.50;2.83,1.84;1.91,1.92;1.28,1.72;0.96,1.39;0.82,1.07;0.79,0.81;0.85,0.61;0.98,0.48;1.19,0.38;1.48,0.33;1.86,0.30;2.35,0.30;2.92,0.32;3.53,0.39;4.10,0.52;4.46,0.74;4.43,1.07;3.87,1.49;2.90,1.85;1.94,1.95;1.29,1.75;0.95,1.42;0.80,1.09;0.77,0.82;0.82,0.62;0.95,0.47;1.15,0.38;1.44,0.32;1.82,0.29;2.36,0.30;2.92,0.30;3.52,0.32;4.06,0.37;4.42,0.44;4.35,0.60;3.87,0.81;2.92,1.04;1.95,1.19;1.32,1.01;1.00,0.73;0.86,0.54;0.84,0.36;0.88,0.22;1.01,0.12;1.18,0.08;1.34,0.06;1.56,0.05;1.84,0.05;2.23,0.06',\n",
              " '1.30,1.28;1.22,1.14;1.23,1.00;1.30,0.89;1.43,0.81;1.62,0.77;1.85,0.76;2.08,0.79;2.28,0.85;2.39,0.95;2.39,1.08;2.25,1.21;2.03,1.30;1.79,1.33;1.58,1.30;1.44,1.22;1.37,1.12;1.37,1.02;1.42,0.94;1.53,0.87;1.68,0.84;1.85,0.83;2.02,0.86;2.15,0.91;2.23,0.99;2.21,1.08;2.12,1.17;1.96,1.23;1.79,1.25;1.63,1.23;1.53,1.17;1.47,1.10;1.47,1.02;1.52,0.96;1.60,0.91;1.72,0.89;1.85,0.88;1.97,0.91;2.07,0.95;2.11,1.01;2.10,1.08;2.02,1.14;1.91,1.18;1.78,1.19;1.67,1.18;1.59,1.14;1.55,1.08;1.55,1.03;1.58,0.98;1.65,0.94;1.75,0.92;1.84,0.92;1.94,0.94;2.00,0.98;2.03,1.02;2.02,1.07;1.96,1.12;1.87,1.15;1.78,1.16;1.70,1.14;1.64,1.11;1.61,1.07;1.61,1.03;1.64,0.99;1.69,0.96;1.76,0.95;1.84,0.95;1.91,0.97;1.95,1.00;1.97,1.03;1.96,1.07;1.91,1.10;1.85,1.12;1.78,1.13;1.72,1.12;1.67,1.09;1.65,1.06;1.65,1.03;1.68,1.00;1.72,0.98;1.78,0.97;1.85,0.96;1.94,0.95;1.98,0.95;2.02,0.97;2.04,1.00;2.04,1.04;2.03,1.07;1.99,1.10;1.94,1.12;1.87,1.12;1.81,1.11;1.76,1.11;1.71,1.10;1.67,1.09;1.65,1.07;1.63,1.05;1.62,1.03;1.62,1.00;1.62,0.98',\n",
              " '1.43,1.36;1.15,1.64;0.84,1.80;0.59,1.82;0.42,1.73;0.32,1.57;0.27,1.40;0.24,1.23;0.24,1.07;0.25,0.94;0.28,0.82;0.32,0.73;0.39,0.66;0.48,0.62;0.60,0.59;0.75,0.59;0.93,0.62;1.11,0.70;1.27,0.81;1.35,0.99;1.31,1.20;1.15,1.43;0.92,1.60;0.70,1.67;0.53,1.64;0.42,1.54;0.35,1.41;0.31,1.27;0.30,1.13;0.30,1.00;0.32,0.90;0.36,0.81;0.42,0.74;0.50,0.70;0.60,0.67;0.73,0.67;0.87,0.70;1.02,0.76;1.13,0.86;1.20,1.00;1.17,1.17;1.06,1.34;0.90,1.47;0.73,1.54;0.58,1.53;0.48,1.47;0.41,1.36;0.37,1.25;0.35,1.13;0.35,1.03;0.37,0.93;0.41,0.86;0.46,0.80;0.54,0.76;0.63,0.74;0.74,0.74;0.85,0.77;0.96,0.83;1.05,0.91;1.08,1.03;1.06,1.16;0.97,1.29;0.85,1.39;0.72,1.44;0.60,1.44;0.51,1.39;0.45,1.31;0.41,1.22;0.40,1.12;0.40,1.03;0.42,0.95;0.46,0.88;0.51,0.83;0.58,0.80;0.66,0.79;0.75,0.80;0.84,0.83;0.92,0.89;0.98,0.96;1.00,1.06;1.02,1.09;1.03,1.12;1.04,1.16;1.04,1.19;1.04,1.22;1.04,1.24;1.04,1.25;1.04,1.25;1.05,1.25;1.05,1.24;1.05,1.23;1.05,1.23;1.05,1.23;1.05,1.23;1.05,1.23;1.05,1.23;1.05,1.23;1.05,1.23;1.05,1.23;1.05,1.23',\n",
              " '1.46,1.50;0.91,1.11;0.70,0.76;0.64,0.52;0.65,0.35;0.72,0.24;0.84,0.16;1.01,0.12;1.23,0.08;1.51,0.06;1.85,0.05;2.25,0.04;2.72,0.04;3.24,0.04;3.80,0.04;4.38,0.04;4.94,0.05;5.46,0.06;5.91,0.08;6.27,0.10;6.51,0.14;6.60,0.20;6.53,0.27;6.26,0.37;5.79,0.49;5.15,0.62;4.40,0.73;3.64,0.79;2.99,0.79;2.50,0.74;2.17,0.65;1.99,0.55;1.92,0.46;1.94,0.38;2.03,0.32;2.18,0.27;2.38,0.24;2.62,0.21;2.89,0.20;3.19,0.19;3.49,0.19;3.79,0.20;4.06,0.22;4.29,0.24;4.45,0.27;4.53,0.31;4.53,0.35;4.44,0.40;4.26,0.45;4.02,0.50;3.74,0.53;3.45,0.55;3.19,0.55;2.96,0.54;2.79,0.51;2.68,0.47;2.62,0.43;2.62,0.40;2.66,0.36;2.74,0.34;2.85,0.31;2.99,0.30;3.14,0.29;3.29,0.29;3.45,0.29;3.59,0.30;3.71,0.31;3.79,0.32;3.85,0.34;3.86,0.37;3.83,0.39;3.76,0.41;3.67,0.43;3.55,0.45;3.42,0.46;3.30,0.46;3.19,0.46;3.09,0.45;3.02,0.44;2.98,0.42;2.92,0.39;2.86,0.37;2.80,0.35;2.76,0.33;2.72,0.32;2.68,0.31;2.65,0.30;2.61,0.29;2.57,0.29;2.55,0.30;2.53,0.32;2.52,0.35;2.52,0.38;2.52,0.41;2.51,0.43;2.50,0.44;2.49,0.44;2.49,0.45;2.49,0.45;2.49,0.45',\n",
              " '1.52,1.25;1.06,1.12;0.84,0.93;0.75,0.74;0.77,0.59;0.86,0.47;1.04,0.39;1.30,0.34;1.65,0.32;2.10,0.33;2.59,0.38;3.02,0.49;3.20,0.66;2.97,0.89;2.38,1.10;1.71,1.19;1.23,1.11;0.96,0.95;0.84,0.78;0.84,0.63;0.91,0.51;1.06,0.43;1.30,0.38;1.62,0.35;2.01,0.36;2.45,0.40;2.83,0.50;3.01,0.65;2.85,0.85;2.38,1.03;1.80,1.12;1.34,1.08;1.06,0.95;0.93,0.79;0.91,0.65;0.97,0.54;1.11,0.46;1.33,0.41;1.62,0.38;1.98,0.39;2.37,0.43;2.70,0.52;2.85,0.65;2.72,0.83;2.32,0.99;1.82,1.07;1.40,1.04;1.13,0.93;1.00,0.79;0.98,0.66;1.03,0.56;1.17,0.48;1.37,0.43;1.65,0.41;1.98,0.42;2.32,0.46;2.60,0.54;2.72,0.67;2.59,0.82;2.24,0.96;1.80,1.02;1.43,1.00;1.18,0.90;1.06,0.78;1.04,0.66;1.10,0.57;1.22,0.49;1.42,0.45;1.68,0.43;1.99,0.44;2.29,0.48;2.53,0.57;2.61,0.68;2.47,0.82;2.15,0.94;1.77,0.99;1.44,0.96;1.22,0.87;1.11,0.76;1.10,0.65;1.19,0.55;1.32,0.47;1.56,0.47;1.84,0.48;2.16,0.50;2.42,0.56;2.59,0.69;2.51,0.84;2.25,0.99;1.81,1.07;1.48,1.05;1.28,0.94;1.16,0.80;1.10,0.67;1.18,0.56;1.25,0.47;1.38,0.41;1.57,0.39;1.82,0.37;2.13,0.38',\n",
              " '1.54,1.31;1.16,1.24;0.89,1.13;0.73,1.00;0.62,0.87;0.55,0.74;0.52,0.63;0.50,0.54;0.50,0.46;0.52,0.39;0.55,0.33;0.59,0.28;0.65,0.25;0.72,0.21;0.80,0.19;0.90,0.17;1.01,0.15;1.15,0.14;1.30,0.13;1.47,0.12;1.65,0.12;1.86,0.12;2.07,0.12;2.30,0.13;2.52,0.13;2.75,0.15;2.97,0.16;3.16,0.19;3.33,0.21;3.46,0.25;3.53,0.30;3.55,0.35;3.51,0.42;3.39,0.50;3.21,0.58;2.97,0.66;2.70,0.73;2.40,0.79;2.11,0.83;1.84,0.85;1.60,0.84;1.41,0.81;1.26,0.77;1.14,0.71;1.06,0.66;1.01,0.60;0.98,0.54;0.97,0.49;0.98,0.44;1.01,0.40;1.04,0.36;1.10,0.33;1.16,0.31;1.24,0.29;1.33,0.27;1.43,0.26;1.55,0.25;1.67,0.24;1.80,0.24;1.93,0.24;2.06,0.25;2.19,0.25;2.32,0.27;2.43,0.28;2.53,0.30;2.60,0.33;2.66,0.36;2.68,0.39;2.67,0.43;2.63,0.47;2.56,0.51;2.46,0.55;2.34,0.59;2.20,0.62;2.06,0.64;1.92,0.65;1.78,0.66;1.66,0.65;1.56,0.64;1.47,0.61;1.40,0.59;1.36,0.58;1.34,0.57;1.33,0.56;1.33,0.55;1.33,0.54;1.32,0.53;1.31,0.52;1.31,0.51;1.31,0.50;1.31,0.49;1.31,0.48;1.31,0.48;1.31,0.48;1.31,0.48;1.31,0.48;1.31,0.48;1.31,0.48;1.31,0.48;1.31,0.48',\n",
              " '1.31,1.13;0.85,1.00;0.62,0.82;0.51,0.64;0.47,0.50;0.47,0.38;0.51,0.29;0.59,0.23;0.70,0.18;0.84,0.15;1.04,0.13;1.28,0.12;1.58,0.12;1.93,0.12;2.32,0.14;2.72,0.17;3.06,0.23;3.28,0.33;3.26,0.48;2.93,0.67;2.35,0.85;1.72,0.95;1.23,0.93;0.91,0.83;0.73,0.69;0.65,0.56;0.62,0.45;0.64,0.36;0.70,0.29;0.80,0.24;0.93,0.20;1.11,0.18;1.32,0.17;1.58,0.16;1.88,0.17;2.19,0.19;2.50,0.23;2.74,0.29;2.86,0.38;2.80,0.50;2.53,0.64;2.11,0.76;1.65,0.82;1.28,0.81;1.02,0.73;0.86,0.63;0.79,0.53;0.77,0.44;0.79,0.37;0.85,0.31;0.95,0.26;1.09,0.23;1.26,0.21;1.46,0.20;1.70,0.21;1.95,0.22;2.20,0.25;2.41,0.29;2.54,0.36;2.54,0.45;2.40,0.55;2.13,0.65;1.79,0.72;1.47,0.73;1.22,0.70;1.04,0.63;0.94,0.55;0.90,0.48;0.90,0.41;0.94,0.35;1.02,0.31;1.13,0.27;1.27,0.25;1.44,0.24;1.63,0.24;1.84,0.25;2.04,0.28;2.21,0.31;2.31,0.37;2.33,0.44;2.33,0.52;2.30,0.62;2.26,0.73;2.14,0.83;1.98,0.93;1.82,0.98;1.69,0.98;1.56,0.94;1.45,0.88;1.36,0.81;1.26,0.74;1.12,0.67;1.00,0.61;0.91,0.55;0.83,0.49;0.75,0.45;0.70,0.42;0.66,0.40;0.64,0.38;0.63,0.37',\n",
              " '1.15,1.38;1.03,1.15;0.98,0.94;0.99,0.77;1.05,0.64;1.16,0.53;1.31,0.45;1.51,0.38;1.77,0.34;2.08,0.31;2.45,0.29;2.89,0.28;3.38,0.29;3.90,0.31;4.44,0.35;4.95,0.40;5.39,0.49;5.70,0.61;5.81,0.76;5.66,0.96;5.26,1.19;4.62,1.42;3.86,1.59;3.11,1.68;2.47,1.66;1.99,1.55;1.67,1.40;1.47,1.22;1.37,1.05;1.33,0.90;1.36,0.76;1.43,0.66;1.56,0.57;1.73,0.50;1.95,0.45;2.21,0.42;2.53,0.40;2.89,0.39;3.28,0.40;3.69,0.42;4.09,0.46;4.46,0.52;4.75,0.60;4.93,0.70;4.96,0.84;4.82,0.99;4.50,1.15;4.04,1.30;3.51,1.41;2.99,1.45;2.53,1.43;2.18,1.36;1.92,1.25;1.76,1.12;1.67,1.00;1.64,0.88;1.67,0.78;1.74,0.69;1.86,0.62;2.03,0.56;2.23,0.52;2.48,0.50;2.75,0.48;3.06,0.48;3.37,0.50;3.69,0.53;3.98,0.57;4.21,0.64;4.37,0.72;4.42,0.82;4.36,0.93;4.17,1.05;3.88,1.16;3.51,1.24;3.13,1.29;2.76,1.30;2.45,1.26;2.21,1.20;2.04,1.11;1.93,1.01;1.86,0.94;1.84,0.87;1.83,0.81;1.84,0.75;1.88,0.71;1.91,0.68;1.95,0.66;1.99,0.64;2.03,0.63;2.07,0.62;2.08,0.60;2.08,0.58;2.07,0.56;2.05,0.55;2.03,0.55;2.02,0.54;2.01,0.54;2.01,0.53;2.01,0.52;2.00,0.51',\n",
              " '1.30,1.14;1.08,0.83;1.05,0.59;1.15,0.42;1.36,0.31;1.68,0.24;2.12,0.20;2.70,0.18;3.40,0.18;4.20,0.19;5.02,0.23;5.76,0.31;6.26,0.43;6.35,0.62;5.87,0.89;4.86,1.17;3.60,1.35;2.52,1.33;1.84,1.15;1.50,0.91;1.39,0.69;1.43,0.53;1.59,0.41;1.86,0.33;2.25,0.28;2.74,0.25;3.34,0.25;3.99,0.27;4.65,0.31;5.20,0.39;5.53,0.51;5.50,0.69;5.05,0.89;4.25,1.09;3.33,1.19;2.54,1.15;2.02,1.01;1.75,0.83;1.66,0.67;1.72,0.53;1.89,0.43;2.17,0.36;2.55,0.32;3.01,0.31;3.54,0.31;4.08,0.34;4.57,0.40;4.91,0.49;5.02,0.62;4.81,0.78;4.31,0.94;3.62,1.05;2.94,1.07;2.40,1.00;2.07,0.87;1.92,0.73;1.90,0.60;2.01,0.50;2.22,0.43;2.52,0.39;2.90,0.36;3.33,0.36;3.78,0.38;4.19,0.43;4.50,0.50;4.62,0.61;4.52,0.73;4.17,0.85;3.67,0.95;3.11,0.99;2.64,0.95;2.31,0.86;2.13,0.75;2.09,0.64;2.16,0.55;2.32,0.48;2.57,0.43;2.88,0.41;3.24,0.41;3.62,0.42;3.98,0.43;4.23,0.45;4.39,0.47;4.45,0.50;4.36,0.57;4.24,0.68;3.97,0.80;3.59,0.94;3.19,1.10;2.97,1.21;2.72,1.31;2.56,1.34;2.46,1.29;2.43,1.23;2.43,1.18;2.45,1.15;2.46,1.13;2.47,1.11;2.48,1.09;2.49,1.07',\n",
              " '1.41,1.38;1.12,1.42;0.90,1.37;0.75,1.26;0.67,1.12;0.64,0.98;0.65,0.86;0.70,0.76;0.79,0.68;0.91,0.63;1.07,0.60;1.26,0.61;1.46,0.64;1.63,0.71;1.75,0.82;1.77,0.97;1.67,1.12;1.48,1.25;1.24,1.33;1.03,1.32;0.87,1.26;0.77,1.15;0.72,1.03;0.71,0.92;0.74,0.82;0.81,0.74;0.91,0.69;1.04,0.66;1.19,0.65;1.36,0.68;1.51,0.73;1.62,0.81;1.66,0.92;1.61,1.05;1.48,1.17;1.30,1.24;1.11,1.26;0.96,1.23;0.85,1.15;0.79,1.06;0.77,0.96;0.79,0.87;0.84,0.79;0.92,0.74;1.02,0.71;1.15,0.69;1.29,0.71;1.42,0.75;1.52,0.81;1.57,0.90;1.55,1.00;1.46,1.10;1.32,1.18;1.16,1.21;1.03,1.19;0.92,1.14;0.85,1.06;0.83,0.98;0.83,0.90;0.87,0.83;0.93,0.78;1.02,0.74;1.12,0.73;1.24,0.74;1.35,0.77;1.44,0.82;1.49,0.89;1.49,0.98;1.43,1.06;1.32,1.13;1.20,1.16;1.07,1.16;0.97,1.12;0.91,1.07;0.87,1.00;0.87,0.92;0.89,0.86;0.94,0.81;1.02,0.78;1.11,0.76;1.21,0.75;1.33,0.75;1.42,0.75;1.47,0.74;1.44,0.73;1.35,0.72;1.22,0.71;1.08,0.70;0.95,0.69;0.88,0.68;0.86,0.67;0.86,0.66;0.89,0.65;0.93,0.64;1.03,0.64;1.15,0.64;1.28,0.65;1.41,0.67;1.56,0.70;1.69,0.75',\n",
              " '1.27,1.50;0.70,1.06;0.49,0.68;0.43,0.43;0.43,0.27;0.47,0.17;0.54,0.11;0.64,0.07;0.76,0.05;0.92,0.03;1.12,0.02;1.36,0.02;1.63,0.01;1.95,0.01;2.31,0.01;2.71,0.01;3.13,0.01;3.57,0.01;4.01,0.01;4.44,0.02;4.84,0.03;5.19,0.04;5.47,0.06;5.66,0.09;5.72,0.14;5.60,0.22;5.26,0.34;4.67,0.50;3.87,0.65;3.03,0.74;2.31,0.75;1.81,0.67;1.52,0.55;1.37,0.43;1.32,0.33;1.35,0.25;1.43,0.20;1.56,0.16;1.73,0.13;1.93,0.11;2.17,0.10;2.44,0.09;2.72,0.09;3.00,0.10;3.28,0.10;3.54,0.12;3.76,0.14;3.91,0.17;3.99,0.21;3.96,0.27;3.82,0.33;3.58,0.39;3.26,0.45;2.91,0.49;2.58,0.49;2.30,0.48;2.09,0.44;1.96,0.39;1.89,0.34;1.89,0.29;1.93,0.25;2.00,0.22;2.12,0.20;2.25,0.18;2.41,0.17;2.58,0.17;2.75,0.17;2.92,0.17;3.06,0.18;3.19,0.20;3.27,0.22;3.31,0.25;3.30,0.28;3.24,0.31;3.13,0.34;2.98,0.36;2.82,0.38;2.65,0.39;2.50,0.38;2.38,0.37;2.30,0.35;2.25,0.33;2.21,0.31;2.19,0.29;2.16,0.28;2.15,0.28;2.15,0.28;2.14,0.28;2.13,0.28;2.12,0.28;2.11,0.28;2.10,0.28;2.09,0.28;2.08,0.28;2.07,0.28;2.06,0.28;2.06,0.28;2.05,0.28;2.04,0.28;2.04,0.28',\n",
              " '1.17,1.51;0.73,1.23;0.55,0.94;0.48,0.70;0.49,0.52;0.54,0.38;0.64,0.29;0.80,0.23;1.02,0.18;1.31,0.16;1.68,0.14;2.12,0.14;2.62,0.16;3.13,0.18;3.59,0.24;3.92,0.32;4.04,0.45;3.86,0.62;3.39,0.83;2.73,1.01;2.05,1.10;1.52,1.07;1.19,0.95;1.00,0.81;0.93,0.66;0.93,0.54;0.99,0.45;1.11,0.37;1.28,0.32;1.51,0.29;1.79,0.28;2.09,0.28;2.41,0.29;2.71,0.33;2.94,0.39;3.06,0.47;3.04,0.57;2.85,0.68;2.55,0.79;2.19,0.85;1.84,0.87;1.57,0.83;1.38,0.76;1.28,0.68;1.25,0.59;1.27,0.52;1.35,0.46;1.47,0.42;1.63,0.39;1.81,0.37;2.02,0.37;2.22,0.39;2.40,0.42;2.53,0.46;2.59,0.51;2.57,0.58;2.46,0.65;2.29,0.70;2.08,0.74;1.88,0.75;1.70,0.73;1.57,0.69;1.50,0.64;1.47,0.59;1.49,0.54;1.55,0.50;1.64,0.47;1.75,0.45;1.88,0.44;2.01,0.44;2.14,0.45;2.24,0.48;2.31,0.51;2.33,0.55;2.30,0.59;2.23,0.63;2.12,0.66;1.99,0.67;1.87,0.67;1.76,0.66;1.68,0.64;1.60,0.62;1.55,0.60;1.49,0.59;1.43,0.58;1.37,0.57;1.34,0.56;1.32,0.56;1.32,0.55;1.32,0.55;1.32,0.55;1.32,0.55;1.32,0.55;1.32,0.55;1.32,0.55;1.32,0.55;1.32,0.55;1.32,0.55;1.32,0.55;1.32,0.55',\n",
              " '1.45,1.44;1.32,1.31;1.27,1.17;1.29,1.05;1.39,0.95;1.56,0.88;1.80,0.83;2.10,0.82;2.45,0.84;2.81,0.89;3.13,0.99;3.34,1.12;3.36,1.29;3.16,1.47;2.78,1.63;2.29,1.72;1.82,1.72;1.46,1.62;1.22,1.46;1.10,1.29;1.07,1.12;1.12,0.97;1.26,0.86;1.47,0.78;1.77,0.73;2.16,0.72;2.61,0.75;3.09,0.82;3.52,0.94;3.80,1.11;3.81,1.33;3.51,1.58;2.95,1.79;2.27,1.91;1.67,1.88;1.24,1.73;1.00,1.51;0.88,1.28;0.87,1.07;0.93,0.91;1.08,0.78;1.31,0.69;1.65,0.63;2.10,0.62;2.66,0.64;3.29,0.70;3.89,0.83;4.33,1.02;4.44,1.29;4.12,1.61;3.39,1.93;2.45,2.13;1.64,2.11;1.11,1.91;0.82,1.62;0.69,1.34;0.66,1.09;0.71,0.89;0.83,0.73;1.04,0.62;1.36,0.55;1.81,0.51;2.41,0.51;3.14,0.56;3.95,0.65;4.68,0.82;5.13,1.07;5.09,1.43;4.43,1.86;3.30,2.24;2.10,2.40;1.24,2.27;0.78,1.94;0.57,1.57;0.49,1.25;0.49,0.98;0.56,0.78;0.69,0.63;0.90,0.52;1.23,0.45;1.57,0.42;2.18,0.42;3.05,0.45;3.92,0.52;4.68,0.68;5.23,1.01;5.09,1.41;4.43,1.82;3.30,2.20;2.10,2.40;1.24,2.27;0.78,1.94;0.57,1.57;0.49,1.25;0.49,0.98;0.56,0.78;0.69,0.63;0.90,0.52;1.23,0.45;1.57,0.42',\n",
              " '1.45,1.31;1.03,1.03;0.83,0.76;0.77,0.55;0.78,0.39;0.86,0.28;0.99,0.21;1.17,0.16;1.42,0.13;1.73,0.11;2.11,0.10;2.57,0.09;3.10,0.10;3.68,0.11;4.30,0.13;4.91,0.17;5.46,0.23;5.87,0.32;6.04,0.46;5.87,0.67;5.27,0.94;4.26,1.23;3.07,1.42;2.04,1.41;1.37,1.21;1.02,0.94;0.86,0.70;0.81,0.51;0.84,0.37;0.93,0.27;1.08,0.20;1.28,0.16;1.54,0.13;1.88,0.11;2.28,0.10;2.76,0.10;3.30,0.11;3.89,0.13;4.49,0.15;5.06,0.20;5.53,0.27;5.83,0.39;5.85,0.56;5.50,0.79;4.73,1.06;3.66,1.30;2.55,1.40;1.71,1.30;1.21,1.07;0.96,0.82;0.86,0.60;0.85,0.44;0.91,0.32;1.03,0.24;1.21,0.19;1.44,0.15;1.74,0.13;2.11,0.11;2.55,0.11;3.05,0.11;3.61,0.13;4.19,0.15;4.77,0.19;5.27,0.25;5.62,0.35;5.75,0.50;5.54,0.70;4.94,0.95;4.00,1.20;2.92,1.35;1.99,1.32;1.39,1.14;1.06,0.89;0.92,0.67;0.88,0.49;0.92,0.36;1.02,0.27;1.17,0.21;1.39,0.17;1.67,0.14;1.98,0.13;2.39,0.13;2.78,0.13;3.15,0.13;3.54,0.13;3.88,0.13;4.24,0.13;4.62,0.14;5.00,0.16;5.36,0.19;5.66,0.24;5.75,0.32;5.57,0.46;4.91,0.64;4.02,0.84;3.07,1.06;2.04,1.28;1.37,1.49;1.02,1.61;0.86,1.77',\n",
              " '1.31,1.46;0.98,1.33;0.81,1.12;0.74,0.91;0.75,0.73;0.83,0.59;0.97,0.50;1.17,0.45;1.43,0.43;1.72,0.45;2.02,0.52;2.25,0.64;2.32,0.83;2.17,1.06;1.84,1.26;1.44,1.34;1.12,1.29;0.93,1.13;0.84,0.95;0.83,0.78;0.89,0.65;1.01,0.56;1.18,0.51;1.40,0.48;1.65,0.50;1.90,0.56;2.09,0.66;2.16,0.81;2.06,1.00;1.80,1.17;1.49,1.25;1.21,1.22;1.02,1.11;0.92,0.96;0.91,0.81;0.95,0.69;1.05,0.61;1.20,0.55;1.39,0.53;1.61,0.54;1.82,0.59;1.98,0.69;2.04,0.82;1.96,0.98;1.75,1.11;1.49,1.18;1.25,1.16;1.08,1.07;0.99,0.94;0.97,0.82;1.01,0.71;1.10,0.64;1.24,0.59;1.41,0.57;1.59,0.58;1.77,0.63;1.90,0.72;1.93,0.83;1.86,0.96;1.69,1.07;1.47,1.12;1.27,1.11;1.13,1.03;1.05,0.92;1.03,0.82;1.07,0.73;1.16,0.66;1.28,0.62;1.43,0.61;1.59,0.62;1.73,0.67;1.83,0.75;1.85,0.85;1.78,0.95;1.63,1.04;1.45,1.08;1.29,1.06;1.16,1.00;1.10,0.91;1.08,0.82;1.10,0.73;1.18,0.65;1.25,0.60;1.35,0.57;1.47,0.56;1.61,0.56;1.78,0.56;1.97,0.58;2.11,0.60;2.21,0.61;2.30,0.62;2.37,0.64;2.35,0.66;2.30,0.68;2.21,0.70;2.07,0.72;1.93,0.73;1.75,0.75;1.60,0.75;1.42,0.75']"
            ]
          },
          "execution_count": 17,
          "metadata": {},
          "output_type": "execute_result"
        }
      ],
      "source": [
        "# inspect outputs\n",
        "\n",
        "decoded_output"
      ]
    },
    {
      "cell_type": "code",
      "execution_count": null,
      "metadata": {
        "colab": {
          "base_uri": "https://localhost:8080/"
        },
        "id": "yFvEzKSnvcHW",
        "outputId": "823ec977-926e-4121-8086-e3c2effe175f"
      },
      "outputs": [
        {
          "name": "stdout",
          "output_type": "stream",
          "text": [
            "[[(1.45, 1.17), (1.03, 1.36), (0.68, 1.33), (0.49, 1.15), (0.4, 0.93), (0.38, 0.74), (0.41, 0.59), (0.49, 0.48), (0.62, 0.41), (0.81, 0.38), (1.07, 0.39), (1.38, 0.44), (1.67, 0.58), (1.78, 0.82), (1.58, 1.14), (1.13, 1.39), (0.72, 1.4), (0.48, 1.22), (0.38, 0.99), (0.35, 0.77), (0.37, 0.6), (0.44, 0.48), (0.56, 0.4), (0.74, 0.36), (1.0, 0.36), (1.32, 0.4), (1.66, 0.51), (1.86, 0.73), (1.74, 1.07), (1.29, 1.39), (0.8, 1.48), (0.5, 1.32), (0.37, 1.07), (0.33, 0.83), (0.33, 0.64), (0.39, 0.5), (0.49, 0.41), (0.65, 0.35), (0.89, 0.33), (1.21, 0.35), (1.58, 0.44), (1.89, 0.62), (1.93, 0.94), (1.54, 1.33), (0.97, 1.55), (0.57, 1.45), (0.38, 1.19), (0.31, 0.92), (0.3, 0.7), (0.33, 0.54), (0.41, 0.42), (0.55, 0.35), (0.75, 0.31), (1.04, 0.31), (1.42, 0.36), (1.82, 0.49), (2.06, 0.74), (1.87, 1.16), (1.28, 1.54), (0.72, 1.6), (0.42, 1.37), (0.3, 1.07), (0.27, 0.81), (0.28, 0.61), (0.33, 0.46), (0.43, 0.37), (0.59, 0.31), (0.84, 0.28), (1.18, 0.3), (1.61, 0.37), (2.03, 0.53), (2.18, 0.87), (1.77, 1.37), (1.05, 1.69), (0.55, 1.6), (0.33, 1.3), (0.25, 0.98), (0.24, 0.73), (0.26, 0.54), (0.33, 0.41), (0.43, 0.33), (0.58, 0.31), (0.81, 0.31), (1.16, 0.31), (1.58, 0.38), (1.95, 0.51), (2.12, 0.75), (1.9, 1.13), (1.27, 1.56), (0.74, 1.63), (0.46, 1.38), (0.34, 1.07), (0.31, 0.8), (0.3, 0.62), (0.34, 0.48), (0.43, 0.4), (0.58, 0.32), (0.82, 0.31), (1.18, 0.31), (1.6, 0.37)], [(1.12, 1.31), (0.79, 1.48), (0.51, 1.5), (0.34, 1.41), (0.24, 1.26), (0.19, 1.11), (0.17, 0.95), (0.16, 0.82), (0.16, 0.7), (0.18, 0.6), (0.21, 0.52), (0.26, 0.46), (0.33, 0.42), (0.43, 0.38), (0.56, 0.37), (0.74, 0.38), (0.95, 0.41), (1.19, 0.48), (1.41, 0.6), (1.52, 0.8), (1.43, 1.05), (1.15, 1.32), (0.79, 1.49), (0.51, 1.52), (0.33, 1.43), (0.24, 1.28), (0.18, 1.11), (0.16, 0.96), (0.15, 0.82), (0.16, 0.7), (0.17, 0.6), (0.2, 0.52), (0.25, 0.46), (0.32, 0.41), (0.41, 0.38), (0.54, 0.36), (0.72, 0.37), (0.94, 0.4), (1.18, 0.46), (1.41, 0.58), (1.54, 0.77), (1.47, 1.03), (1.2, 1.31), (0.83, 1.5), (0.53, 1.54), (0.34, 1.45), (0.24, 1.3), (0.18, 1.14), (0.16, 0.98), (0.15, 0.84), (0.15, 0.71), (0.16, 0.61), (0.19, 0.53), (0.24, 0.46), (0.3, 0.41), (0.39, 0.38), (0.52, 0.36), (0.69, 0.36), (0.9, 0.38), (1.15, 0.44), (1.4, 0.55), (1.56, 0.73), (1.53, 0.99), (1.27, 1.28), (0.89, 1.5), (0.57, 1.56), (0.36, 1.49), (0.24, 1.34), (0.18, 1.17), (0.15, 1.01), (0.14, 0.86), (0.14, 0.73), (0.15, 0.62), (0.18, 0.54), (0.22, 0.47), (0.28, 0.41), (0.36, 0.37), (0.48, 0.35), (0.64, 0.35), (0.85, 0.37), (1.06, 0.39), (1.29, 0.43), (1.49, 0.53), (1.49, 0.74), (1.29, 0.98), (0.95, 1.29), (0.6, 1.54), (0.33, 1.53), (0.24, 1.42), (0.19, 1.29), (0.17, 1.15), (0.17, 1.03), (0.19, 0.94), (0.23, 0.85), (0.27, 0.78), (0.34, 0.72), (0.42, 0.67), (0.52, 0.66), (0.68, 0.67), (0.88, 0.69)], [(1.09, 1.19), (1.11, 0.98), (1.21, 0.81), (1.41, 0.69), (1.69, 0.6), (2.08, 0.55), (2.57, 0.53), (3.13, 0.54), (3.74, 0.59), (4.31, 0.68), (4.75, 0.81), (4.95, 1.0), (4.84, 1.23), (4.4, 1.48), (3.72, 1.71), (2.95, 1.84), (2.26, 1.83), (1.77, 1.69), (1.47, 1.49), (1.32, 1.28), (1.28, 1.08), (1.34, 0.92), (1.49, 0.79), (1.72, 0.7), (2.04, 0.64), (2.45, 0.61), (2.93, 0.61), (3.44, 0.65), (3.93, 0.72), (4.31, 0.83), (4.52, 0.99), (4.47, 1.18), (4.17, 1.39), (3.64, 1.58), (3.02, 1.7), (2.43, 1.72), (1.97, 1.63), (1.66, 1.47), (1.49, 1.3), (1.44, 1.12), (1.48, 0.97), (1.61, 0.85), (1.81, 0.76), (2.1, 0.7), (2.46, 0.67), (2.87, 0.67), (3.31, 0.71), (3.72, 0.77), (4.04, 0.87), (4.21, 1.01), (4.17, 1.18), (3.92, 1.35), (3.5, 1.51), (2.99, 1.61), (2.49, 1.63), (2.07, 1.56), (1.79, 1.44), (1.63, 1.28), (1.57, 1.13), (1.6, 0.99), (1.72, 0.88), (1.91, 0.8), (2.17, 0.75), (2.5, 0.72), (2.87, 0.72), (3.25, 0.76), (3.6, 0.82), (3.86, 0.92), (3.99, 1.04), (3.94, 1.19), (3.72, 1.34), (3.35, 1.47), (2.91, 1.54), (2.48, 1.56), (2.13, 1.5), (1.87, 1.39), (1.73, 1.26), (1.68, 1.12), (1.72, 1.0), (1.83, 0.9), (2.03, 0.82), (2.24, 0.75), (2.48, 0.7), (2.78, 0.66), (3.11, 0.64), (3.48, 0.63), (3.82, 0.63), (4.16, 0.64), (4.4, 0.65), (4.34, 0.67), (4.08, 0.69), (3.73, 0.72), (3.28, 0.75), (2.88, 0.78), (2.56, 0.81), (2.3, 0.75), (2.07, 0.69), (1.85, 0.65), (1.7, 0.61), (1.61, 0.56)], [(1.16, 1.38), (0.76, 1.24), (0.57, 0.99), (0.5, 0.75), (0.5, 0.57), (0.55, 0.43), (0.65, 0.34), (0.8, 0.28), (1.02, 0.24), (1.31, 0.24), (1.66, 0.26), (2.04, 0.32), (2.35, 0.44), (2.45, 0.66), (2.18, 0.97), (1.64, 1.23), (1.11, 1.28), (0.77, 1.14), (0.61, 0.92), (0.55, 0.71), (0.56, 0.55), (0.62, 0.43), (0.74, 0.35), (0.9, 0.29), (1.13, 0.27), (1.42, 0.27), (1.75, 0.31), (2.07, 0.39), (2.28, 0.54), (2.24, 0.77), (1.9, 1.03), (1.41, 1.19), (1.0, 1.17), (0.76, 1.02), (0.64, 0.82), (0.61, 0.65), (0.64, 0.51), (0.72, 0.41), (0.85, 0.35), (1.03, 0.31), (1.27, 0.3), (1.56, 0.32), (1.85, 0.37), (2.09, 0.48), (2.16, 0.65), (1.99, 0.88), (1.61, 1.07), (1.2, 1.13), (0.91, 1.05), (0.74, 0.89), (0.67, 0.73), (0.67, 0.58), (0.72, 0.47), (0.83, 0.4), (0.98, 0.35), (1.19, 0.33), (1.43, 0.33), (1.7, 0.37), (1.93, 0.46), (2.05, 0.6), (1.97, 0.78), (1.7, 0.97), (1.34, 1.06), (1.03, 1.04), (0.84, 0.92), (0.74, 0.77), (0.71, 0.64), (0.74, 0.52), (0.83, 0.44), (0.96, 0.39), (1.14, 0.36), (1.35, 0.36), (1.59, 0.39), (1.8, 0.45), (1.94, 0.57), (1.92, 0.72), (1.73, 0.89), (1.43, 1.0), (1.13, 1.01), (0.92, 0.93), (0.75, 0.84), (0.68, 0.7), (0.66, 0.55), (0.7, 0.45), (0.83, 0.4), (0.98, 0.35), (1.17, 0.33), (1.42, 0.33), (1.72, 0.37), (1.96, 0.48), (2.07, 0.63), (1.95, 0.84), (1.7, 0.99), (1.32, 1.08), (1.02, 1.05), (0.77, 0.91), (0.7, 0.75), (0.69, 0.61), (0.72, 0.49), (0.84, 0.43)], [(1.54, 1.22), (1.17, 1.34), (0.85, 1.34), (0.64, 1.24), (0.52, 1.1), (0.47, 0.95), (0.47, 0.81), (0.5, 0.7), (0.58, 0.61), (0.69, 0.55), (0.85, 0.51), (1.06, 0.5), (1.31, 0.53), (1.55, 0.6), (1.74, 0.72), (1.78, 0.88), (1.63, 1.08), (1.34, 1.23), (1.03, 1.29), (0.78, 1.26), (0.62, 1.15), (0.54, 1.02), (0.51, 0.88), (0.52, 0.77), (0.57, 0.67), (0.66, 0.6), (0.8, 0.56), (0.97, 0.54), (1.18, 0.55), (1.4, 0.59), (1.59, 0.68), (1.68, 0.81), (1.63, 0.98), (1.43, 1.13), (1.15, 1.23), (0.9, 1.23), (0.72, 1.17), (0.61, 1.06), (0.56, 0.94), (0.55, 0.82), (0.59, 0.73), (0.66, 0.65), (0.76, 0.6), (0.91, 0.57), (1.09, 0.57), (1.29, 0.6), (1.47, 0.67), (1.58, 0.77), (1.59, 0.91), (1.46, 1.05), (1.24, 1.16), (1.0, 1.2), (0.81, 1.16), (0.68, 1.08), (0.61, 0.97), (0.59, 0.87), (0.61, 0.77), (0.66, 0.69), (0.75, 0.63), (0.87, 0.6), (1.03, 0.59), (1.2, 0.61), (1.37, 0.66), (1.49, 0.75), (1.53, 0.86), (1.45, 0.99), (1.28, 1.1), (1.07, 1.15), (0.89, 1.15), (0.75, 1.08), (0.66, 1.0), (0.63, 0.9), (0.63, 0.8), (0.67, 0.73), (0.75, 0.67), (0.85, 0.63), (0.99, 0.61), (1.14, 0.63), (1.3, 0.67), (1.42, 0.74), (1.5, 0.82), (1.51, 0.95), (1.41, 1.08), (1.22, 1.17), (1.02, 1.17), (0.8, 1.16), (0.61, 1.05), (0.53, 0.93), (0.47, 0.83), (0.45, 0.73), (0.47, 0.63), (0.52, 0.55), (0.62, 0.5), (0.75, 0.46), (0.91, 0.45), (1.11, 0.45), (1.32, 0.48), (1.47, 0.55), (1.59, 0.65), (1.59, 0.77)], [(1.08, 1.42), (0.91, 1.12), (0.86, 0.86), (0.9, 0.66), (1.02, 0.52), (1.21, 0.42), (1.49, 0.36), (1.85, 0.33), (2.31, 0.33), (2.84, 0.35), (3.41, 0.42), (3.92, 0.54), (4.25, 0.75), (4.22, 1.06), (3.73, 1.44), (2.87, 1.76), (1.98, 1.86), (1.36, 1.69), (1.02, 1.39), (0.87, 1.09), (0.84, 0.83), (0.89, 0.64), (1.02, 0.5), (1.22, 0.4), (1.5, 0.35), (1.88, 0.32), (2.35, 0.32), (2.9, 0.35), (3.48, 0.42), (4.01, 0.55), (4.33, 0.76), (4.28, 1.08), (3.73, 1.48), (2.82, 1.81), (1.92, 1.89), (1.31, 1.7), (0.98, 1.38), (0.84, 1.07), (0.82, 0.81), (0.87, 0.62), (1.0, 0.48), (1.21, 0.39), (1.5, 0.33), (1.89, 0.31), (2.37, 0.31), (2.93, 0.34), (3.53, 0.41), (4.07, 0.54), (4.41, 0.76), (4.35, 1.09), (3.78, 1.5), (2.83, 1.84), (1.91, 1.92), (1.28, 1.72), (0.96, 1.39), (0.82, 1.07), (0.79, 0.81), (0.85, 0.61), (0.98, 0.48), (1.19, 0.38), (1.48, 0.33), (1.86, 0.3), (2.35, 0.3), (2.92, 0.32), (3.53, 0.39), (4.1, 0.52), (4.46, 0.74), (4.43, 1.07), (3.87, 1.49), (2.9, 1.85), (1.94, 1.95), (1.29, 1.75), (0.95, 1.42), (0.8, 1.09), (0.77, 0.82), (0.82, 0.62), (0.95, 0.47), (1.15, 0.38), (1.44, 0.32), (1.82, 0.29), (2.36, 0.3), (2.92, 0.3), (3.52, 0.32), (4.06, 0.37), (4.42, 0.44), (4.35, 0.6), (3.87, 0.81), (2.92, 1.04), (1.95, 1.19), (1.32, 1.01), (1.0, 0.73), (0.86, 0.54), (0.84, 0.36), (0.88, 0.22), (1.01, 0.12), (1.18, 0.08), (1.34, 0.06), (1.56, 0.05), (1.84, 0.05), (2.23, 0.06)], [(1.3, 1.28), (1.22, 1.14), (1.23, 1.0), (1.3, 0.89), (1.43, 0.81), (1.62, 0.77), (1.85, 0.76), (2.08, 0.79), (2.28, 0.85), (2.39, 0.95), (2.39, 1.08), (2.25, 1.21), (2.03, 1.3), (1.79, 1.33), (1.58, 1.3), (1.44, 1.22), (1.37, 1.12), (1.37, 1.02), (1.42, 0.94), (1.53, 0.87), (1.68, 0.84), (1.85, 0.83), (2.02, 0.86), (2.15, 0.91), (2.23, 0.99), (2.21, 1.08), (2.12, 1.17), (1.96, 1.23), (1.79, 1.25), (1.63, 1.23), (1.53, 1.17), (1.47, 1.1), (1.47, 1.02), (1.52, 0.96), (1.6, 0.91), (1.72, 0.89), (1.85, 0.88), (1.97, 0.91), (2.07, 0.95), (2.11, 1.01), (2.1, 1.08), (2.02, 1.14), (1.91, 1.18), (1.78, 1.19), (1.67, 1.18), (1.59, 1.14), (1.55, 1.08), (1.55, 1.03), (1.58, 0.98), (1.65, 0.94), (1.75, 0.92), (1.84, 0.92), (1.94, 0.94), (2.0, 0.98), (2.03, 1.02), (2.02, 1.07), (1.96, 1.12), (1.87, 1.15), (1.78, 1.16), (1.7, 1.14), (1.64, 1.11), (1.61, 1.07), (1.61, 1.03), (1.64, 0.99), (1.69, 0.96), (1.76, 0.95), (1.84, 0.95), (1.91, 0.97), (1.95, 1.0), (1.97, 1.03), (1.96, 1.07), (1.91, 1.1), (1.85, 1.12), (1.78, 1.13), (1.72, 1.12), (1.67, 1.09), (1.65, 1.06), (1.65, 1.03), (1.68, 1.0), (1.72, 0.98), (1.78, 0.97), (1.85, 0.96), (1.94, 0.95), (1.98, 0.95), (2.02, 0.97), (2.04, 1.0), (2.04, 1.04), (2.03, 1.07), (1.99, 1.1), (1.94, 1.12), (1.87, 1.12), (1.81, 1.11), (1.76, 1.11), (1.71, 1.1), (1.67, 1.09), (1.65, 1.07), (1.63, 1.05), (1.62, 1.03), (1.62, 1.0), (1.62, 0.98)], [(1.43, 1.36), (1.15, 1.64), (0.84, 1.8), (0.59, 1.82), (0.42, 1.73), (0.32, 1.57), (0.27, 1.4), (0.24, 1.23), (0.24, 1.07), (0.25, 0.94), (0.28, 0.82), (0.32, 0.73), (0.39, 0.66), (0.48, 0.62), (0.6, 0.59), (0.75, 0.59), (0.93, 0.62), (1.11, 0.7), (1.27, 0.81), (1.35, 0.99), (1.31, 1.2), (1.15, 1.43), (0.92, 1.6), (0.7, 1.67), (0.53, 1.64), (0.42, 1.54), (0.35, 1.41), (0.31, 1.27), (0.3, 1.13), (0.3, 1.0), (0.32, 0.9), (0.36, 0.81), (0.42, 0.74), (0.5, 0.7), (0.6, 0.67), (0.73, 0.67), (0.87, 0.7), (1.02, 0.76), (1.13, 0.86), (1.2, 1.0), (1.17, 1.17), (1.06, 1.34), (0.9, 1.47), (0.73, 1.54), (0.58, 1.53), (0.48, 1.47), (0.41, 1.36), (0.37, 1.25), (0.35, 1.13), (0.35, 1.03), (0.37, 0.93), (0.41, 0.86), (0.46, 0.8), (0.54, 0.76), (0.63, 0.74), (0.74, 0.74), (0.85, 0.77), (0.96, 0.83), (1.05, 0.91), (1.08, 1.03), (1.06, 1.16), (0.97, 1.29), (0.85, 1.39), (0.72, 1.44), (0.6, 1.44), (0.51, 1.39), (0.45, 1.31), (0.41, 1.22), (0.4, 1.12), (0.4, 1.03), (0.42, 0.95), (0.46, 0.88), (0.51, 0.83), (0.58, 0.8), (0.66, 0.79), (0.75, 0.8), (0.84, 0.83), (0.92, 0.89), (0.98, 0.96), (1.0, 1.06), (1.02, 1.09), (1.03, 1.12), (1.04, 1.16), (1.04, 1.19), (1.04, 1.22), (1.04, 1.24), (1.04, 1.25), (1.04, 1.25), (1.05, 1.25), (1.05, 1.24), (1.05, 1.23), (1.05, 1.23), (1.05, 1.23), (1.05, 1.23), (1.05, 1.23), (1.05, 1.23), (1.05, 1.23), (1.05, 1.23), (1.05, 1.23), (1.05, 1.23)], [(1.46, 1.5), (0.91, 1.11), (0.7, 0.76), (0.64, 0.52), (0.65, 0.35), (0.72, 0.24), (0.84, 0.16), (1.01, 0.12), (1.23, 0.08), (1.51, 0.06), (1.85, 0.05), (2.25, 0.04), (2.72, 0.04), (3.24, 0.04), (3.8, 0.04), (4.38, 0.04), (4.94, 0.05), (5.46, 0.06), (5.91, 0.08), (6.27, 0.1), (6.51, 0.14), (6.6, 0.2), (6.53, 0.27), (6.26, 0.37), (5.79, 0.49), (5.15, 0.62), (4.4, 0.73), (3.64, 0.79), (2.99, 0.79), (2.5, 0.74), (2.17, 0.65), (1.99, 0.55), (1.92, 0.46), (1.94, 0.38), (2.03, 0.32), (2.18, 0.27), (2.38, 0.24), (2.62, 0.21), (2.89, 0.2), (3.19, 0.19), (3.49, 0.19), (3.79, 0.2), (4.06, 0.22), (4.29, 0.24), (4.45, 0.27), (4.53, 0.31), (4.53, 0.35), (4.44, 0.4), (4.26, 0.45), (4.02, 0.5), (3.74, 0.53), (3.45, 0.55), (3.19, 0.55), (2.96, 0.54), (2.79, 0.51), (2.68, 0.47), (2.62, 0.43), (2.62, 0.4), (2.66, 0.36), (2.74, 0.34), (2.85, 0.31), (2.99, 0.3), (3.14, 0.29), (3.29, 0.29), (3.45, 0.29), (3.59, 0.3), (3.71, 0.31), (3.79, 0.32), (3.85, 0.34), (3.86, 0.37), (3.83, 0.39), (3.76, 0.41), (3.67, 0.43), (3.55, 0.45), (3.42, 0.46), (3.3, 0.46), (3.19, 0.46), (3.09, 0.45), (3.02, 0.44), (2.98, 0.42), (2.92, 0.39), (2.86, 0.37), (2.8, 0.35), (2.76, 0.33), (2.72, 0.32), (2.68, 0.31), (2.65, 0.3), (2.61, 0.29), (2.57, 0.29), (2.55, 0.3), (2.53, 0.32), (2.52, 0.35), (2.52, 0.38), (2.52, 0.41), (2.51, 0.43), (2.5, 0.44), (2.49, 0.44), (2.49, 0.45), (2.49, 0.45), (2.49, 0.45)], [(1.52, 1.25), (1.06, 1.12), (0.84, 0.93), (0.75, 0.74), (0.77, 0.59), (0.86, 0.47), (1.04, 0.39), (1.3, 0.34), (1.65, 0.32), (2.1, 0.33), (2.59, 0.38), (3.02, 0.49), (3.2, 0.66), (2.97, 0.89), (2.38, 1.1), (1.71, 1.19), (1.23, 1.11), (0.96, 0.95), (0.84, 0.78), (0.84, 0.63), (0.91, 0.51), (1.06, 0.43), (1.3, 0.38), (1.62, 0.35), (2.01, 0.36), (2.45, 0.4), (2.83, 0.5), (3.01, 0.65), (2.85, 0.85), (2.38, 1.03), (1.8, 1.12), (1.34, 1.08), (1.06, 0.95), (0.93, 0.79), (0.91, 0.65), (0.97, 0.54), (1.11, 0.46), (1.33, 0.41), (1.62, 0.38), (1.98, 0.39), (2.37, 0.43), (2.7, 0.52), (2.85, 0.65), (2.72, 0.83), (2.32, 0.99), (1.82, 1.07), (1.4, 1.04), (1.13, 0.93), (1.0, 0.79), (0.98, 0.66), (1.03, 0.56), (1.17, 0.48), (1.37, 0.43), (1.65, 0.41), (1.98, 0.42), (2.32, 0.46), (2.6, 0.54), (2.72, 0.67), (2.59, 0.82), (2.24, 0.96), (1.8, 1.02), (1.43, 1.0), (1.18, 0.9), (1.06, 0.78), (1.04, 0.66), (1.1, 0.57), (1.22, 0.49), (1.42, 0.45), (1.68, 0.43), (1.99, 0.44), (2.29, 0.48), (2.53, 0.57), (2.61, 0.68), (2.47, 0.82), (2.15, 0.94), (1.77, 0.99), (1.44, 0.96), (1.22, 0.87), (1.11, 0.76), (1.1, 0.65), (1.19, 0.55), (1.32, 0.47), (1.56, 0.47), (1.84, 0.48), (2.16, 0.5), (2.42, 0.56), (2.59, 0.69), (2.51, 0.84), (2.25, 0.99), (1.81, 1.07), (1.48, 1.05), (1.28, 0.94), (1.16, 0.8), (1.1, 0.67), (1.18, 0.56), (1.25, 0.47), (1.38, 0.41), (1.57, 0.39), (1.82, 0.37), (2.13, 0.38)], [(1.54, 1.31), (1.16, 1.24), (0.89, 1.13), (0.73, 1.0), (0.62, 0.87), (0.55, 0.74), (0.52, 0.63), (0.5, 0.54), (0.5, 0.46), (0.52, 0.39), (0.55, 0.33), (0.59, 0.28), (0.65, 0.25), (0.72, 0.21), (0.8, 0.19), (0.9, 0.17), (1.01, 0.15), (1.15, 0.14), (1.3, 0.13), (1.47, 0.12), (1.65, 0.12), (1.86, 0.12), (2.07, 0.12), (2.3, 0.13), (2.52, 0.13), (2.75, 0.15), (2.97, 0.16), (3.16, 0.19), (3.33, 0.21), (3.46, 0.25), (3.53, 0.3), (3.55, 0.35), (3.51, 0.42), (3.39, 0.5), (3.21, 0.58), (2.97, 0.66), (2.7, 0.73), (2.4, 0.79), (2.11, 0.83), (1.84, 0.85), (1.6, 0.84), (1.41, 0.81), (1.26, 0.77), (1.14, 0.71), (1.06, 0.66), (1.01, 0.6), (0.98, 0.54), (0.97, 0.49), (0.98, 0.44), (1.01, 0.4), (1.04, 0.36), (1.1, 0.33), (1.16, 0.31), (1.24, 0.29), (1.33, 0.27), (1.43, 0.26), (1.55, 0.25), (1.67, 0.24), (1.8, 0.24), (1.93, 0.24), (2.06, 0.25), (2.19, 0.25), (2.32, 0.27), (2.43, 0.28), (2.53, 0.3), (2.6, 0.33), (2.66, 0.36), (2.68, 0.39), (2.67, 0.43), (2.63, 0.47), (2.56, 0.51), (2.46, 0.55), (2.34, 0.59), (2.2, 0.62), (2.06, 0.64), (1.92, 0.65), (1.78, 0.66), (1.66, 0.65), (1.56, 0.64), (1.47, 0.61), (1.4, 0.59), (1.36, 0.58), (1.34, 0.57), (1.33, 0.56), (1.33, 0.55), (1.33, 0.54), (1.32, 0.53), (1.31, 0.52), (1.31, 0.51), (1.31, 0.5), (1.31, 0.49), (1.31, 0.48), (1.31, 0.48), (1.31, 0.48), (1.31, 0.48), (1.31, 0.48), (1.31, 0.48), (1.31, 0.48), (1.31, 0.48), (1.31, 0.48)], [(1.31, 1.13), (0.85, 1.0), (0.62, 0.82), (0.51, 0.64), (0.47, 0.5), (0.47, 0.38), (0.51, 0.29), (0.59, 0.23), (0.7, 0.18), (0.84, 0.15), (1.04, 0.13), (1.28, 0.12), (1.58, 0.12), (1.93, 0.12), (2.32, 0.14), (2.72, 0.17), (3.06, 0.23), (3.28, 0.33), (3.26, 0.48), (2.93, 0.67), (2.35, 0.85), (1.72, 0.95), (1.23, 0.93), (0.91, 0.83), (0.73, 0.69), (0.65, 0.56), (0.62, 0.45), (0.64, 0.36), (0.7, 0.29), (0.8, 0.24), (0.93, 0.2), (1.11, 0.18), (1.32, 0.17), (1.58, 0.16), (1.88, 0.17), (2.19, 0.19), (2.5, 0.23), (2.74, 0.29), (2.86, 0.38), (2.8, 0.5), (2.53, 0.64), (2.11, 0.76), (1.65, 0.82), (1.28, 0.81), (1.02, 0.73), (0.86, 0.63), (0.79, 0.53), (0.77, 0.44), (0.79, 0.37), (0.85, 0.31), (0.95, 0.26), (1.09, 0.23), (1.26, 0.21), (1.46, 0.2), (1.7, 0.21), (1.95, 0.22), (2.2, 0.25), (2.41, 0.29), (2.54, 0.36), (2.54, 0.45), (2.4, 0.55), (2.13, 0.65), (1.79, 0.72), (1.47, 0.73), (1.22, 0.7), (1.04, 0.63), (0.94, 0.55), (0.9, 0.48), (0.9, 0.41), (0.94, 0.35), (1.02, 0.31), (1.13, 0.27), (1.27, 0.25), (1.44, 0.24), (1.63, 0.24), (1.84, 0.25), (2.04, 0.28), (2.21, 0.31), (2.31, 0.37), (2.33, 0.44), (2.33, 0.52), (2.3, 0.62), (2.26, 0.73), (2.14, 0.83), (1.98, 0.93), (1.82, 0.98), (1.69, 0.98), (1.56, 0.94), (1.45, 0.88), (1.36, 0.81), (1.26, 0.74), (1.12, 0.67), (1.0, 0.61), (0.91, 0.55), (0.83, 0.49), (0.75, 0.45), (0.7, 0.42), (0.66, 0.4), (0.64, 0.38), (0.63, 0.37)], [(1.15, 1.38), (1.03, 1.15), (0.98, 0.94), (0.99, 0.77), (1.05, 0.64), (1.16, 0.53), (1.31, 0.45), (1.51, 0.38), (1.77, 0.34), (2.08, 0.31), (2.45, 0.29), (2.89, 0.28), (3.38, 0.29), (3.9, 0.31), (4.44, 0.35), (4.95, 0.4), (5.39, 0.49), (5.7, 0.61), (5.81, 0.76), (5.66, 0.96), (5.26, 1.19), (4.62, 1.42), (3.86, 1.59), (3.11, 1.68), (2.47, 1.66), (1.99, 1.55), (1.67, 1.4), (1.47, 1.22), (1.37, 1.05), (1.33, 0.9), (1.36, 0.76), (1.43, 0.66), (1.56, 0.57), (1.73, 0.5), (1.95, 0.45), (2.21, 0.42), (2.53, 0.4), (2.89, 0.39), (3.28, 0.4), (3.69, 0.42), (4.09, 0.46), (4.46, 0.52), (4.75, 0.6), (4.93, 0.7), (4.96, 0.84), (4.82, 0.99), (4.5, 1.15), (4.04, 1.3), (3.51, 1.41), (2.99, 1.45), (2.53, 1.43), (2.18, 1.36), (1.92, 1.25), (1.76, 1.12), (1.67, 1.0), (1.64, 0.88), (1.67, 0.78), (1.74, 0.69), (1.86, 0.62), (2.03, 0.56), (2.23, 0.52), (2.48, 0.5), (2.75, 0.48), (3.06, 0.48), (3.37, 0.5), (3.69, 0.53), (3.98, 0.57), (4.21, 0.64), (4.37, 0.72), (4.42, 0.82), (4.36, 0.93), (4.17, 1.05), (3.88, 1.16), (3.51, 1.24), (3.13, 1.29), (2.76, 1.3), (2.45, 1.26), (2.21, 1.2), (2.04, 1.11), (1.93, 1.01), (1.86, 0.94), (1.84, 0.87), (1.83, 0.81), (1.84, 0.75), (1.88, 0.71), (1.91, 0.68), (1.95, 0.66), (1.99, 0.64), (2.03, 0.63), (2.07, 0.62), (2.08, 0.6), (2.08, 0.58), (2.07, 0.56), (2.05, 0.55), (2.03, 0.55), (2.02, 0.54), (2.01, 0.54), (2.01, 0.53), (2.01, 0.52), (2.0, 0.51)], [(1.3, 1.14), (1.08, 0.83), (1.05, 0.59), (1.15, 0.42), (1.36, 0.31), (1.68, 0.24), (2.12, 0.2), (2.7, 0.18), (3.4, 0.18), (4.2, 0.19), (5.02, 0.23), (5.76, 0.31), (6.26, 0.43), (6.35, 0.62), (5.87, 0.89), (4.86, 1.17), (3.6, 1.35), (2.52, 1.33), (1.84, 1.15), (1.5, 0.91), (1.39, 0.69), (1.43, 0.53), (1.59, 0.41), (1.86, 0.33), (2.25, 0.28), (2.74, 0.25), (3.34, 0.25), (3.99, 0.27), (4.65, 0.31), (5.2, 0.39), (5.53, 0.51), (5.5, 0.69), (5.05, 0.89), (4.25, 1.09), (3.33, 1.19), (2.54, 1.15), (2.02, 1.01), (1.75, 0.83), (1.66, 0.67), (1.72, 0.53), (1.89, 0.43), (2.17, 0.36), (2.55, 0.32), (3.01, 0.31), (3.54, 0.31), (4.08, 0.34), (4.57, 0.4), (4.91, 0.49), (5.02, 0.62), (4.81, 0.78), (4.31, 0.94), (3.62, 1.05), (2.94, 1.07), (2.4, 1.0), (2.07, 0.87), (1.92, 0.73), (1.9, 0.6), (2.01, 0.5), (2.22, 0.43), (2.52, 0.39), (2.9, 0.36), (3.33, 0.36), (3.78, 0.38), (4.19, 0.43), (4.5, 0.5), (4.62, 0.61), (4.52, 0.73), (4.17, 0.85), (3.67, 0.95), (3.11, 0.99), (2.64, 0.95), (2.31, 0.86), (2.13, 0.75), (2.09, 0.64), (2.16, 0.55), (2.32, 0.48), (2.57, 0.43), (2.88, 0.41), (3.24, 0.41), (3.62, 0.42), (3.98, 0.43), (4.23, 0.45), (4.39, 0.47), (4.45, 0.5), (4.36, 0.57), (4.24, 0.68), (3.97, 0.8), (3.59, 0.94), (3.19, 1.1), (2.97, 1.21), (2.72, 1.31), (2.56, 1.34), (2.46, 1.29), (2.43, 1.23), (2.43, 1.18), (2.45, 1.15), (2.46, 1.13), (2.47, 1.11), (2.48, 1.09), (2.49, 1.07)], [(1.41, 1.38), (1.12, 1.42), (0.9, 1.37), (0.75, 1.26), (0.67, 1.12), (0.64, 0.98), (0.65, 0.86), (0.7, 0.76), (0.79, 0.68), (0.91, 0.63), (1.07, 0.6), (1.26, 0.61), (1.46, 0.64), (1.63, 0.71), (1.75, 0.82), (1.77, 0.97), (1.67, 1.12), (1.48, 1.25), (1.24, 1.33), (1.03, 1.32), (0.87, 1.26), (0.77, 1.15), (0.72, 1.03), (0.71, 0.92), (0.74, 0.82), (0.81, 0.74), (0.91, 0.69), (1.04, 0.66), (1.19, 0.65), (1.36, 0.68), (1.51, 0.73), (1.62, 0.81), (1.66, 0.92), (1.61, 1.05), (1.48, 1.17), (1.3, 1.24), (1.11, 1.26), (0.96, 1.23), (0.85, 1.15), (0.79, 1.06), (0.77, 0.96), (0.79, 0.87), (0.84, 0.79), (0.92, 0.74), (1.02, 0.71), (1.15, 0.69), (1.29, 0.71), (1.42, 0.75), (1.52, 0.81), (1.57, 0.9), (1.55, 1.0), (1.46, 1.1), (1.32, 1.18), (1.16, 1.21), (1.03, 1.19), (0.92, 1.14), (0.85, 1.06), (0.83, 0.98), (0.83, 0.9), (0.87, 0.83), (0.93, 0.78), (1.02, 0.74), (1.12, 0.73), (1.24, 0.74), (1.35, 0.77), (1.44, 0.82), (1.49, 0.89), (1.49, 0.98), (1.43, 1.06), (1.32, 1.13), (1.2, 1.16), (1.07, 1.16), (0.97, 1.12), (0.91, 1.07), (0.87, 1.0), (0.87, 0.92), (0.89, 0.86), (0.94, 0.81), (1.02, 0.78), (1.11, 0.76), (1.21, 0.75), (1.33, 0.75), (1.42, 0.75), (1.47, 0.74), (1.44, 0.73), (1.35, 0.72), (1.22, 0.71), (1.08, 0.7), (0.95, 0.69), (0.88, 0.68), (0.86, 0.67), (0.86, 0.66), (0.89, 0.65), (0.93, 0.64), (1.03, 0.64), (1.15, 0.64), (1.28, 0.65), (1.41, 0.67), (1.56, 0.7), (1.69, 0.75)], [(1.27, 1.5), (0.7, 1.06), (0.49, 0.68), (0.43, 0.43), (0.43, 0.27), (0.47, 0.17), (0.54, 0.11), (0.64, 0.07), (0.76, 0.05), (0.92, 0.03), (1.12, 0.02), (1.36, 0.02), (1.63, 0.01), (1.95, 0.01), (2.31, 0.01), (2.71, 0.01), (3.13, 0.01), (3.57, 0.01), (4.01, 0.01), (4.44, 0.02), (4.84, 0.03), (5.19, 0.04), (5.47, 0.06), (5.66, 0.09), (5.72, 0.14), (5.6, 0.22), (5.26, 0.34), (4.67, 0.5), (3.87, 0.65), (3.03, 0.74), (2.31, 0.75), (1.81, 0.67), (1.52, 0.55), (1.37, 0.43), (1.32, 0.33), (1.35, 0.25), (1.43, 0.2), (1.56, 0.16), (1.73, 0.13), (1.93, 0.11), (2.17, 0.1), (2.44, 0.09), (2.72, 0.09), (3.0, 0.1), (3.28, 0.1), (3.54, 0.12), (3.76, 0.14), (3.91, 0.17), (3.99, 0.21), (3.96, 0.27), (3.82, 0.33), (3.58, 0.39), (3.26, 0.45), (2.91, 0.49), (2.58, 0.49), (2.3, 0.48), (2.09, 0.44), (1.96, 0.39), (1.89, 0.34), (1.89, 0.29), (1.93, 0.25), (2.0, 0.22), (2.12, 0.2), (2.25, 0.18), (2.41, 0.17), (2.58, 0.17), (2.75, 0.17), (2.92, 0.17), (3.06, 0.18), (3.19, 0.2), (3.27, 0.22), (3.31, 0.25), (3.3, 0.28), (3.24, 0.31), (3.13, 0.34), (2.98, 0.36), (2.82, 0.38), (2.65, 0.39), (2.5, 0.38), (2.38, 0.37), (2.3, 0.35), (2.25, 0.33), (2.21, 0.31), (2.19, 0.29), (2.16, 0.28), (2.15, 0.28), (2.15, 0.28), (2.14, 0.28), (2.13, 0.28), (2.12, 0.28), (2.11, 0.28), (2.1, 0.28), (2.09, 0.28), (2.08, 0.28), (2.07, 0.28), (2.06, 0.28), (2.06, 0.28), (2.05, 0.28), (2.04, 0.28), (2.04, 0.28)], [(1.17, 1.51), (0.73, 1.23), (0.55, 0.94), (0.48, 0.7), (0.49, 0.52), (0.54, 0.38), (0.64, 0.29), (0.8, 0.23), (1.02, 0.18), (1.31, 0.16), (1.68, 0.14), (2.12, 0.14), (2.62, 0.16), (3.13, 0.18), (3.59, 0.24), (3.92, 0.32), (4.04, 0.45), (3.86, 0.62), (3.39, 0.83), (2.73, 1.01), (2.05, 1.1), (1.52, 1.07), (1.19, 0.95), (1.0, 0.81), (0.93, 0.66), (0.93, 0.54), (0.99, 0.45), (1.11, 0.37), (1.28, 0.32), (1.51, 0.29), (1.79, 0.28), (2.09, 0.28), (2.41, 0.29), (2.71, 0.33), (2.94, 0.39), (3.06, 0.47), (3.04, 0.57), (2.85, 0.68), (2.55, 0.79), (2.19, 0.85), (1.84, 0.87), (1.57, 0.83), (1.38, 0.76), (1.28, 0.68), (1.25, 0.59), (1.27, 0.52), (1.35, 0.46), (1.47, 0.42), (1.63, 0.39), (1.81, 0.37), (2.02, 0.37), (2.22, 0.39), (2.4, 0.42), (2.53, 0.46), (2.59, 0.51), (2.57, 0.58), (2.46, 0.65), (2.29, 0.7), (2.08, 0.74), (1.88, 0.75), (1.7, 0.73), (1.57, 0.69), (1.5, 0.64), (1.47, 0.59), (1.49, 0.54), (1.55, 0.5), (1.64, 0.47), (1.75, 0.45), (1.88, 0.44), (2.01, 0.44), (2.14, 0.45), (2.24, 0.48), (2.31, 0.51), (2.33, 0.55), (2.3, 0.59), (2.23, 0.63), (2.12, 0.66), (1.99, 0.67), (1.87, 0.67), (1.76, 0.66), (1.68, 0.64), (1.6, 0.62), (1.55, 0.6), (1.49, 0.59), (1.43, 0.58), (1.37, 0.57), (1.34, 0.56), (1.32, 0.56), (1.32, 0.55), (1.32, 0.55), (1.32, 0.55), (1.32, 0.55), (1.32, 0.55), (1.32, 0.55), (1.32, 0.55), (1.32, 0.55), (1.32, 0.55), (1.32, 0.55), (1.32, 0.55), (1.32, 0.55)], [(1.45, 1.44), (1.32, 1.31), (1.27, 1.17), (1.29, 1.05), (1.39, 0.95), (1.56, 0.88), (1.8, 0.83), (2.1, 0.82), (2.45, 0.84), (2.81, 0.89), (3.13, 0.99), (3.34, 1.12), (3.36, 1.29), (3.16, 1.47), (2.78, 1.63), (2.29, 1.72), (1.82, 1.72), (1.46, 1.62), (1.22, 1.46), (1.1, 1.29), (1.07, 1.12), (1.12, 0.97), (1.26, 0.86), (1.47, 0.78), (1.77, 0.73), (2.16, 0.72), (2.61, 0.75), (3.09, 0.82), (3.52, 0.94), (3.8, 1.11), (3.81, 1.33), (3.51, 1.58), (2.95, 1.79), (2.27, 1.91), (1.67, 1.88), (1.24, 1.73), (1.0, 1.51), (0.88, 1.28), (0.87, 1.07), (0.93, 0.91), (1.08, 0.78), (1.31, 0.69), (1.65, 0.63), (2.1, 0.62), (2.66, 0.64), (3.29, 0.7), (3.89, 0.83), (4.33, 1.02), (4.44, 1.29), (4.12, 1.61), (3.39, 1.93), (2.45, 2.13), (1.64, 2.11), (1.11, 1.91), (0.82, 1.62), (0.69, 1.34), (0.66, 1.09), (0.71, 0.89), (0.83, 0.73), (1.04, 0.62), (1.36, 0.55), (1.81, 0.51), (2.41, 0.51), (3.14, 0.56), (3.95, 0.65), (4.68, 0.82), (5.13, 1.07), (5.09, 1.43), (4.43, 1.86), (3.3, 2.24), (2.1, 2.4), (1.24, 2.27), (0.78, 1.94), (0.57, 1.57), (0.49, 1.25), (0.49, 0.98), (0.56, 0.78), (0.69, 0.63), (0.9, 0.52), (1.23, 0.45), (1.57, 0.42), (2.18, 0.42), (3.05, 0.45), (3.92, 0.52), (4.68, 0.68), (5.23, 1.01), (5.09, 1.41), (4.43, 1.82), (3.3, 2.2), (2.1, 2.4), (1.24, 2.27), (0.78, 1.94), (0.57, 1.57), (0.49, 1.25), (0.49, 0.98), (0.56, 0.78), (0.69, 0.63), (0.9, 0.52), (1.23, 0.45), (1.57, 0.42)], [(1.45, 1.31), (1.03, 1.03), (0.83, 0.76), (0.77, 0.55), (0.78, 0.39), (0.86, 0.28), (0.99, 0.21), (1.17, 0.16), (1.42, 0.13), (1.73, 0.11), (2.11, 0.1), (2.57, 0.09), (3.1, 0.1), (3.68, 0.11), (4.3, 0.13), (4.91, 0.17), (5.46, 0.23), (5.87, 0.32), (6.04, 0.46), (5.87, 0.67), (5.27, 0.94), (4.26, 1.23), (3.07, 1.42), (2.04, 1.41), (1.37, 1.21), (1.02, 0.94), (0.86, 0.7), (0.81, 0.51), (0.84, 0.37), (0.93, 0.27), (1.08, 0.2), (1.28, 0.16), (1.54, 0.13), (1.88, 0.11), (2.28, 0.1), (2.76, 0.1), (3.3, 0.11), (3.89, 0.13), (4.49, 0.15), (5.06, 0.2), (5.53, 0.27), (5.83, 0.39), (5.85, 0.56), (5.5, 0.79), (4.73, 1.06), (3.66, 1.3), (2.55, 1.4), (1.71, 1.3), (1.21, 1.07), (0.96, 0.82), (0.86, 0.6), (0.85, 0.44), (0.91, 0.32), (1.03, 0.24), (1.21, 0.19), (1.44, 0.15), (1.74, 0.13), (2.11, 0.11), (2.55, 0.11), (3.05, 0.11), (3.61, 0.13), (4.19, 0.15), (4.77, 0.19), (5.27, 0.25), (5.62, 0.35), (5.75, 0.5), (5.54, 0.7), (4.94, 0.95), (4.0, 1.2), (2.92, 1.35), (1.99, 1.32), (1.39, 1.14), (1.06, 0.89), (0.92, 0.67), (0.88, 0.49), (0.92, 0.36), (1.02, 0.27), (1.17, 0.21), (1.39, 0.17), (1.67, 0.14), (1.98, 0.13), (2.39, 0.13), (2.78, 0.13), (3.15, 0.13), (3.54, 0.13), (3.88, 0.13), (4.24, 0.13), (4.62, 0.14), (5.0, 0.16), (5.36, 0.19), (5.66, 0.24), (5.75, 0.32), (5.57, 0.46), (4.91, 0.64), (4.02, 0.84), (3.07, 1.06), (2.04, 1.28), (1.37, 1.49), (1.02, 1.61), (0.86, 1.77)], [(1.31, 1.46), (0.98, 1.33), (0.81, 1.12), (0.74, 0.91), (0.75, 0.73), (0.83, 0.59), (0.97, 0.5), (1.17, 0.45), (1.43, 0.43), (1.72, 0.45), (2.02, 0.52), (2.25, 0.64), (2.32, 0.83), (2.17, 1.06), (1.84, 1.26), (1.44, 1.34), (1.12, 1.29), (0.93, 1.13), (0.84, 0.95), (0.83, 0.78), (0.89, 0.65), (1.01, 0.56), (1.18, 0.51), (1.4, 0.48), (1.65, 0.5), (1.9, 0.56), (2.09, 0.66), (2.16, 0.81), (2.06, 1.0), (1.8, 1.17), (1.49, 1.25), (1.21, 1.22), (1.02, 1.11), (0.92, 0.96), (0.91, 0.81), (0.95, 0.69), (1.05, 0.61), (1.2, 0.55), (1.39, 0.53), (1.61, 0.54), (1.82, 0.59), (1.98, 0.69), (2.04, 0.82), (1.96, 0.98), (1.75, 1.11), (1.49, 1.18), (1.25, 1.16), (1.08, 1.07), (0.99, 0.94), (0.97, 0.82), (1.01, 0.71), (1.1, 0.64), (1.24, 0.59), (1.41, 0.57), (1.59, 0.58), (1.77, 0.63), (1.9, 0.72), (1.93, 0.83), (1.86, 0.96), (1.69, 1.07), (1.47, 1.12), (1.27, 1.11), (1.13, 1.03), (1.05, 0.92), (1.03, 0.82), (1.07, 0.73), (1.16, 0.66), (1.28, 0.62), (1.43, 0.61), (1.59, 0.62), (1.73, 0.67), (1.83, 0.75), (1.85, 0.85), (1.78, 0.95), (1.63, 1.04), (1.45, 1.08), (1.29, 1.06), (1.16, 1.0), (1.1, 0.91), (1.08, 0.82), (1.1, 0.73), (1.18, 0.65), (1.25, 0.6), (1.35, 0.57), (1.47, 0.56), (1.61, 0.56), (1.78, 0.56), (1.97, 0.58), (2.11, 0.6), (2.21, 0.61), (2.3, 0.62), (2.37, 0.64), (2.35, 0.66), (2.3, 0.68), (2.21, 0.7), (2.07, 0.72), (1.93, 0.73), (1.75, 0.75), (1.6, 0.75), (1.42, 0.75)]]\n"
          ]
        }
      ],
      "source": [
        "# convert de-tokenized sequence into original pairwise points\n",
        "def parse_data(data_str):\n",
        "    \"\"\"Converts a semicolon-separated string of comma-separated values into a list of tuples.\"\"\"\n",
        "    return [tuple(map(float, pair.split(','))) for pair in data_str.split(';')]\n",
        "\n",
        "preds = []\n",
        "\n",
        "for i in range(len(decoded_output)):\n",
        "    preds.append(parse_data(decoded_output[i]))\n",
        "\n",
        "print(preds)\n",
        "\n",
        "# scaled data in prey array & predator array\n",
        "predictions = []\n",
        "\n",
        "for i in range(len(decoded_output)):\n",
        "\n",
        "    prey_preds_scaled = [x for x,y in preds[i]]\n",
        "    predator_preds_scaled = [y for x,y in preds[i]]\n",
        "\n",
        "    # unscale data\n",
        "    predictions.append(scaling([prey_preds_scaled, predator_preds_scaled], [prey_all, predator_all], inv=True))\n",
        "\n"
      ]
    },
    {
      "cell_type": "code",
      "execution_count": null,
      "metadata": {
        "colab": {
          "base_uri": "https://localhost:8080/"
        },
        "id": "RuLH4z0evasq",
        "outputId": "9b4ba54f-2b4c-4f69-9919-dcc8a6ff461e"
      },
      "outputs": [
        {
          "name": "stdout",
          "output_type": "stream",
          "text": [
            "BPD 23.888622\n",
            "NLL/D: 20.528712708286623\n",
            "BPD 23.98991\n",
            "NLL/D: 20.630000550083498\n",
            "BPD 24.03902\n",
            "NLL/D: 20.679110962681154\n",
            "BPD 23.852009\n",
            "NLL/D: 20.492099243931154\n",
            "BPD 23.881323\n",
            "NLL/D: 20.52141328506885\n",
            "BPD 23.884224\n",
            "NLL/D: 20.524314362339357\n",
            "BPD 23.768295\n",
            "NLL/D: 20.408385712437013\n",
            "BPD 23.595428\n",
            "NLL/D: 20.23551889114795\n",
            "BPD 23.942192\n",
            "NLL/D: 20.582282501987795\n",
            "BPD 23.8621\n",
            "NLL/D: 20.502191025547365\n",
            "BPD 23.713573\n",
            "NLL/D: 20.353663880161623\n",
            "BPD 23.853806\n",
            "NLL/D: 20.493895966343263\n",
            "BPD 23.874386\n",
            "NLL/D: 20.51447625809131\n",
            "BPD 23.965252\n",
            "NLL/D: 20.605342346958498\n",
            "BPD 23.871418\n",
            "NLL/D: 20.511508423618654\n",
            "BPD 23.761587\n",
            "NLL/D: 20.401677567295412\n",
            "BPD 23.695812\n",
            "NLL/D: 20.335902649692873\n",
            "BPD 23.763657\n",
            "NLL/D: 20.403747040562013\n",
            "BPD 23.947989\n",
            "NLL/D: 20.588078934482912\n",
            "BPD 23.991299\n",
            "NLL/D: 20.631389099888185\n"
          ]
        }
      ],
      "source": [
        "# NLL calculations\n",
        "\n",
        "nll = []\n",
        "\n",
        "for i in range(len(decoded_output)):\n",
        "\n",
        "    # set bad tokens to have terrible softmax odds\n",
        "    batch = tokenizer(\n",
        "        [decoded_output[i]],\n",
        "        return_tensors=\"pt\"\n",
        "    )\n",
        "    batch = {k: v.to(trained_model.device) for k, v in batch.items()}\n",
        "\n",
        "    with torch.no_grad():\n",
        "        out = trained_model(**batch)\n",
        "\n",
        "\n",
        "    good_tokens_str = list(\"0123456789,;\")\n",
        "    good_tokens = [tokenizer.convert_tokens_to_ids(token) for token in good_tokens_str]\n",
        "    bad_tokens = [i for i in range(len(tokenizer)) if i not in good_tokens]\n",
        "    out['logits'][:,:,bad_tokens] = -100\n",
        "\n",
        "    input_ids = batch['input_ids'][0][1:]\n",
        "    logprobs = torch.nn.functional.log_softmax(out['logits'], dim=-1)[0][:-1]\n",
        "    logprobs = logprobs[torch.arange(len(input_ids)), input_ids].cpu().numpy()\n",
        "\n",
        "    tokens = tokenizer.batch_decode(\n",
        "        input_ids\n",
        "    )\n",
        "\n",
        "    input_len = len(tokenizer([decoded_output[i][0:799]], return_tensors=\"pt\",)['input_ids'][0])\n",
        "\n",
        "    logprobs = logprobs[input_len:]\n",
        "    tokens = tokens[input_len:]\n",
        "    BPD = -logprobs.sum()/len(decoded_output[i][800:])\n",
        "\n",
        "    print(\"BPD\", BPD)\n",
        "    # log p(x) = log p(token) - log bin_width = log p(token) + prec * log base\n",
        "    transformed_nll = BPD - 2 * np.log(10)\n",
        "\n",
        "    q = 3.47384\n",
        "    avg_logdet_dydx = - np.log(q)\n",
        "\n",
        "    print(\"NLL/D:\", transformed_nll-avg_logdet_dydx )\n",
        "\n",
        "    nll.append(transformed_nll-avg_logdet_dydx)"
      ]
    },
    {
      "cell_type": "code",
      "execution_count": null,
      "metadata": {
        "colab": {
          "base_uri": "https://localhost:8080/"
        },
        "id": "Xn3R2gE0wtPN",
        "outputId": "4e08253a-ce47-4e6b-e04a-fe4b68061dc3"
      },
      "outputs": [
        {
          "name": "stdout",
          "output_type": "stream",
          "text": [
            "average MAE = 3.345046450256929\n"
          ]
        }
      ],
      "source": [
        "# MAE calculations\n",
        "\n",
        "mae_prey = []\n",
        "mae_pred = []\n",
        "\n",
        "for i in range(len(decoded_output)):\n",
        "\n",
        "    mae_prey_temp = 1/len(decoded_output) * np.sum(np.abs(predictions[i][0][-20:] - prey_all[-i][-20:]))\n",
        "    mae_pred_temp = 1/len(decoded_output) * np.sum(np.abs(predictions[i][1][-20:] - predator_all[-i][-20:]))\n",
        "\n",
        "    mae_prey.append(mae_prey_temp)\n",
        "    mae_pred.append(mae_pred_temp)\n",
        "\n",
        "\n",
        "mae = np.sum(mae_pred + mae_prey)/(2*len(decoded_output))\n",
        "\n",
        "\n",
        "print('average MAE =', mae)"
      ]
    },
    {
      "cell_type": "code",
      "execution_count": null,
      "metadata": {
        "colab": {
          "base_uri": "https://localhost:8080/",
          "height": 861
        },
        "id": "qcBGxxmswuSU",
        "outputId": "d0a9d037-18cb-4380-d761-08c0029f093c"
      },
      "outputs": [
        {
          "data": {
            "image/png": "[encoded data removed]",
            "text/plain": [
              "<Figure size 3300x1500 with 1 Axes>"
            ]
          },
          "metadata": {},
          "output_type": "display_data"
        }
      ],
      "source": [
        "# MAE over 20 trajectories\n",
        "\n",
        "fig,ax = plt.subplots(1,1, figsize=(11,5))\n",
        "\n",
        "fig.set_dpi(300)\n",
        "bar_width = 0.35\n",
        "\n",
        "N = np.linspace(1,20,20)\n",
        "ax.bar(N - bar_width/2, mae_prey, bar_width, label='prey MAE')\n",
        "ax.bar(N + bar_width/2, mae_pred, bar_width, label='predator MAE')\n",
        "\n",
        "ax.set_xlabel('test trajectory number')\n",
        "ax.set_ylabel('MAE')\n",
        "ax.grid()\n",
        "plt.xticks(range(1, 21))\n",
        "plt.legend()\n",
        "plt.show()"
      ]
    },
    {
      "cell_type": "code",
      "execution_count": null,
      "metadata": {
        "colab": {
          "base_uri": "https://localhost:8080/",
          "height": 892
        },
        "id": "10AJ3sz6w6L3",
        "outputId": "6c8c5c00-a08a-4f90-b697-23aca9056f5a"
      },
      "outputs": [
        {
          "name": "stderr",
          "output_type": "stream",
          "text": [
            "<ipython-input-22-352d577f5c8a>:15: UserWarning: No artists with labels found to put in legend.  Note that artists whose label start with an underscore are ignored when legend() is called with no argument.\n",
            "  plt.legend()\n"
          ]
        },
        {
          "data": {
            "image/png": "[encoded data removed]",
            "text/plain": [
              "<Figure size 3300x1500 with 1 Axes>"
            ]
          },
          "metadata": {},
          "output_type": "display_data"
        }
      ],
      "source": [
        "# NLL\n",
        "fig,ax = plt.subplots(1,1, figsize=(11,5))\n",
        "\n",
        "fig.set_dpi(300)\n",
        "\n",
        "\n",
        "N = np.linspace(1,20,20)\n",
        "ax.scatter(N, np.array(nll))\n",
        "\n",
        "\n",
        "ax.set_xlabel('test trajectory number')\n",
        "ax.set_ylabel('NLL/D')\n",
        "ax.grid()\n",
        "plt.xticks(range(1, 21))\n",
        "plt.legend()\n",
        "plt.show()"
      ]
    },
    {
      "cell_type": "code",
      "execution_count": null,
      "metadata": {
        "colab": {
          "base_uri": "https://localhost:8080/",
          "height": 449
        },
        "id": "Nn1yukehxr22",
        "outputId": "03dde250-d17a-4149-fcb6-6dd0751971c0"
      },
      "outputs": [
        {
          "data": {
            "image/png": "[encoded data removed]",
            "text/plain": [
              "<Figure size 640x480 with 1 Axes>"
            ]
          },
          "metadata": {},
          "output_type": "display_data"
        }
      ],
      "source": [
        "# visualise predictions vs truths\n",
        "\n",
        "index = 6\n",
        "\n",
        "plt.plot(predictions[index][0], label='predictions', color='b', alpha=0.7)\n",
        "plt.plot(predictions[index][1], color='b', alpha=0.7)\n",
        "\n",
        "plt.plot(prey_all[index], color='black', linestyle='--')\n",
        "plt.plot(predator_all[index], color='black',linestyle='--', label='truths')\n",
        "\n",
        "\n",
        "\n",
        "plt.xlabel(\"timesteps\")\n",
        "plt.ylabel(\"population\")\n",
        "plt.legend()\n",
        "plt.show()"
      ]
    }
  ],
  "metadata": {
    "accelerator": "GPU",
    "colab": {
      "gpuType": "L4",
      "machine_shape": "hm",
      "provenance": []
    },
    "kernelspec": {
      "display_name": "Python 3",
      "name": "python3"
    },
    "language_info": {
      "name": "python"
    },
    "widgets": {
      "application/vnd.jupyter.widget-state+json": {
        "00572c58406f43e8b88b5518e9e33632": {
          "model_module": "@jupyter-widgets/controls",
          "model_module_version": "1.5.0",
          "model_name": "HTMLModel",
          "state": {
            "_dom_classes": [],
            "_model_module": "@jupyter-widgets/controls",
            "_model_module_version": "1.5.0",
            "_model_name": "HTMLModel",
            "_view_count": null,
            "_view_module": "@jupyter-widgets/controls",
            "_view_module_version": "1.5.0",
            "_view_name": "HTMLView",
            "description": "",
            "description_tooltip": null,
            "layout": "IPY_MODEL_8a6ecdf6563d46928858670a989c842f",
            "placeholder": "​",
            "style": "IPY_MODEL_bdc62dd561cc4bd9a9379e5d16b020f4",
            "value": " 1.67M/1.67M [00:00&lt;00:00, 7.67MB/s]"
          }
        },
        "05f0a53549454829880161dc1b02cd66": {
          "model_module": "@jupyter-widgets/controls",
          "model_module_version": "1.5.0",
          "model_name": "FloatProgressModel",
          "state": {
            "_dom_classes": [],
            "_model_module": "@jupyter-widgets/controls",
            "_model_module_version": "1.5.0",
            "_model_name": "FloatProgressModel",
            "_view_count": null,
            "_view_module": "@jupyter-widgets/controls",
            "_view_module_version": "1.5.0",
            "_view_name": "ProgressView",
            "bar_style": "success",
            "description": "",
            "description_tooltip": null,
            "layout": "IPY_MODEL_b8d38a4aea2749e983edffcf41d6f34f",
            "max": 242,
            "min": 0,
            "orientation": "horizontal",
            "style": "IPY_MODEL_9502fac6bf614ec683e39a829e6bf923",
            "value": 242
          }
        },
        "0fd03d05fa004123a899fdca09442d68": {
          "model_module": "@jupyter-widgets/controls",
          "model_module_version": "1.5.0",
          "model_name": "HTMLModel",
          "state": {
            "_dom_classes": [],
            "_model_module": "@jupyter-widgets/controls",
            "_model_module_version": "1.5.0",
            "_model_name": "HTMLModel",
            "_view_count": null,
            "_view_module": "@jupyter-widgets/controls",
            "_view_module_version": "1.5.0",
            "_view_name": "HTMLView",
            "description": "",
            "description_tooltip": null,
            "layout": "IPY_MODEL_a85bbbca251d45c9af497ef6d2944f81",
            "placeholder": "​",
            "style": "IPY_MODEL_dc537de4d5034c72ae5e097dfa2d24d3",
            "value": "vocab.json: 100%"
          }
        },
        "14731ce1607847079a22455b84470e1a": {
          "model_module": "@jupyter-widgets/controls",
          "model_module_version": "1.5.0",
          "model_name": "HBoxModel",
          "state": {
            "_dom_classes": [],
            "_model_module": "@jupyter-widgets/controls",
            "_model_module_version": "1.5.0",
            "_model_name": "HBoxModel",
            "_view_count": null,
            "_view_module": "@jupyter-widgets/controls",
            "_view_module_version": "1.5.0",
            "_view_name": "HBoxView",
            "box_style": "",
            "children": [
              "IPY_MODEL_acf657298feb41f890ed56894b784339",
              "IPY_MODEL_c5e7695fc902469cb6494260ff8dd6ec",
              "IPY_MODEL_1715bbca838f4c8189a01ee2263b1357"
            ],
            "layout": "IPY_MODEL_7a2c530ad1944ffd80444db24d0e6ff1"
          }
        },
        "1715bbca838f4c8189a01ee2263b1357": {
          "model_module": "@jupyter-widgets/controls",
          "model_module_version": "1.5.0",
          "model_name": "HTMLModel",
          "state": {
            "_dom_classes": [],
            "_model_module": "@jupyter-widgets/controls",
            "_model_module_version": "1.5.0",
            "_model_name": "HTMLModel",
            "_view_count": null,
            "_view_module": "@jupyter-widgets/controls",
            "_view_module_version": "1.5.0",
            "_view_name": "HTMLView",
            "description": "",
            "description_tooltip": null,
            "layout": "IPY_MODEL_a3c373c1777a4239812392fa468bd577",
            "placeholder": "​",
            "style": "IPY_MODEL_cc5288c0a00440eabbfca738e0e2300b",
            "value": " 7.03M/7.03M [00:00&lt;00:00, 8.18MB/s]"
          }
        },
        "192455c2b8314897acb63ec086a152cd": {
          "model_module": "@jupyter-widgets/controls",
          "model_module_version": "1.5.0",
          "model_name": "HTMLModel",
          "state": {
            "_dom_classes": [],
            "_model_module": "@jupyter-widgets/controls",
            "_model_module_version": "1.5.0",
            "_model_name": "HTMLModel",
            "_view_count": null,
            "_view_module": "@jupyter-widgets/controls",
            "_view_module_version": "1.5.0",
            "_view_name": "HTMLView",
            "description": "",
            "description_tooltip": null,
            "layout": "IPY_MODEL_b2e2ea193efb41a7a5998d984cf14896",
            "placeholder": "​",
            "style": "IPY_MODEL_1e739b2deaa943eba3b366284d62b35b",
            "value": " 988M/988M [00:03&lt;00:00, 312MB/s]"
          }
        },
        "1a99c58b480b4dbfbec816406499494c": {
          "model_module": "@jupyter-widgets/controls",
          "model_module_version": "1.5.0",
          "model_name": "FloatProgressModel",
          "state": {
            "_dom_classes": [],
            "_model_module": "@jupyter-widgets/controls",
            "_model_module_version": "1.5.0",
            "_model_name": "FloatProgressModel",
            "_view_count": null,
            "_view_module": "@jupyter-widgets/controls",
            "_view_module_version": "1.5.0",
            "_view_name": "ProgressView",
            "bar_style": "success",
            "description": "",
            "description_tooltip": null,
            "layout": "IPY_MODEL_af21e4b656ec4d2bba0e8e8e16a4affc",
            "max": 2776833,
            "min": 0,
            "orientation": "horizontal",
            "style": "IPY_MODEL_86af8a8990be4266841151fba659e928",
            "value": 2776833
          }
        },
        "1ba190f5093d40ca8e2cdb58e88490f6": {
          "model_module": "@jupyter-widgets/base",
          "model_module_version": "1.2.0",
          "model_name": "LayoutModel",
          "state": {
            "_model_module": "@jupyter-widgets/base",
            "_model_module_version": "1.2.0",
            "_model_name": "LayoutModel",
            "_view_count": null,
            "_view_module": "@jupyter-widgets/base",
            "_view_module_version": "1.2.0",
            "_view_name": "LayoutView",
            "align_content": null,
            "align_items": null,
            "align_self": null,
            "border": null,
            "bottom": null,
            "display": null,
            "flex": null,
            "flex_flow": null,
            "grid_area": null,
            "grid_auto_columns": null,
            "grid_auto_flow": null,
            "grid_auto_rows": null,
            "grid_column": null,
            "grid_gap": null,
            "grid_row": null,
            "grid_template_areas": null,
            "grid_template_columns": null,
            "grid_template_rows": null,
            "height": null,
            "justify_content": null,
            "justify_items": null,
            "left": null,
            "margin": null,
            "max_height": null,
            "max_width": null,
            "min_height": null,
            "min_width": null,
            "object_fit": null,
            "object_position": null,
            "order": null,
            "overflow": null,
            "overflow_x": null,
            "overflow_y": null,
            "padding": null,
            "right": null,
            "top": null,
            "visibility": null,
            "width": null
          }
        },
        "1c2e555191834968b656a6606aabdf6e": {
          "model_module": "@jupyter-widgets/base",
          "model_module_version": "1.2.0",
          "model_name": "LayoutModel",
          "state": {
            "_model_module": "@jupyter-widgets/base",
            "_model_module_version": "1.2.0",
            "_model_name": "LayoutModel",
            "_view_count": null,
            "_view_module": "@jupyter-widgets/base",
            "_view_module_version": "1.2.0",
            "_view_name": "LayoutView",
            "align_content": null,
            "align_items": null,
            "align_self": null,
            "border": null,
            "bottom": null,
            "display": null,
            "flex": null,
            "flex_flow": null,
            "grid_area": null,
            "grid_auto_columns": null,
            "grid_auto_flow": null,
            "grid_auto_rows": null,
            "grid_column": null,
            "grid_gap": null,
            "grid_row": null,
            "grid_template_areas": null,
            "grid_template_columns": null,
            "grid_template_rows": null,
            "height": null,
            "justify_content": null,
            "justify_items": null,
            "left": null,
            "margin": null,
            "max_height": null,
            "max_width": null,
            "min_height": null,
            "min_width": null,
            "object_fit": null,
            "object_position": null,
            "order": null,
            "overflow": null,
            "overflow_x": null,
            "overflow_y": null,
            "padding": null,
            "right": null,
            "top": null,
            "visibility": null,
            "width": null
          }
        },
        "1d6f20f9f68d474b9f2cbca98185af10": {
          "model_module": "@jupyter-widgets/controls",
          "model_module_version": "1.5.0",
          "model_name": "DescriptionStyleModel",
          "state": {
            "_model_module": "@jupyter-widgets/controls",
            "_model_module_version": "1.5.0",
            "_model_name": "DescriptionStyleModel",
            "_view_count": null,
            "_view_module": "@jupyter-widgets/base",
            "_view_module_version": "1.2.0",
            "_view_name": "StyleView",
            "description_width": ""
          }
        },
        "1e739b2deaa943eba3b366284d62b35b": {
          "model_module": "@jupyter-widgets/controls",
          "model_module_version": "1.5.0",
          "model_name": "DescriptionStyleModel",
          "state": {
            "_model_module": "@jupyter-widgets/controls",
            "_model_module_version": "1.5.0",
            "_model_name": "DescriptionStyleModel",
            "_view_count": null,
            "_view_module": "@jupyter-widgets/base",
            "_view_module_version": "1.2.0",
            "_view_name": "StyleView",
            "description_width": ""
          }
        },
        "25757fa7ca35473290a94af013fcc19c": {
          "model_module": "@jupyter-widgets/controls",
          "model_module_version": "1.5.0",
          "model_name": "DescriptionStyleModel",
          "state": {
            "_model_module": "@jupyter-widgets/controls",
            "_model_module_version": "1.5.0",
            "_model_name": "DescriptionStyleModel",
            "_view_count": null,
            "_view_module": "@jupyter-widgets/base",
            "_view_module_version": "1.2.0",
            "_view_name": "StyleView",
            "description_width": ""
          }
        },
        "284e5bee8b7d4ee881d3eb213cc9b5ce": {
          "model_module": "@jupyter-widgets/controls",
          "model_module_version": "1.5.0",
          "model_name": "DescriptionStyleModel",
          "state": {
            "_model_module": "@jupyter-widgets/controls",
            "_model_module_version": "1.5.0",
            "_model_name": "DescriptionStyleModel",
            "_view_count": null,
            "_view_module": "@jupyter-widgets/base",
            "_view_module_version": "1.2.0",
            "_view_name": "StyleView",
            "description_width": ""
          }
        },
        "29d420c90f694c2399220dad890f8004": {
          "model_module": "@jupyter-widgets/controls",
          "model_module_version": "1.5.0",
          "model_name": "FloatProgressModel",
          "state": {
            "_dom_classes": [],
            "_model_module": "@jupyter-widgets/controls",
            "_model_module_version": "1.5.0",
            "_model_name": "FloatProgressModel",
            "_view_count": null,
            "_view_module": "@jupyter-widgets/controls",
            "_view_module_version": "1.5.0",
            "_view_name": "ProgressView",
            "bar_style": "success",
            "description": "",
            "description_tooltip": null,
            "layout": "IPY_MODEL_f4c717a1c07d482abe3dbef48c97b84b",
            "max": 1671839,
            "min": 0,
            "orientation": "horizontal",
            "style": "IPY_MODEL_92d8ece5e2724485aed8f0d5d81f62f8",
            "value": 1671839
          }
        },
        "2e544cf325f749339a0a065e98a7bfc7": {
          "model_module": "@jupyter-widgets/controls",
          "model_module_version": "1.5.0",
          "model_name": "HBoxModel",
          "state": {
            "_dom_classes": [],
            "_model_module": "@jupyter-widgets/controls",
            "_model_module_version": "1.5.0",
            "_model_name": "HBoxModel",
            "_view_count": null,
            "_view_module": "@jupyter-widgets/controls",
            "_view_module_version": "1.5.0",
            "_view_name": "HBoxView",
            "box_style": "",
            "children": [
              "IPY_MODEL_0fd03d05fa004123a899fdca09442d68",
              "IPY_MODEL_1a99c58b480b4dbfbec816406499494c",
              "IPY_MODEL_b0c9fc65a3534addb78f18e87ff47afd"
            ],
            "layout": "IPY_MODEL_eb863697a2024a4292336fc68af03bfa"
          }
        },
        "3085929c648e48b7bbcd542eed11a900": {
          "model_module": "@jupyter-widgets/controls",
          "model_module_version": "1.5.0",
          "model_name": "HBoxModel",
          "state": {
            "_dom_classes": [],
            "_model_module": "@jupyter-widgets/controls",
            "_model_module_version": "1.5.0",
            "_model_name": "HBoxModel",
            "_view_count": null,
            "_view_module": "@jupyter-widgets/controls",
            "_view_module_version": "1.5.0",
            "_view_name": "HBoxView",
            "box_style": "",
            "children": [
              "IPY_MODEL_f3639c1245874e91b926435ec2fbb64b",
              "IPY_MODEL_29d420c90f694c2399220dad890f8004",
              "IPY_MODEL_00572c58406f43e8b88b5518e9e33632"
            ],
            "layout": "IPY_MODEL_8d89ff14d5234046999d7b31c64c08af"
          }
        },
        "32b6b3eb21e741aca50962a3847875f2": {
          "model_module": "@jupyter-widgets/base",
          "model_module_version": "1.2.0",
          "model_name": "LayoutModel",
          "state": {
            "_model_module": "@jupyter-widgets/base",
            "_model_module_version": "1.2.0",
            "_model_name": "LayoutModel",
            "_view_count": null,
            "_view_module": "@jupyter-widgets/base",
            "_view_module_version": "1.2.0",
            "_view_name": "LayoutView",
            "align_content": null,
            "align_items": null,
            "align_self": null,
            "border": null,
            "bottom": null,
            "display": null,
            "flex": null,
            "flex_flow": null,
            "grid_area": null,
            "grid_auto_columns": null,
            "grid_auto_flow": null,
            "grid_auto_rows": null,
            "grid_column": null,
            "grid_gap": null,
            "grid_row": null,
            "grid_template_areas": null,
            "grid_template_columns": null,
            "grid_template_rows": null,
            "height": null,
            "justify_content": null,
            "justify_items": null,
            "left": null,
            "margin": null,
            "max_height": null,
            "max_width": null,
            "min_height": null,
            "min_width": null,
            "object_fit": null,
            "object_position": null,
            "order": null,
            "overflow": null,
            "overflow_x": null,
            "overflow_y": null,
            "padding": null,
            "right": null,
            "top": null,
            "visibility": null,
            "width": null
          }
        },
        "354751f7f0b84740b64fe803b643011f": {
          "model_module": "@jupyter-widgets/controls",
          "model_module_version": "1.5.0",
          "model_name": "DescriptionStyleModel",
          "state": {
            "_model_module": "@jupyter-widgets/controls",
            "_model_module_version": "1.5.0",
            "_model_name": "DescriptionStyleModel",
            "_view_count": null,
            "_view_module": "@jupyter-widgets/base",
            "_view_module_version": "1.2.0",
            "_view_name": "StyleView",
            "description_width": ""
          }
        },
        "37c421ad7a75413db3bed12b73cf51c6": {
          "model_module": "@jupyter-widgets/controls",
          "model_module_version": "1.5.0",
          "model_name": "HTMLModel",
          "state": {
            "_dom_classes": [],
            "_model_module": "@jupyter-widgets/controls",
            "_model_module_version": "1.5.0",
            "_model_name": "HTMLModel",
            "_view_count": null,
            "_view_module": "@jupyter-widgets/controls",
            "_view_module_version": "1.5.0",
            "_view_name": "HTMLView",
            "description": "",
            "description_tooltip": null,
            "layout": "IPY_MODEL_9b3bd60ee06d472e827506c01efe10bb",
            "placeholder": "​",
            "style": "IPY_MODEL_ce1401929a014e42a353cf97c6de5814",
            "value": "generation_config.json: 100%"
          }
        },
        "38747e974a6e450d8ee6448e2f8914fb": {
          "model_module": "@jupyter-widgets/controls",
          "model_module_version": "1.5.0",
          "model_name": "ProgressStyleModel",
          "state": {
            "_model_module": "@jupyter-widgets/controls",
            "_model_module_version": "1.5.0",
            "_model_name": "ProgressStyleModel",
            "_view_count": null,
            "_view_module": "@jupyter-widgets/base",
            "_view_module_version": "1.2.0",
            "_view_name": "StyleView",
            "bar_color": null,
            "description_width": ""
          }
        },
        "3ad35ecd2bf645f5afdce01ebd2b3756": {
          "model_module": "@jupyter-widgets/base",
          "model_module_version": "1.2.0",
          "model_name": "LayoutModel",
          "state": {
            "_model_module": "@jupyter-widgets/base",
            "_model_module_version": "1.2.0",
            "_model_name": "LayoutModel",
            "_view_count": null,
            "_view_module": "@jupyter-widgets/base",
            "_view_module_version": "1.2.0",
            "_view_name": "LayoutView",
            "align_content": null,
            "align_items": null,
            "align_self": null,
            "border": null,
            "bottom": null,
            "display": null,
            "flex": null,
            "flex_flow": null,
            "grid_area": null,
            "grid_auto_columns": null,
            "grid_auto_flow": null,
            "grid_auto_rows": null,
            "grid_column": null,
            "grid_gap": null,
            "grid_row": null,
            "grid_template_areas": null,
            "grid_template_columns": null,
            "grid_template_rows": null,
            "height": null,
            "justify_content": null,
            "justify_items": null,
            "left": null,
            "margin": null,
            "max_height": null,
            "max_width": null,
            "min_height": null,
            "min_width": null,
            "object_fit": null,
            "object_position": null,
            "order": null,
            "overflow": null,
            "overflow_x": null,
            "overflow_y": null,
            "padding": null,
            "right": null,
            "top": null,
            "visibility": null,
            "width": null
          }
        },
        "3c60c3d79c3e49a0afec3927e366fb26": {
          "model_module": "@jupyter-widgets/base",
          "model_module_version": "1.2.0",
          "model_name": "LayoutModel",
          "state": {
            "_model_module": "@jupyter-widgets/base",
            "_model_module_version": "1.2.0",
            "_model_name": "LayoutModel",
            "_view_count": null,
            "_view_module": "@jupyter-widgets/base",
            "_view_module_version": "1.2.0",
            "_view_name": "LayoutView",
            "align_content": null,
            "align_items": null,
            "align_self": null,
            "border": null,
            "bottom": null,
            "display": null,
            "flex": null,
            "flex_flow": null,
            "grid_area": null,
            "grid_auto_columns": null,
            "grid_auto_flow": null,
            "grid_auto_rows": null,
            "grid_column": null,
            "grid_gap": null,
            "grid_row": null,
            "grid_template_areas": null,
            "grid_template_columns": null,
            "grid_template_rows": null,
            "height": null,
            "justify_content": null,
            "justify_items": null,
            "left": null,
            "margin": null,
            "max_height": null,
            "max_width": null,
            "min_height": null,
            "min_width": null,
            "object_fit": null,
            "object_position": null,
            "order": null,
            "overflow": null,
            "overflow_x": null,
            "overflow_y": null,
            "padding": null,
            "right": null,
            "top": null,
            "visibility": null,
            "width": null
          }
        },
        "430d3a1e942e481e99705ea6526b1f18": {
          "model_module": "@jupyter-widgets/base",
          "model_module_version": "1.2.0",
          "model_name": "LayoutModel",
          "state": {
            "_model_module": "@jupyter-widgets/base",
            "_model_module_version": "1.2.0",
            "_model_name": "LayoutModel",
            "_view_count": null,
            "_view_module": "@jupyter-widgets/base",
            "_view_module_version": "1.2.0",
            "_view_name": "LayoutView",
            "align_content": null,
            "align_items": null,
            "align_self": null,
            "border": null,
            "bottom": null,
            "display": null,
            "flex": null,
            "flex_flow": null,
            "grid_area": null,
            "grid_auto_columns": null,
            "grid_auto_flow": null,
            "grid_auto_rows": null,
            "grid_column": null,
            "grid_gap": null,
            "grid_row": null,
            "grid_template_areas": null,
            "grid_template_columns": null,
            "grid_template_rows": null,
            "height": null,
            "justify_content": null,
            "justify_items": null,
            "left": null,
            "margin": null,
            "max_height": null,
            "max_width": null,
            "min_height": null,
            "min_width": null,
            "object_fit": null,
            "object_position": null,
            "order": null,
            "overflow": null,
            "overflow_x": null,
            "overflow_y": null,
            "padding": null,
            "right": null,
            "top": null,
            "visibility": null,
            "width": null
          }
        },
        "43299edc01f147579af37e4df9a49f2a": {
          "model_module": "@jupyter-widgets/controls",
          "model_module_version": "1.5.0",
          "model_name": "HBoxModel",
          "state": {
            "_dom_classes": [],
            "_model_module": "@jupyter-widgets/controls",
            "_model_module_version": "1.5.0",
            "_model_name": "HBoxModel",
            "_view_count": null,
            "_view_module": "@jupyter-widgets/controls",
            "_view_module_version": "1.5.0",
            "_view_name": "HBoxView",
            "box_style": "",
            "children": [
              "IPY_MODEL_37c421ad7a75413db3bed12b73cf51c6",
              "IPY_MODEL_05f0a53549454829880161dc1b02cd66",
              "IPY_MODEL_51d6e844445a45e98c281fd6034188f8"
            ],
            "layout": "IPY_MODEL_1c2e555191834968b656a6606aabdf6e"
          }
        },
        "4dea4317d387490b93ea0d6d201dcb4c": {
          "model_module": "@jupyter-widgets/controls",
          "model_module_version": "1.5.0",
          "model_name": "ProgressStyleModel",
          "state": {
            "_model_module": "@jupyter-widgets/controls",
            "_model_module_version": "1.5.0",
            "_model_name": "ProgressStyleModel",
            "_view_count": null,
            "_view_module": "@jupyter-widgets/base",
            "_view_module_version": "1.2.0",
            "_view_name": "StyleView",
            "bar_color": null,
            "description_width": ""
          }
        },
        "51d6e844445a45e98c281fd6034188f8": {
          "model_module": "@jupyter-widgets/controls",
          "model_module_version": "1.5.0",
          "model_name": "HTMLModel",
          "state": {
            "_dom_classes": [],
            "_model_module": "@jupyter-widgets/controls",
            "_model_module_version": "1.5.0",
            "_model_name": "HTMLModel",
            "_view_count": null,
            "_view_module": "@jupyter-widgets/controls",
            "_view_module_version": "1.5.0",
            "_view_name": "HTMLView",
            "description": "",
            "description_tooltip": null,
            "layout": "IPY_MODEL_3c60c3d79c3e49a0afec3927e366fb26",
            "placeholder": "​",
            "style": "IPY_MODEL_f420f1d0d3594b0a9bdbf36b38764b65",
            "value": " 242/242 [00:00&lt;00:00, 29.7kB/s]"
          }
        },
        "6bcc27573c27409090311a4c1cc201ba": {
          "model_module": "@jupyter-widgets/base",
          "model_module_version": "1.2.0",
          "model_name": "LayoutModel",
          "state": {
            "_model_module": "@jupyter-widgets/base",
            "_model_module_version": "1.2.0",
            "_model_name": "LayoutModel",
            "_view_count": null,
            "_view_module": "@jupyter-widgets/base",
            "_view_module_version": "1.2.0",
            "_view_name": "LayoutView",
            "align_content": null,
            "align_items": null,
            "align_self": null,
            "border": null,
            "bottom": null,
            "display": null,
            "flex": null,
            "flex_flow": null,
            "grid_area": null,
            "grid_auto_columns": null,
            "grid_auto_flow": null,
            "grid_auto_rows": null,
            "grid_column": null,
            "grid_gap": null,
            "grid_row": null,
            "grid_template_areas": null,
            "grid_template_columns": null,
            "grid_template_rows": null,
            "height": null,
            "justify_content": null,
            "justify_items": null,
            "left": null,
            "margin": null,
            "max_height": null,
            "max_width": null,
            "min_height": null,
            "min_width": null,
            "object_fit": null,
            "object_position": null,
            "order": null,
            "overflow": null,
            "overflow_x": null,
            "overflow_y": null,
            "padding": null,
            "right": null,
            "top": null,
            "visibility": null,
            "width": null
          }
        },
        "6eea3200b6a54d8782fc23c8bb10c755": {
          "model_module": "@jupyter-widgets/controls",
          "model_module_version": "1.5.0",
          "model_name": "DescriptionStyleModel",
          "state": {
            "_model_module": "@jupyter-widgets/controls",
            "_model_module_version": "1.5.0",
            "_model_name": "DescriptionStyleModel",
            "_view_count": null,
            "_view_module": "@jupyter-widgets/base",
            "_view_module_version": "1.2.0",
            "_view_name": "StyleView",
            "description_width": ""
          }
        },
        "757e63107b4c415395cbec6a586f293f": {
          "model_module": "@jupyter-widgets/controls",
          "model_module_version": "1.5.0",
          "model_name": "HBoxModel",
          "state": {
            "_dom_classes": [],
            "_model_module": "@jupyter-widgets/controls",
            "_model_module_version": "1.5.0",
            "_model_name": "HBoxModel",
            "_view_count": null,
            "_view_module": "@jupyter-widgets/controls",
            "_view_module_version": "1.5.0",
            "_view_name": "HBoxView",
            "box_style": "",
            "children": [
              "IPY_MODEL_8347a48e325c4862b591da3b06a6c491",
              "IPY_MODEL_9de72a7291d5477f80f6210fb1d928cf",
              "IPY_MODEL_192455c2b8314897acb63ec086a152cd"
            ],
            "layout": "IPY_MODEL_88ba95a13ec94ccc8e85bd9c9d291008"
          }
        },
        "758c71b7e51140fb9b16cfb54e4e34c9": {
          "model_module": "@jupyter-widgets/base",
          "model_module_version": "1.2.0",
          "model_name": "LayoutModel",
          "state": {
            "_model_module": "@jupyter-widgets/base",
            "_model_module_version": "1.2.0",
            "_model_name": "LayoutModel",
            "_view_count": null,
            "_view_module": "@jupyter-widgets/base",
            "_view_module_version": "1.2.0",
            "_view_name": "LayoutView",
            "align_content": null,
            "align_items": null,
            "align_self": null,
            "border": null,
            "bottom": null,
            "display": null,
            "flex": null,
            "flex_flow": null,
            "grid_area": null,
            "grid_auto_columns": null,
            "grid_auto_flow": null,
            "grid_auto_rows": null,
            "grid_column": null,
            "grid_gap": null,
            "grid_row": null,
            "grid_template_areas": null,
            "grid_template_columns": null,
            "grid_template_rows": null,
            "height": null,
            "justify_content": null,
            "justify_items": null,
            "left": null,
            "margin": null,
            "max_height": null,
            "max_width": null,
            "min_height": null,
            "min_width": null,
            "object_fit": null,
            "object_position": null,
            "order": null,
            "overflow": null,
            "overflow_x": null,
            "overflow_y": null,
            "padding": null,
            "right": null,
            "top": null,
            "visibility": null,
            "width": null
          }
        },
        "7976d75622934f828e4a20b9b8d7c02d": {
          "model_module": "@jupyter-widgets/controls",
          "model_module_version": "1.5.0",
          "model_name": "DescriptionStyleModel",
          "state": {
            "_model_module": "@jupyter-widgets/controls",
            "_model_module_version": "1.5.0",
            "_model_name": "DescriptionStyleModel",
            "_view_count": null,
            "_view_module": "@jupyter-widgets/base",
            "_view_module_version": "1.2.0",
            "_view_name": "StyleView",
            "description_width": ""
          }
        },
        "7a2c530ad1944ffd80444db24d0e6ff1": {
          "model_module": "@jupyter-widgets/base",
          "model_module_version": "1.2.0",
          "model_name": "LayoutModel",
          "state": {
            "_model_module": "@jupyter-widgets/base",
            "_model_module_version": "1.2.0",
            "_model_name": "LayoutModel",
            "_view_count": null,
            "_view_module": "@jupyter-widgets/base",
            "_view_module_version": "1.2.0",
            "_view_name": "LayoutView",
            "align_content": null,
            "align_items": null,
            "align_self": null,
            "border": null,
            "bottom": null,
            "display": null,
            "flex": null,
            "flex_flow": null,
            "grid_area": null,
            "grid_auto_columns": null,
            "grid_auto_flow": null,
            "grid_auto_rows": null,
            "grid_column": null,
            "grid_gap": null,
            "grid_row": null,
            "grid_template_areas": null,
            "grid_template_columns": null,
            "grid_template_rows": null,
            "height": null,
            "justify_content": null,
            "justify_items": null,
            "left": null,
            "margin": null,
            "max_height": null,
            "max_width": null,
            "min_height": null,
            "min_width": null,
            "object_fit": null,
            "object_position": null,
            "order": null,
            "overflow": null,
            "overflow_x": null,
            "overflow_y": null,
            "padding": null,
            "right": null,
            "top": null,
            "visibility": null,
            "width": null
          }
        },
        "7e6cbaed470144be9c6816cdd9a9b6a8": {
          "model_module": "@jupyter-widgets/base",
          "model_module_version": "1.2.0",
          "model_name": "LayoutModel",
          "state": {
            "_model_module": "@jupyter-widgets/base",
            "_model_module_version": "1.2.0",
            "_model_name": "LayoutModel",
            "_view_count": null,
            "_view_module": "@jupyter-widgets/base",
            "_view_module_version": "1.2.0",
            "_view_name": "LayoutView",
            "align_content": null,
            "align_items": null,
            "align_self": null,
            "border": null,
            "bottom": null,
            "display": null,
            "flex": null,
            "flex_flow": null,
            "grid_area": null,
            "grid_auto_columns": null,
            "grid_auto_flow": null,
            "grid_auto_rows": null,
            "grid_column": null,
            "grid_gap": null,
            "grid_row": null,
            "grid_template_areas": null,
            "grid_template_columns": null,
            "grid_template_rows": null,
            "height": null,
            "justify_content": null,
            "justify_items": null,
            "left": null,
            "margin": null,
            "max_height": null,
            "max_width": null,
            "min_height": null,
            "min_width": null,
            "object_fit": null,
            "object_position": null,
            "order": null,
            "overflow": null,
            "overflow_x": null,
            "overflow_y": null,
            "padding": null,
            "right": null,
            "top": null,
            "visibility": null,
            "width": null
          }
        },
        "8347a48e325c4862b591da3b06a6c491": {
          "model_module": "@jupyter-widgets/controls",
          "model_module_version": "1.5.0",
          "model_name": "HTMLModel",
          "state": {
            "_dom_classes": [],
            "_model_module": "@jupyter-widgets/controls",
            "_model_module_version": "1.5.0",
            "_model_name": "HTMLModel",
            "_view_count": null,
            "_view_module": "@jupyter-widgets/controls",
            "_view_module_version": "1.5.0",
            "_view_name": "HTMLView",
            "description": "",
            "description_tooltip": null,
            "layout": "IPY_MODEL_dec5d65ba1fb4548a695d26a40483061",
            "placeholder": "​",
            "style": "IPY_MODEL_25757fa7ca35473290a94af013fcc19c",
            "value": "model.safetensors: 100%"
          }
        },
        "840830fc3bf4469f96c2c0c208c36ef8": {
          "model_module": "@jupyter-widgets/controls",
          "model_module_version": "1.5.0",
          "model_name": "DescriptionStyleModel",
          "state": {
            "_model_module": "@jupyter-widgets/controls",
            "_model_module_version": "1.5.0",
            "_model_name": "DescriptionStyleModel",
            "_view_count": null,
            "_view_module": "@jupyter-widgets/base",
            "_view_module_version": "1.2.0",
            "_view_name": "StyleView",
            "description_width": ""
          }
        },
        "86497f6b096440d9a5e74d4416478f64": {
          "model_module": "@jupyter-widgets/base",
          "model_module_version": "1.2.0",
          "model_name": "LayoutModel",
          "state": {
            "_model_module": "@jupyter-widgets/base",
            "_model_module_version": "1.2.0",
            "_model_name": "LayoutModel",
            "_view_count": null,
            "_view_module": "@jupyter-widgets/base",
            "_view_module_version": "1.2.0",
            "_view_name": "LayoutView",
            "align_content": null,
            "align_items": null,
            "align_self": null,
            "border": null,
            "bottom": null,
            "display": null,
            "flex": null,
            "flex_flow": null,
            "grid_area": null,
            "grid_auto_columns": null,
            "grid_auto_flow": null,
            "grid_auto_rows": null,
            "grid_column": null,
            "grid_gap": null,
            "grid_row": null,
            "grid_template_areas": null,
            "grid_template_columns": null,
            "grid_template_rows": null,
            "height": null,
            "justify_content": null,
            "justify_items": null,
            "left": null,
            "margin": null,
            "max_height": null,
            "max_width": null,
            "min_height": null,
            "min_width": null,
            "object_fit": null,
            "object_position": null,
            "order": null,
            "overflow": null,
            "overflow_x": null,
            "overflow_y": null,
            "padding": null,
            "right": null,
            "top": null,
            "visibility": null,
            "width": null
          }
        },
        "86af8a8990be4266841151fba659e928": {
          "model_module": "@jupyter-widgets/controls",
          "model_module_version": "1.5.0",
          "model_name": "ProgressStyleModel",
          "state": {
            "_model_module": "@jupyter-widgets/controls",
            "_model_module_version": "1.5.0",
            "_model_name": "ProgressStyleModel",
            "_view_count": null,
            "_view_module": "@jupyter-widgets/base",
            "_view_module_version": "1.2.0",
            "_view_name": "StyleView",
            "bar_color": null,
            "description_width": ""
          }
        },
        "88ba95a13ec94ccc8e85bd9c9d291008": {
          "model_module": "@jupyter-widgets/base",
          "model_module_version": "1.2.0",
          "model_name": "LayoutModel",
          "state": {
            "_model_module": "@jupyter-widgets/base",
            "_model_module_version": "1.2.0",
            "_model_name": "LayoutModel",
            "_view_count": null,
            "_view_module": "@jupyter-widgets/base",
            "_view_module_version": "1.2.0",
            "_view_name": "LayoutView",
            "align_content": null,
            "align_items": null,
            "align_self": null,
            "border": null,
            "bottom": null,
            "display": null,
            "flex": null,
            "flex_flow": null,
            "grid_area": null,
            "grid_auto_columns": null,
            "grid_auto_flow": null,
            "grid_auto_rows": null,
            "grid_column": null,
            "grid_gap": null,
            "grid_row": null,
            "grid_template_areas": null,
            "grid_template_columns": null,
            "grid_template_rows": null,
            "height": null,
            "justify_content": null,
            "justify_items": null,
            "left": null,
            "margin": null,
            "max_height": null,
            "max_width": null,
            "min_height": null,
            "min_width": null,
            "object_fit": null,
            "object_position": null,
            "order": null,
            "overflow": null,
            "overflow_x": null,
            "overflow_y": null,
            "padding": null,
            "right": null,
            "top": null,
            "visibility": null,
            "width": null
          }
        },
        "8a2b1791c80440d8a9919b4d66ccd693": {
          "model_module": "@jupyter-widgets/base",
          "model_module_version": "1.2.0",
          "model_name": "LayoutModel",
          "state": {
            "_model_module": "@jupyter-widgets/base",
            "_model_module_version": "1.2.0",
            "_model_name": "LayoutModel",
            "_view_count": null,
            "_view_module": "@jupyter-widgets/base",
            "_view_module_version": "1.2.0",
            "_view_name": "LayoutView",
            "align_content": null,
            "align_items": null,
            "align_self": null,
            "border": null,
            "bottom": null,
            "display": null,
            "flex": null,
            "flex_flow": null,
            "grid_area": null,
            "grid_auto_columns": null,
            "grid_auto_flow": null,
            "grid_auto_rows": null,
            "grid_column": null,
            "grid_gap": null,
            "grid_row": null,
            "grid_template_areas": null,
            "grid_template_columns": null,
            "grid_template_rows": null,
            "height": null,
            "justify_content": null,
            "justify_items": null,
            "left": null,
            "margin": null,
            "max_height": null,
            "max_width": null,
            "min_height": null,
            "min_width": null,
            "object_fit": null,
            "object_position": null,
            "order": null,
            "overflow": null,
            "overflow_x": null,
            "overflow_y": null,
            "padding": null,
            "right": null,
            "top": null,
            "visibility": null,
            "width": null
          }
        },
        "8a6ecdf6563d46928858670a989c842f": {
          "model_module": "@jupyter-widgets/base",
          "model_module_version": "1.2.0",
          "model_name": "LayoutModel",
          "state": {
            "_model_module": "@jupyter-widgets/base",
            "_model_module_version": "1.2.0",
            "_model_name": "LayoutModel",
            "_view_count": null,
            "_view_module": "@jupyter-widgets/base",
            "_view_module_version": "1.2.0",
            "_view_name": "LayoutView",
            "align_content": null,
            "align_items": null,
            "align_self": null,
            "border": null,
            "bottom": null,
            "display": null,
            "flex": null,
            "flex_flow": null,
            "grid_area": null,
            "grid_auto_columns": null,
            "grid_auto_flow": null,
            "grid_auto_rows": null,
            "grid_column": null,
            "grid_gap": null,
            "grid_row": null,
            "grid_template_areas": null,
            "grid_template_columns": null,
            "grid_template_rows": null,
            "height": null,
            "justify_content": null,
            "justify_items": null,
            "left": null,
            "margin": null,
            "max_height": null,
            "max_width": null,
            "min_height": null,
            "min_width": null,
            "object_fit": null,
            "object_position": null,
            "order": null,
            "overflow": null,
            "overflow_x": null,
            "overflow_y": null,
            "padding": null,
            "right": null,
            "top": null,
            "visibility": null,
            "width": null
          }
        },
        "8d89ff14d5234046999d7b31c64c08af": {
          "model_module": "@jupyter-widgets/base",
          "model_module_version": "1.2.0",
          "model_name": "LayoutModel",
          "state": {
            "_model_module": "@jupyter-widgets/base",
            "_model_module_version": "1.2.0",
            "_model_name": "LayoutModel",
            "_view_count": null,
            "_view_module": "@jupyter-widgets/base",
            "_view_module_version": "1.2.0",
            "_view_name": "LayoutView",
            "align_content": null,
            "align_items": null,
            "align_self": null,
            "border": null,
            "bottom": null,
            "display": null,
            "flex": null,
            "flex_flow": null,
            "grid_area": null,
            "grid_auto_columns": null,
            "grid_auto_flow": null,
            "grid_auto_rows": null,
            "grid_column": null,
            "grid_gap": null,
            "grid_row": null,
            "grid_template_areas": null,
            "grid_template_columns": null,
            "grid_template_rows": null,
            "height": null,
            "justify_content": null,
            "justify_items": null,
            "left": null,
            "margin": null,
            "max_height": null,
            "max_width": null,
            "min_height": null,
            "min_width": null,
            "object_fit": null,
            "object_position": null,
            "order": null,
            "overflow": null,
            "overflow_x": null,
            "overflow_y": null,
            "padding": null,
            "right": null,
            "top": null,
            "visibility": null,
            "width": null
          }
        },
        "92d8ece5e2724485aed8f0d5d81f62f8": {
          "model_module": "@jupyter-widgets/controls",
          "model_module_version": "1.5.0",
          "model_name": "ProgressStyleModel",
          "state": {
            "_model_module": "@jupyter-widgets/controls",
            "_model_module_version": "1.5.0",
            "_model_name": "ProgressStyleModel",
            "_view_count": null,
            "_view_module": "@jupyter-widgets/base",
            "_view_module_version": "1.2.0",
            "_view_name": "StyleView",
            "bar_color": null,
            "description_width": ""
          }
        },
        "93d9223e999846a9b48e91dad791903f": {
          "model_module": "@jupyter-widgets/controls",
          "model_module_version": "1.5.0",
          "model_name": "HBoxModel",
          "state": {
            "_dom_classes": [],
            "_model_module": "@jupyter-widgets/controls",
            "_model_module_version": "1.5.0",
            "_model_name": "HBoxModel",
            "_view_count": null,
            "_view_module": "@jupyter-widgets/controls",
            "_view_module_version": "1.5.0",
            "_view_name": "HBoxView",
            "box_style": "",
            "children": [
              "IPY_MODEL_bd4b405e01d44a39b2d8bb5c81d07625",
              "IPY_MODEL_e29af9110e2f4bf5a1c87cbd4dfa0bc1",
              "IPY_MODEL_ff570ee6465b40c390679e8c466743ca"
            ],
            "layout": "IPY_MODEL_bf6f566066ed4a75a2899f7de3d386b3"
          }
        },
        "9502fac6bf614ec683e39a829e6bf923": {
          "model_module": "@jupyter-widgets/controls",
          "model_module_version": "1.5.0",
          "model_name": "ProgressStyleModel",
          "state": {
            "_model_module": "@jupyter-widgets/controls",
            "_model_module_version": "1.5.0",
            "_model_name": "ProgressStyleModel",
            "_view_count": null,
            "_view_module": "@jupyter-widgets/base",
            "_view_module_version": "1.2.0",
            "_view_name": "StyleView",
            "bar_color": null,
            "description_width": ""
          }
        },
        "9b3bd60ee06d472e827506c01efe10bb": {
          "model_module": "@jupyter-widgets/base",
          "model_module_version": "1.2.0",
          "model_name": "LayoutModel",
          "state": {
            "_model_module": "@jupyter-widgets/base",
            "_model_module_version": "1.2.0",
            "_model_name": "LayoutModel",
            "_view_count": null,
            "_view_module": "@jupyter-widgets/base",
            "_view_module_version": "1.2.0",
            "_view_name": "LayoutView",
            "align_content": null,
            "align_items": null,
            "align_self": null,
            "border": null,
            "bottom": null,
            "display": null,
            "flex": null,
            "flex_flow": null,
            "grid_area": null,
            "grid_auto_columns": null,
            "grid_auto_flow": null,
            "grid_auto_rows": null,
            "grid_column": null,
            "grid_gap": null,
            "grid_row": null,
            "grid_template_areas": null,
            "grid_template_columns": null,
            "grid_template_rows": null,
            "height": null,
            "justify_content": null,
            "justify_items": null,
            "left": null,
            "margin": null,
            "max_height": null,
            "max_width": null,
            "min_height": null,
            "min_width": null,
            "object_fit": null,
            "object_position": null,
            "order": null,
            "overflow": null,
            "overflow_x": null,
            "overflow_y": null,
            "padding": null,
            "right": null,
            "top": null,
            "visibility": null,
            "width": null
          }
        },
        "9de72a7291d5477f80f6210fb1d928cf": {
          "model_module": "@jupyter-widgets/controls",
          "model_module_version": "1.5.0",
          "model_name": "FloatProgressModel",
          "state": {
            "_dom_classes": [],
            "_model_module": "@jupyter-widgets/controls",
            "_model_module_version": "1.5.0",
            "_model_name": "FloatProgressModel",
            "_view_count": null,
            "_view_module": "@jupyter-widgets/controls",
            "_view_module_version": "1.5.0",
            "_view_name": "ProgressView",
            "bar_style": "success",
            "description": "",
            "description_tooltip": null,
            "layout": "IPY_MODEL_32b6b3eb21e741aca50962a3847875f2",
            "max": 988097824,
            "min": 0,
            "orientation": "horizontal",
            "style": "IPY_MODEL_38747e974a6e450d8ee6448e2f8914fb",
            "value": 988097824
          }
        },
        "a1b4dabf9c0a4516afa31642eaa66098": {
          "model_module": "@jupyter-widgets/base",
          "model_module_version": "1.2.0",
          "model_name": "LayoutModel",
          "state": {
            "_model_module": "@jupyter-widgets/base",
            "_model_module_version": "1.2.0",
            "_model_name": "LayoutModel",
            "_view_count": null,
            "_view_module": "@jupyter-widgets/base",
            "_view_module_version": "1.2.0",
            "_view_name": "LayoutView",
            "align_content": null,
            "align_items": null,
            "align_self": null,
            "border": null,
            "bottom": null,
            "display": null,
            "flex": null,
            "flex_flow": null,
            "grid_area": null,
            "grid_auto_columns": null,
            "grid_auto_flow": null,
            "grid_auto_rows": null,
            "grid_column": null,
            "grid_gap": null,
            "grid_row": null,
            "grid_template_areas": null,
            "grid_template_columns": null,
            "grid_template_rows": null,
            "height": null,
            "justify_content": null,
            "justify_items": null,
            "left": null,
            "margin": null,
            "max_height": null,
            "max_width": null,
            "min_height": null,
            "min_width": null,
            "object_fit": null,
            "object_position": null,
            "order": null,
            "overflow": null,
            "overflow_x": null,
            "overflow_y": null,
            "padding": null,
            "right": null,
            "top": null,
            "visibility": null,
            "width": null
          }
        },
        "a2690ec9bf264b97ae4543afaa2920da": {
          "model_module": "@jupyter-widgets/controls",
          "model_module_version": "1.5.0",
          "model_name": "FloatProgressModel",
          "state": {
            "_dom_classes": [],
            "_model_module": "@jupyter-widgets/controls",
            "_model_module_version": "1.5.0",
            "_model_name": "FloatProgressModel",
            "_view_count": null,
            "_view_module": "@jupyter-widgets/controls",
            "_view_module_version": "1.5.0",
            "_view_name": "ProgressView",
            "bar_style": "success",
            "description": "",
            "description_tooltip": null,
            "layout": "IPY_MODEL_6bcc27573c27409090311a4c1cc201ba",
            "max": 7305,
            "min": 0,
            "orientation": "horizontal",
            "style": "IPY_MODEL_df6a2e0338c440798073c3193b29db7a",
            "value": 7305
          }
        },
        "a2908f9ba2f0400bb2d0e0d0e3b29d96": {
          "model_module": "@jupyter-widgets/controls",
          "model_module_version": "1.5.0",
          "model_name": "HTMLModel",
          "state": {
            "_dom_classes": [],
            "_model_module": "@jupyter-widgets/controls",
            "_model_module_version": "1.5.0",
            "_model_name": "HTMLModel",
            "_view_count": null,
            "_view_module": "@jupyter-widgets/controls",
            "_view_module_version": "1.5.0",
            "_view_name": "HTMLView",
            "description": "",
            "description_tooltip": null,
            "layout": "IPY_MODEL_8a2b1791c80440d8a9919b4d66ccd693",
            "placeholder": "​",
            "style": "IPY_MODEL_284e5bee8b7d4ee881d3eb213cc9b5ce",
            "value": " 7.30k/7.30k [00:00&lt;00:00, 877kB/s]"
          }
        },
        "a2f76a59b34f448ead060a8f86089acd": {
          "model_module": "@jupyter-widgets/controls",
          "model_module_version": "1.5.0",
          "model_name": "ProgressStyleModel",
          "state": {
            "_model_module": "@jupyter-widgets/controls",
            "_model_module_version": "1.5.0",
            "_model_name": "ProgressStyleModel",
            "_view_count": null,
            "_view_module": "@jupyter-widgets/base",
            "_view_module_version": "1.2.0",
            "_view_name": "StyleView",
            "bar_color": null,
            "description_width": ""
          }
        },
        "a3c373c1777a4239812392fa468bd577": {
          "model_module": "@jupyter-widgets/base",
          "model_module_version": "1.2.0",
          "model_name": "LayoutModel",
          "state": {
            "_model_module": "@jupyter-widgets/base",
            "_model_module_version": "1.2.0",
            "_model_name": "LayoutModel",
            "_view_count": null,
            "_view_module": "@jupyter-widgets/base",
            "_view_module_version": "1.2.0",
            "_view_name": "LayoutView",
            "align_content": null,
            "align_items": null,
            "align_self": null,
            "border": null,
            "bottom": null,
            "display": null,
            "flex": null,
            "flex_flow": null,
            "grid_area": null,
            "grid_auto_columns": null,
            "grid_auto_flow": null,
            "grid_auto_rows": null,
            "grid_column": null,
            "grid_gap": null,
            "grid_row": null,
            "grid_template_areas": null,
            "grid_template_columns": null,
            "grid_template_rows": null,
            "height": null,
            "justify_content": null,
            "justify_items": null,
            "left": null,
            "margin": null,
            "max_height": null,
            "max_width": null,
            "min_height": null,
            "min_width": null,
            "object_fit": null,
            "object_position": null,
            "order": null,
            "overflow": null,
            "overflow_x": null,
            "overflow_y": null,
            "padding": null,
            "right": null,
            "top": null,
            "visibility": null,
            "width": null
          }
        },
        "a85bbbca251d45c9af497ef6d2944f81": {
          "model_module": "@jupyter-widgets/base",
          "model_module_version": "1.2.0",
          "model_name": "LayoutModel",
          "state": {
            "_model_module": "@jupyter-widgets/base",
            "_model_module_version": "1.2.0",
            "_model_name": "LayoutModel",
            "_view_count": null,
            "_view_module": "@jupyter-widgets/base",
            "_view_module_version": "1.2.0",
            "_view_name": "LayoutView",
            "align_content": null,
            "align_items": null,
            "align_self": null,
            "border": null,
            "bottom": null,
            "display": null,
            "flex": null,
            "flex_flow": null,
            "grid_area": null,
            "grid_auto_columns": null,
            "grid_auto_flow": null,
            "grid_auto_rows": null,
            "grid_column": null,
            "grid_gap": null,
            "grid_row": null,
            "grid_template_areas": null,
            "grid_template_columns": null,
            "grid_template_rows": null,
            "height": null,
            "justify_content": null,
            "justify_items": null,
            "left": null,
            "margin": null,
            "max_height": null,
            "max_width": null,
            "min_height": null,
            "min_width": null,
            "object_fit": null,
            "object_position": null,
            "order": null,
            "overflow": null,
            "overflow_x": null,
            "overflow_y": null,
            "padding": null,
            "right": null,
            "top": null,
            "visibility": null,
            "width": null
          }
        },
        "abc9b675c13e4be3a2e77d1065a5ee5f": {
          "model_module": "@jupyter-widgets/controls",
          "model_module_version": "1.5.0",
          "model_name": "HTMLModel",
          "state": {
            "_dom_classes": [],
            "_model_module": "@jupyter-widgets/controls",
            "_model_module_version": "1.5.0",
            "_model_name": "HTMLModel",
            "_view_count": null,
            "_view_module": "@jupyter-widgets/controls",
            "_view_module_version": "1.5.0",
            "_view_name": "HTMLView",
            "description": "",
            "description_tooltip": null,
            "layout": "IPY_MODEL_758c71b7e51140fb9b16cfb54e4e34c9",
            "placeholder": "​",
            "style": "IPY_MODEL_840830fc3bf4469f96c2c0c208c36ef8",
            "value": "tokenizer_config.json: 100%"
          }
        },
        "acf657298feb41f890ed56894b784339": {
          "model_module": "@jupyter-widgets/controls",
          "model_module_version": "1.5.0",
          "model_name": "HTMLModel",
          "state": {
            "_dom_classes": [],
            "_model_module": "@jupyter-widgets/controls",
            "_model_module_version": "1.5.0",
            "_model_name": "HTMLModel",
            "_view_count": null,
            "_view_module": "@jupyter-widgets/controls",
            "_view_module_version": "1.5.0",
            "_view_name": "HTMLView",
            "description": "",
            "description_tooltip": null,
            "layout": "IPY_MODEL_7e6cbaed470144be9c6816cdd9a9b6a8",
            "placeholder": "​",
            "style": "IPY_MODEL_f13accc63a0149d79719ebe1194077bb",
            "value": "tokenizer.json: 100%"
          }
        },
        "af21e4b656ec4d2bba0e8e8e16a4affc": {
          "model_module": "@jupyter-widgets/base",
          "model_module_version": "1.2.0",
          "model_name": "LayoutModel",
          "state": {
            "_model_module": "@jupyter-widgets/base",
            "_model_module_version": "1.2.0",
            "_model_name": "LayoutModel",
            "_view_count": null,
            "_view_module": "@jupyter-widgets/base",
            "_view_module_version": "1.2.0",
            "_view_name": "LayoutView",
            "align_content": null,
            "align_items": null,
            "align_self": null,
            "border": null,
            "bottom": null,
            "display": null,
            "flex": null,
            "flex_flow": null,
            "grid_area": null,
            "grid_auto_columns": null,
            "grid_auto_flow": null,
            "grid_auto_rows": null,
            "grid_column": null,
            "grid_gap": null,
            "grid_row": null,
            "grid_template_areas": null,
            "grid_template_columns": null,
            "grid_template_rows": null,
            "height": null,
            "justify_content": null,
            "justify_items": null,
            "left": null,
            "margin": null,
            "max_height": null,
            "max_width": null,
            "min_height": null,
            "min_width": null,
            "object_fit": null,
            "object_position": null,
            "order": null,
            "overflow": null,
            "overflow_x": null,
            "overflow_y": null,
            "padding": null,
            "right": null,
            "top": null,
            "visibility": null,
            "width": null
          }
        },
        "b0c9fc65a3534addb78f18e87ff47afd": {
          "model_module": "@jupyter-widgets/controls",
          "model_module_version": "1.5.0",
          "model_name": "HTMLModel",
          "state": {
            "_dom_classes": [],
            "_model_module": "@jupyter-widgets/controls",
            "_model_module_version": "1.5.0",
            "_model_name": "HTMLModel",
            "_view_count": null,
            "_view_module": "@jupyter-widgets/controls",
            "_view_module_version": "1.5.0",
            "_view_name": "HTMLView",
            "description": "",
            "description_tooltip": null,
            "layout": "IPY_MODEL_1ba190f5093d40ca8e2cdb58e88490f6",
            "placeholder": "​",
            "style": "IPY_MODEL_6eea3200b6a54d8782fc23c8bb10c755",
            "value": " 2.78M/2.78M [00:00&lt;00:00, 7.68MB/s]"
          }
        },
        "b2e2ea193efb41a7a5998d984cf14896": {
          "model_module": "@jupyter-widgets/base",
          "model_module_version": "1.2.0",
          "model_name": "LayoutModel",
          "state": {
            "_model_module": "@jupyter-widgets/base",
            "_model_module_version": "1.2.0",
            "_model_name": "LayoutModel",
            "_view_count": null,
            "_view_module": "@jupyter-widgets/base",
            "_view_module_version": "1.2.0",
            "_view_name": "LayoutView",
            "align_content": null,
            "align_items": null,
            "align_self": null,
            "border": null,
            "bottom": null,
            "display": null,
            "flex": null,
            "flex_flow": null,
            "grid_area": null,
            "grid_auto_columns": null,
            "grid_auto_flow": null,
            "grid_auto_rows": null,
            "grid_column": null,
            "grid_gap": null,
            "grid_row": null,
            "grid_template_areas": null,
            "grid_template_columns": null,
            "grid_template_rows": null,
            "height": null,
            "justify_content": null,
            "justify_items": null,
            "left": null,
            "margin": null,
            "max_height": null,
            "max_width": null,
            "min_height": null,
            "min_width": null,
            "object_fit": null,
            "object_position": null,
            "order": null,
            "overflow": null,
            "overflow_x": null,
            "overflow_y": null,
            "padding": null,
            "right": null,
            "top": null,
            "visibility": null,
            "width": null
          }
        },
        "b8d38a4aea2749e983edffcf41d6f34f": {
          "model_module": "@jupyter-widgets/base",
          "model_module_version": "1.2.0",
          "model_name": "LayoutModel",
          "state": {
            "_model_module": "@jupyter-widgets/base",
            "_model_module_version": "1.2.0",
            "_model_name": "LayoutModel",
            "_view_count": null,
            "_view_module": "@jupyter-widgets/base",
            "_view_module_version": "1.2.0",
            "_view_name": "LayoutView",
            "align_content": null,
            "align_items": null,
            "align_self": null,
            "border": null,
            "bottom": null,
            "display": null,
            "flex": null,
            "flex_flow": null,
            "grid_area": null,
            "grid_auto_columns": null,
            "grid_auto_flow": null,
            "grid_auto_rows": null,
            "grid_column": null,
            "grid_gap": null,
            "grid_row": null,
            "grid_template_areas": null,
            "grid_template_columns": null,
            "grid_template_rows": null,
            "height": null,
            "justify_content": null,
            "justify_items": null,
            "left": null,
            "margin": null,
            "max_height": null,
            "max_width": null,
            "min_height": null,
            "min_width": null,
            "object_fit": null,
            "object_position": null,
            "order": null,
            "overflow": null,
            "overflow_x": null,
            "overflow_y": null,
            "padding": null,
            "right": null,
            "top": null,
            "visibility": null,
            "width": null
          }
        },
        "bd4b405e01d44a39b2d8bb5c81d07625": {
          "model_module": "@jupyter-widgets/controls",
          "model_module_version": "1.5.0",
          "model_name": "HTMLModel",
          "state": {
            "_dom_classes": [],
            "_model_module": "@jupyter-widgets/controls",
            "_model_module_version": "1.5.0",
            "_model_name": "HTMLModel",
            "_view_count": null,
            "_view_module": "@jupyter-widgets/controls",
            "_view_module_version": "1.5.0",
            "_view_name": "HTMLView",
            "description": "",
            "description_tooltip": null,
            "layout": "IPY_MODEL_cf8045a6d686400b9e04f43ecfd9f92c",
            "placeholder": "​",
            "style": "IPY_MODEL_354751f7f0b84740b64fe803b643011f",
            "value": "config.json: 100%"
          }
        },
        "bdc62dd561cc4bd9a9379e5d16b020f4": {
          "model_module": "@jupyter-widgets/controls",
          "model_module_version": "1.5.0",
          "model_name": "DescriptionStyleModel",
          "state": {
            "_model_module": "@jupyter-widgets/controls",
            "_model_module_version": "1.5.0",
            "_model_name": "DescriptionStyleModel",
            "_view_count": null,
            "_view_module": "@jupyter-widgets/base",
            "_view_module_version": "1.2.0",
            "_view_name": "StyleView",
            "description_width": ""
          }
        },
        "be3ab9fdf7a547e8b75d0c9fee4f454c": {
          "model_module": "@jupyter-widgets/controls",
          "model_module_version": "1.5.0",
          "model_name": "HBoxModel",
          "state": {
            "_dom_classes": [],
            "_model_module": "@jupyter-widgets/controls",
            "_model_module_version": "1.5.0",
            "_model_name": "HBoxModel",
            "_view_count": null,
            "_view_module": "@jupyter-widgets/controls",
            "_view_module_version": "1.5.0",
            "_view_name": "HBoxView",
            "box_style": "",
            "children": [
              "IPY_MODEL_abc9b675c13e4be3a2e77d1065a5ee5f",
              "IPY_MODEL_a2690ec9bf264b97ae4543afaa2920da",
              "IPY_MODEL_a2908f9ba2f0400bb2d0e0d0e3b29d96"
            ],
            "layout": "IPY_MODEL_86497f6b096440d9a5e74d4416478f64"
          }
        },
        "bf6f566066ed4a75a2899f7de3d386b3": {
          "model_module": "@jupyter-widgets/base",
          "model_module_version": "1.2.0",
          "model_name": "LayoutModel",
          "state": {
            "_model_module": "@jupyter-widgets/base",
            "_model_module_version": "1.2.0",
            "_model_name": "LayoutModel",
            "_view_count": null,
            "_view_module": "@jupyter-widgets/base",
            "_view_module_version": "1.2.0",
            "_view_name": "LayoutView",
            "align_content": null,
            "align_items": null,
            "align_self": null,
            "border": null,
            "bottom": null,
            "display": null,
            "flex": null,
            "flex_flow": null,
            "grid_area": null,
            "grid_auto_columns": null,
            "grid_auto_flow": null,
            "grid_auto_rows": null,
            "grid_column": null,
            "grid_gap": null,
            "grid_row": null,
            "grid_template_areas": null,
            "grid_template_columns": null,
            "grid_template_rows": null,
            "height": null,
            "justify_content": null,
            "justify_items": null,
            "left": null,
            "margin": null,
            "max_height": null,
            "max_width": null,
            "min_height": null,
            "min_width": null,
            "object_fit": null,
            "object_position": null,
            "order": null,
            "overflow": null,
            "overflow_x": null,
            "overflow_y": null,
            "padding": null,
            "right": null,
            "top": null,
            "visibility": null,
            "width": null
          }
        },
        "c5e7695fc902469cb6494260ff8dd6ec": {
          "model_module": "@jupyter-widgets/controls",
          "model_module_version": "1.5.0",
          "model_name": "FloatProgressModel",
          "state": {
            "_dom_classes": [],
            "_model_module": "@jupyter-widgets/controls",
            "_model_module_version": "1.5.0",
            "_model_name": "FloatProgressModel",
            "_view_count": null,
            "_view_module": "@jupyter-widgets/controls",
            "_view_module_version": "1.5.0",
            "_view_name": "ProgressView",
            "bar_style": "success",
            "description": "",
            "description_tooltip": null,
            "layout": "IPY_MODEL_3ad35ecd2bf645f5afdce01ebd2b3756",
            "max": 7031645,
            "min": 0,
            "orientation": "horizontal",
            "style": "IPY_MODEL_a2f76a59b34f448ead060a8f86089acd",
            "value": 7031645
          }
        },
        "cc5288c0a00440eabbfca738e0e2300b": {
          "model_module": "@jupyter-widgets/controls",
          "model_module_version": "1.5.0",
          "model_name": "DescriptionStyleModel",
          "state": {
            "_model_module": "@jupyter-widgets/controls",
            "_model_module_version": "1.5.0",
            "_model_name": "DescriptionStyleModel",
            "_view_count": null,
            "_view_module": "@jupyter-widgets/base",
            "_view_module_version": "1.2.0",
            "_view_name": "StyleView",
            "description_width": ""
          }
        },
        "ce1401929a014e42a353cf97c6de5814": {
          "model_module": "@jupyter-widgets/controls",
          "model_module_version": "1.5.0",
          "model_name": "DescriptionStyleModel",
          "state": {
            "_model_module": "@jupyter-widgets/controls",
            "_model_module_version": "1.5.0",
            "_model_name": "DescriptionStyleModel",
            "_view_count": null,
            "_view_module": "@jupyter-widgets/base",
            "_view_module_version": "1.2.0",
            "_view_name": "StyleView",
            "description_width": ""
          }
        },
        "cf8045a6d686400b9e04f43ecfd9f92c": {
          "model_module": "@jupyter-widgets/base",
          "model_module_version": "1.2.0",
          "model_name": "LayoutModel",
          "state": {
            "_model_module": "@jupyter-widgets/base",
            "_model_module_version": "1.2.0",
            "_model_name": "LayoutModel",
            "_view_count": null,
            "_view_module": "@jupyter-widgets/base",
            "_view_module_version": "1.2.0",
            "_view_name": "LayoutView",
            "align_content": null,
            "align_items": null,
            "align_self": null,
            "border": null,
            "bottom": null,
            "display": null,
            "flex": null,
            "flex_flow": null,
            "grid_area": null,
            "grid_auto_columns": null,
            "grid_auto_flow": null,
            "grid_auto_rows": null,
            "grid_column": null,
            "grid_gap": null,
            "grid_row": null,
            "grid_template_areas": null,
            "grid_template_columns": null,
            "grid_template_rows": null,
            "height": null,
            "justify_content": null,
            "justify_items": null,
            "left": null,
            "margin": null,
            "max_height": null,
            "max_width": null,
            "min_height": null,
            "min_width": null,
            "object_fit": null,
            "object_position": null,
            "order": null,
            "overflow": null,
            "overflow_x": null,
            "overflow_y": null,
            "padding": null,
            "right": null,
            "top": null,
            "visibility": null,
            "width": null
          }
        },
        "dc537de4d5034c72ae5e097dfa2d24d3": {
          "model_module": "@jupyter-widgets/controls",
          "model_module_version": "1.5.0",
          "model_name": "DescriptionStyleModel",
          "state": {
            "_model_module": "@jupyter-widgets/controls",
            "_model_module_version": "1.5.0",
            "_model_name": "DescriptionStyleModel",
            "_view_count": null,
            "_view_module": "@jupyter-widgets/base",
            "_view_module_version": "1.2.0",
            "_view_name": "StyleView",
            "description_width": ""
          }
        },
        "dcf37cd4a4c84387942dbf4434fbd1fb": {
          "model_module": "@jupyter-widgets/base",
          "model_module_version": "1.2.0",
          "model_name": "LayoutModel",
          "state": {
            "_model_module": "@jupyter-widgets/base",
            "_model_module_version": "1.2.0",
            "_model_name": "LayoutModel",
            "_view_count": null,
            "_view_module": "@jupyter-widgets/base",
            "_view_module_version": "1.2.0",
            "_view_name": "LayoutView",
            "align_content": null,
            "align_items": null,
            "align_self": null,
            "border": null,
            "bottom": null,
            "display": null,
            "flex": null,
            "flex_flow": null,
            "grid_area": null,
            "grid_auto_columns": null,
            "grid_auto_flow": null,
            "grid_auto_rows": null,
            "grid_column": null,
            "grid_gap": null,
            "grid_row": null,
            "grid_template_areas": null,
            "grid_template_columns": null,
            "grid_template_rows": null,
            "height": null,
            "justify_content": null,
            "justify_items": null,
            "left": null,
            "margin": null,
            "max_height": null,
            "max_width": null,
            "min_height": null,
            "min_width": null,
            "object_fit": null,
            "object_position": null,
            "order": null,
            "overflow": null,
            "overflow_x": null,
            "overflow_y": null,
            "padding": null,
            "right": null,
            "top": null,
            "visibility": null,
            "width": null
          }
        },
        "dec5d65ba1fb4548a695d26a40483061": {
          "model_module": "@jupyter-widgets/base",
          "model_module_version": "1.2.0",
          "model_name": "LayoutModel",
          "state": {
            "_model_module": "@jupyter-widgets/base",
            "_model_module_version": "1.2.0",
            "_model_name": "LayoutModel",
            "_view_count": null,
            "_view_module": "@jupyter-widgets/base",
            "_view_module_version": "1.2.0",
            "_view_name": "LayoutView",
            "align_content": null,
            "align_items": null,
            "align_self": null,
            "border": null,
            "bottom": null,
            "display": null,
            "flex": null,
            "flex_flow": null,
            "grid_area": null,
            "grid_auto_columns": null,
            "grid_auto_flow": null,
            "grid_auto_rows": null,
            "grid_column": null,
            "grid_gap": null,
            "grid_row": null,
            "grid_template_areas": null,
            "grid_template_columns": null,
            "grid_template_rows": null,
            "height": null,
            "justify_content": null,
            "justify_items": null,
            "left": null,
            "margin": null,
            "max_height": null,
            "max_width": null,
            "min_height": null,
            "min_width": null,
            "object_fit": null,
            "object_position": null,
            "order": null,
            "overflow": null,
            "overflow_x": null,
            "overflow_y": null,
            "padding": null,
            "right": null,
            "top": null,
            "visibility": null,
            "width": null
          }
        },
        "df6a2e0338c440798073c3193b29db7a": {
          "model_module": "@jupyter-widgets/controls",
          "model_module_version": "1.5.0",
          "model_name": "ProgressStyleModel",
          "state": {
            "_model_module": "@jupyter-widgets/controls",
            "_model_module_version": "1.5.0",
            "_model_name": "ProgressStyleModel",
            "_view_count": null,
            "_view_module": "@jupyter-widgets/base",
            "_view_module_version": "1.2.0",
            "_view_name": "StyleView",
            "bar_color": null,
            "description_width": ""
          }
        },
        "e29af9110e2f4bf5a1c87cbd4dfa0bc1": {
          "model_module": "@jupyter-widgets/controls",
          "model_module_version": "1.5.0",
          "model_name": "FloatProgressModel",
          "state": {
            "_dom_classes": [],
            "_model_module": "@jupyter-widgets/controls",
            "_model_module_version": "1.5.0",
            "_model_name": "FloatProgressModel",
            "_view_count": null,
            "_view_module": "@jupyter-widgets/controls",
            "_view_module_version": "1.5.0",
            "_view_name": "ProgressView",
            "bar_style": "success",
            "description": "",
            "description_tooltip": null,
            "layout": "IPY_MODEL_a1b4dabf9c0a4516afa31642eaa66098",
            "max": 659,
            "min": 0,
            "orientation": "horizontal",
            "style": "IPY_MODEL_4dea4317d387490b93ea0d6d201dcb4c",
            "value": 659
          }
        },
        "eb863697a2024a4292336fc68af03bfa": {
          "model_module": "@jupyter-widgets/base",
          "model_module_version": "1.2.0",
          "model_name": "LayoutModel",
          "state": {
            "_model_module": "@jupyter-widgets/base",
            "_model_module_version": "1.2.0",
            "_model_name": "LayoutModel",
            "_view_count": null,
            "_view_module": "@jupyter-widgets/base",
            "_view_module_version": "1.2.0",
            "_view_name": "LayoutView",
            "align_content": null,
            "align_items": null,
            "align_self": null,
            "border": null,
            "bottom": null,
            "display": null,
            "flex": null,
            "flex_flow": null,
            "grid_area": null,
            "grid_auto_columns": null,
            "grid_auto_flow": null,
            "grid_auto_rows": null,
            "grid_column": null,
            "grid_gap": null,
            "grid_row": null,
            "grid_template_areas": null,
            "grid_template_columns": null,
            "grid_template_rows": null,
            "height": null,
            "justify_content": null,
            "justify_items": null,
            "left": null,
            "margin": null,
            "max_height": null,
            "max_width": null,
            "min_height": null,
            "min_width": null,
            "object_fit": null,
            "object_position": null,
            "order": null,
            "overflow": null,
            "overflow_x": null,
            "overflow_y": null,
            "padding": null,
            "right": null,
            "top": null,
            "visibility": null,
            "width": null
          }
        },
        "f13accc63a0149d79719ebe1194077bb": {
          "model_module": "@jupyter-widgets/controls",
          "model_module_version": "1.5.0",
          "model_name": "DescriptionStyleModel",
          "state": {
            "_model_module": "@jupyter-widgets/controls",
            "_model_module_version": "1.5.0",
            "_model_name": "DescriptionStyleModel",
            "_view_count": null,
            "_view_module": "@jupyter-widgets/base",
            "_view_module_version": "1.2.0",
            "_view_name": "StyleView",
            "description_width": ""
          }
        },
        "f3639c1245874e91b926435ec2fbb64b": {
          "model_module": "@jupyter-widgets/controls",
          "model_module_version": "1.5.0",
          "model_name": "HTMLModel",
          "state": {
            "_dom_classes": [],
            "_model_module": "@jupyter-widgets/controls",
            "_model_module_version": "1.5.0",
            "_model_name": "HTMLModel",
            "_view_count": null,
            "_view_module": "@jupyter-widgets/controls",
            "_view_module_version": "1.5.0",
            "_view_name": "HTMLView",
            "description": "",
            "description_tooltip": null,
            "layout": "IPY_MODEL_dcf37cd4a4c84387942dbf4434fbd1fb",
            "placeholder": "​",
            "style": "IPY_MODEL_7976d75622934f828e4a20b9b8d7c02d",
            "value": "merges.txt: 100%"
          }
        },
        "f420f1d0d3594b0a9bdbf36b38764b65": {
          "model_module": "@jupyter-widgets/controls",
          "model_module_version": "1.5.0",
          "model_name": "DescriptionStyleModel",
          "state": {
            "_model_module": "@jupyter-widgets/controls",
            "_model_module_version": "1.5.0",
            "_model_name": "DescriptionStyleModel",
            "_view_count": null,
            "_view_module": "@jupyter-widgets/base",
            "_view_module_version": "1.2.0",
            "_view_name": "StyleView",
            "description_width": ""
          }
        },
        "f4c717a1c07d482abe3dbef48c97b84b": {
          "model_module": "@jupyter-widgets/base",
          "model_module_version": "1.2.0",
          "model_name": "LayoutModel",
          "state": {
            "_model_module": "@jupyter-widgets/base",
            "_model_module_version": "1.2.0",
            "_model_name": "LayoutModel",
            "_view_count": null,
            "_view_module": "@jupyter-widgets/base",
            "_view_module_version": "1.2.0",
            "_view_name": "LayoutView",
            "align_content": null,
            "align_items": null,
            "align_self": null,
            "border": null,
            "bottom": null,
            "display": null,
            "flex": null,
            "flex_flow": null,
            "grid_area": null,
            "grid_auto_columns": null,
            "grid_auto_flow": null,
            "grid_auto_rows": null,
            "grid_column": null,
            "grid_gap": null,
            "grid_row": null,
            "grid_template_areas": null,
            "grid_template_columns": null,
            "grid_template_rows": null,
            "height": null,
            "justify_content": null,
            "justify_items": null,
            "left": null,
            "margin": null,
            "max_height": null,
            "max_width": null,
            "min_height": null,
            "min_width": null,
            "object_fit": null,
            "object_position": null,
            "order": null,
            "overflow": null,
            "overflow_x": null,
            "overflow_y": null,
            "padding": null,
            "right": null,
            "top": null,
            "visibility": null,
            "width": null
          }
        },
        "ff570ee6465b40c390679e8c466743ca": {
          "model_module": "@jupyter-widgets/controls",
          "model_module_version": "1.5.0",
          "model_name": "HTMLModel",
          "state": {
            "_dom_classes": [],
            "_model_module": "@jupyter-widgets/controls",
            "_model_module_version": "1.5.0",
            "_model_name": "HTMLModel",
            "_view_count": null,
            "_view_module": "@jupyter-widgets/controls",
            "_view_module_version": "1.5.0",
            "_view_name": "HTMLView",
            "description": "",
            "description_tooltip": null,
            "layout": "IPY_MODEL_430d3a1e942e481e99705ea6526b1f18",
            "placeholder": "​",
            "style": "IPY_MODEL_1d6f20f9f68d474b9f2cbca98185af10",
            "value": " 659/659 [00:00&lt;00:00, 71.1kB/s]"
          }
        }
      }
    }
  },
  "nbformat": 4,
  "nbformat_minor": 0
}
